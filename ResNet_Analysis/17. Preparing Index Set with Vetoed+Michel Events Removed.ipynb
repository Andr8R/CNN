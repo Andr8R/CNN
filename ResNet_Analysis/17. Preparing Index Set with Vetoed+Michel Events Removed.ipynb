{
 "cells": [
  {
   "cell_type": "code",
   "execution_count": 27,
   "metadata": {},
   "outputs": [
    {
     "name": "stdout",
     "output_type": "stream",
     "text": [
      "The autoreload extension is already loaded. To reload it, use:\n",
      "  %reload_ext autoreload\n"
     ]
    }
   ],
   "source": [
    "import sys\n",
    "import os\n",
    "import h5py\n",
    "from collections import Counter\n",
    "from progressbar import *\n",
    "import re\n",
    "import numpy as np\n",
    "import h5py\n",
    "from scipy import signal\n",
    "import matplotlib\n",
    "from repeating_classifier_training_utils import *\n",
    "from functools import reduce\n",
    "from tqdm import tqdm\n",
    "\n",
    "# Add the path to the parent directory to augment search for module\n",
    "par_dir = os.path.abspath(os.path.join(os.getcwd(), os.pardir))\n",
    "\n",
    "if par_dir not in sys.path:\n",
    "    sys.path.append(par_dir)\n",
    "%load_ext autoreload\n",
    "%matplotlib inline\n",
    "%autoreload 2\n",
    "index_path = os.path.join(os.getcwd(), 'Index_Storage')"
   ]
  },
  {
   "cell_type": "code",
   "execution_count": 55,
   "metadata": {},
   "outputs": [],
   "source": [
    "veto_path = '/fast_scratch/WatChMaL/data/IWCDmPMT_4pm_full_tank_ODveto.h5'\n",
    "odv_file = h5py.File(veto_path,'r')\n",
    "odv_info = {}\n",
    "for key in odv_file.keys():\n",
    "    odv_info[key] = np.array(odv_file[key])"
   ]
  },
  {
   "cell_type": "code",
   "execution_count": 56,
   "metadata": {},
   "outputs": [
    {
     "name": "stderr",
     "output_type": "stream",
     "text": [
      "Update Muon Values Dictionary: 100% [000000000000000000000000000] Time: 0:00:17\n"
     ]
    }
   ],
   "source": [
    "veto_dic = {}\n",
    "\n",
    "pbar = ProgressBar(widgets=['Update Muon Values Dictionary: ', Percentage(), ' ', Bar(marker='0',left='[',right=']'),\n",
    "           ' ', ETA()], maxval=len(odv_info['veto']))\n",
    "pbar.start()\n",
    "for i, veto in enumerate(odv_info['veto']):\n",
    "    veto_dic[odv_info['root_files'][i], odv_info['event_ids'][i]] = veto\n",
    "    pbar.update(i)\n",
    "pbar.finish()"
   ]
  },
  {
   "cell_type": "code",
   "execution_count": 4,
   "metadata": {},
   "outputs": [
    {
     "data": {
      "text/plain": [
       "3130629"
      ]
     },
     "execution_count": 4,
     "metadata": {},
     "output_type": "execute_result"
    }
   ],
   "source": [
    "np.where(np.array(list(veto_dic.values()))==1)[0].shape[0]"
   ]
  },
  {
   "cell_type": "code",
   "execution_count": 57,
   "metadata": {},
   "outputs": [],
   "source": [
    "mv_path = '/fast_scratch/WatChMaL/data/michels.h5'"
   ]
  },
  {
   "cell_type": "code",
   "execution_count": 58,
   "metadata": {},
   "outputs": [],
   "source": [
    "mv_file = h5py.File(mv_path,'r')\n",
    "mv_info = {}\n",
    "for key in mv_file.keys():\n",
    "    mv_info[key] = np.array(mv_file[key])"
   ]
  },
  {
   "cell_type": "code",
   "execution_count": 59,
   "metadata": {},
   "outputs": [
    {
     "name": "stderr",
     "output_type": "stream",
     "text": [
      "Update Muon Values Dictionary: 100% [000000000000000000000000000] Time: 0:00:14\n"
     ]
    }
   ],
   "source": [
    "pbar = ProgressBar(widgets=['Update Muon Values Dictionary: ', Percentage(), ' ', Bar(marker='0',left='[',right=']'),\n",
    "           ' ', ETA()], maxval=len(mv_info['event_ids']))\n",
    "pbar.start()\n",
    "for i, is_michel in enumerate(mv_info['is_michel']):\n",
    "    key = (mv_info['root_files'][i], mv_info['event_ids'][i])\n",
    "    veto_dic[key] = 1 if (is_michel or veto_dic[key]==1) else 0\n",
    "    pbar.update(i)\n",
    "pbar.finish()"
   ]
  },
  {
   "cell_type": "code",
   "execution_count": 11,
   "metadata": {},
   "outputs": [
    {
     "data": {
      "text/plain": [
       "3172563"
      ]
     },
     "execution_count": 11,
     "metadata": {},
     "output_type": "execute_result"
    }
   ],
   "source": [
    "np.where(np.array(list(veto_dic.values()))==1)[0].shape[0]"
   ]
  },
  {
   "cell_type": "code",
   "execution_count": 35,
   "metadata": {},
   "outputs": [],
   "source": [
    "event_data_file = h5py.File('/fast_scratch/WatChMaL/data/IWCDmPMT_4pi_full_tank_pointnet.h5','r')\n",
    "\n",
    "dset_root_files = event_data_file['root_files']\n",
    "dset_event_ids = event_data_file['event_ids']\n",
    "dset_labels = event_data_file['labels']"
   ]
  },
  {
   "cell_type": "code",
   "execution_count": 65,
   "metadata": {},
   "outputs": [],
   "source": [
    "idx_file = np.load('/fast_scratch/WatChMaL/data/IWCD_fulltank_300_pe_idxs.npz', allow_pickle=True)\n",
    "test_idxs = idx_file['test_idxs']\n",
    "train_idxs = idx_file['train_idxs']\n",
    "val_idxs = idx_file['val_idxs']"
   ]
  },
  {
   "cell_type": "code",
   "execution_count": 14,
   "metadata": {},
   "outputs": [
    {
     "name": "stderr",
     "output_type": "stream",
     "text": [
      "100%|██████████| 3351020/3351020 [18:53<00:00, 2955.53it/s]\n"
     ]
    }
   ],
   "source": [
    "test_veto = np.array([veto_dic[(dset_root_files[idx], dset_event_ids[idx])] for idx in tqdm(test_idxs)])"
   ]
  },
  {
   "cell_type": "code",
   "execution_count": 15,
   "metadata": {},
   "outputs": [
    {
     "name": "stderr",
     "output_type": "stream",
     "text": [
      "100%|██████████| 4188774/4188774 [23:45<00:00, 2938.90it/s]\n"
     ]
    }
   ],
   "source": [
    "train_veto = np.array([veto_dic[(dset_root_files[idx], dset_event_ids[idx])] for idx in tqdm(train_idxs)])"
   ]
  },
  {
   "cell_type": "code",
   "execution_count": 16,
   "metadata": {},
   "outputs": [
    {
     "name": "stderr",
     "output_type": "stream",
     "text": [
      "100%|██████████| 837754/837754 [04:36<00:00, 3026.56it/s]\n"
     ]
    }
   ],
   "source": [
    "val_veto = np.array([veto_dic[(dset_root_files[idx], dset_event_ids[idx])] for idx in tqdm(val_idxs)])"
   ]
  },
  {
   "cell_type": "code",
   "execution_count": 77,
   "metadata": {},
   "outputs": [],
   "source": [
    "assert val_veto.shape[0] == val_idxs.shape[0]\n",
    "assert train_veto.shape[0] == train_idxs.shape[0]\n",
    "assert test_veto.shape[0] == test_idxs.shape[0]"
   ]
  },
  {
   "cell_type": "code",
   "execution_count": 18,
   "metadata": {},
   "outputs": [],
   "source": [
    "post_veto_test_idxs=test_idxs[np.where(test_veto==0)[0]]\n",
    "post_veto_train_idxs=train_idxs[np.where(train_veto==0)[0]]\n",
    "post_veto_val_idxs=val_idxs[np.where(val_veto==0)[0]]"
   ]
  },
  {
   "cell_type": "code",
   "execution_count": 19,
   "metadata": {},
   "outputs": [],
   "source": [
    "np.savez('/fast_scratch/WatChMaL/data/IWCD_fulltank_300_post_veto_nomichel_pe_idxs.npz', train_idxs=post_veto_train_idxs, test_idxs=post_veto_test_idxs, val_idxs=post_veto_val_idxs)"
   ]
  },
  {
   "cell_type": "code",
   "execution_count": 20,
   "metadata": {},
   "outputs": [],
   "source": [
    "event_data_file.close()"
   ]
  },
  {
   "cell_type": "markdown",
   "metadata": {},
   "source": [
    "## Check"
   ]
  },
  {
   "cell_type": "code",
   "execution_count": 68,
   "metadata": {},
   "outputs": [],
   "source": [
    "post_veto_idx_file = np.load('/fast_scratch/WatChMaL/data/IWCD_fulltank_300_post_veto_nomichel_pe_idxs.npz',allow_pickle=True)\n",
    "post_veto_test_idxs=post_veto_idx_file['test_idxs']\n",
    "post_veto_train_idxs=post_veto_idx_file['train_idxs']\n",
    "post_veto_val_idxs=post_veto_idx_file['val_idxs']"
   ]
  },
  {
   "cell_type": "code",
   "execution_count": 42,
   "metadata": {},
   "outputs": [
    {
     "name": "stderr",
     "output_type": "stream",
     "text": [
      "Update Muon Values Dictionary: 100% [000000000000000000000000000] Time: 0:00:17\n"
     ]
    }
   ],
   "source": [
    "odv_dic = {}\n",
    "\n",
    "pbar = ProgressBar(widgets=['Update Muon Values Dictionary: ', Percentage(), ' ', Bar(marker='0',left='[',right=']'),\n",
    "           ' ', ETA()], maxval=len(odv_info['veto']))\n",
    "pbar.start()\n",
    "for i, veto in enumerate(odv_info['veto']):\n",
    "    odv_dic[odv_info['root_files'][i], odv_info['event_ids'][i]] = veto\n",
    "    pbar.update(i)\n",
    "pbar.finish()"
   ]
  },
  {
   "cell_type": "code",
   "execution_count": 33,
   "metadata": {},
   "outputs": [
    {
     "name": "stderr",
     "output_type": "stream",
     "text": [
      "Update Muon Values Dictionary: 100% [000000000000000000000000000] Time: 0:00:07\n"
     ]
    }
   ],
   "source": [
    "mv_dic = {}\n",
    "\n",
    "pbar = ProgressBar(widgets=['Update Muon Values Dictionary: ', Percentage(), ' ', Bar(marker='0',left='[',right=']'),\n",
    "           ' ', ETA()], maxval=len(mv_info['is_michel']))\n",
    "pbar.start()\n",
    "for i, veto in enumerate(mv_info['is_michel']):\n",
    "    mv_dic[mv_info['root_files'][i], mv_info['event_ids'][i]] = 1 if veto else 0\n",
    "    pbar.update(i)\n",
    "pbar.finish()"
   ]
  },
  {
   "cell_type": "code",
   "execution_count": 45,
   "metadata": {},
   "outputs": [
    {
     "name": "stderr",
     "output_type": "stream",
     "text": [
      "Checking Set Vetoes: 100% [0000000000000000000000000000000000000] Time: 0:15:05\n",
      "Checking Set Vetoes: 100% [0000000000000000000000000000000000000] Time: 0:03:35\n",
      "Checking Set Vetoes: 100% [0000000000000000000000000000000000000] Time: 0:17:51\n"
     ]
    }
   ],
   "source": [
    "for set_idxs in [post_veto_test_idxs, post_veto_val_idxs, post_veto_train_idxs]:\n",
    "    pbar = ProgressBar(widgets=['Checking Set Vetoes: ', Percentage(), ' ', Bar(marker='0',left='[',right=']'),\n",
    "           ' ', ETA()], maxval=len(set_idxs))\n",
    "    pbar.start()\n",
    "    for i,idx in enumerate(set_idxs):\n",
    "        pbar.update(i)\n",
    "        key=(dset_root_files[idx], dset_event_ids[idx])\n",
    "        assert odv_dic[key]==0\n",
    "        if dset_labels[idx]==2:\n",
    "            assert mv_dic[key]==0\n",
    "    pbar.finish()"
   ]
  },
  {
   "cell_type": "code",
   "execution_count": 66,
   "metadata": {},
   "outputs": [
    {
     "data": {
      "text/plain": [
       "8377548"
      ]
     },
     "execution_count": 66,
     "metadata": {},
     "output_type": "execute_result"
    }
   ],
   "source": [
    "len(test_idxs) + len(train_idxs)+len(val_idxs)"
   ]
  },
  {
   "cell_type": "code",
   "execution_count": 78,
   "metadata": {},
   "outputs": [
    {
     "data": {
      "text/plain": [
       "8377548"
      ]
     },
     "execution_count": 78,
     "metadata": {},
     "output_type": "execute_result"
    }
   ],
   "source": [
    "len(post_veto_test_idxs)+len(post_veto_val_idxs) + len(post_veto_train_idxs)+ np.where(val_veto==True)[0].shape[0] + np.where(test_veto==True)[0].shape[0]+np.where(train_veto==True)[0].shape[0]"
   ]
  },
  {
   "cell_type": "code",
   "execution_count": 82,
   "metadata": {},
   "outputs": [],
   "source": [
    "assert len(post_veto_test_idxs) + np.where(test_veto==True)[0].shape[0] == len(test_idxs)\n",
    "assert len(post_veto_val_idxs) + np.where(val_veto==True)[0].shape[0] == len(val_idxs)\n",
    "assert len(post_veto_train_idxs) + np.where(train_veto==True)[0].shape[0] == len(train_idxs)"
   ]
  },
  {
   "cell_type": "code",
   "execution_count": null,
   "metadata": {},
   "outputs": [],
   "source": []
  }
 ],
 "metadata": {
  "kernelspec": {
   "display_name": "Python 3",
   "language": "python",
   "name": "python3"
  },
  "language_info": {
   "codemirror_mode": {
    "name": "ipython",
    "version": 3
   },
   "file_extension": ".py",
   "mimetype": "text/x-python",
   "name": "python",
   "nbconvert_exporter": "python",
   "pygments_lexer": "ipython3",
   "version": "3.6.9"
  }
 },
 "nbformat": 4,
 "nbformat_minor": 4
}
