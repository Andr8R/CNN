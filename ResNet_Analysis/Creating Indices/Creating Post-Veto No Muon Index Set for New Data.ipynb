{
 "cells": [
  {
   "cell_type": "code",
   "execution_count": 1,
   "metadata": {},
   "outputs": [],
   "source": [
    "import sys\n",
    "import os\n",
    "import h5py\n",
    "from collections import Counter\n",
    "from progressbar import *\n",
    "import re\n",
    "import numpy as np\n",
    "import h5py\n",
    "from scipy import signal\n",
    "import matplotlib\n",
    "from functools import reduce\n",
    "import math\n",
    "\n",
    "# Add the path to the parent directory to augment search for module\n",
    "par_dir = os.path.abspath(os.path.join(os.getcwd(), os.pardir))\n",
    "parpar_dir = os.path.abspath(os.path.join(par_dir, os.pardir))\n",
    "\n",
    "if par_dir not in sys.path:\n",
    "    sys.path.append(par_dir)\n",
    "if parpar_dir not in sys.path:\n",
    "    sys.path.append(parpar_dir)\n",
    "    \n",
    "from repeating_classifier_training_utils import *\n",
    "    \n",
    "%load_ext autoreload\n",
    "%matplotlib inline\n",
    "%autoreload 2\n",
    "index_path = os.path.join(os.getcwd(), 'Index_Storage')"
   ]
  },
  {
   "cell_type": "code",
   "execution_count": 3,
   "metadata": {},
   "outputs": [],
   "source": [
    "f_path = '/fast_scratch/WatChMaL/data/IWCDmPMT_4pi_full_tank_extra.h5'\n",
    "f = h5py.File(f_path,'r')\n",
    "labels = np.array(f[\"labels\"])\n",
    "keys = ['train_idxs', 'val_idxs', 'test_idxs']\n",
    "idxs={}\n",
    "idx_file=np.load('/fast_scratch/WatChMaL/data/IWCD_fulltank_300_post_veto_pe_idxs_extra.npz', allow_pickle=True)\n",
    "for key in keys:\n",
    "    idxs[key]=idx_file[key]"
   ]
  },
  {
   "cell_type": "code",
   "execution_count": 5,
   "metadata": {},
   "outputs": [],
   "source": [
    "new_idxs = {}\n",
    "for key in keys:\n",
    "    keep_idxs = []\n",
    "    for idx in idxs[key]:\n",
    "        if labels[idx]!=2:\n",
    "            keep_idxs.append(idx)\n",
    "    new_idxs[key]=keep_idxs"
   ]
  },
  {
   "cell_type": "code",
   "execution_count": 7,
   "metadata": {},
   "outputs": [],
   "source": [
    "for key in keys:\n",
    "    assert len(new_idxs[key])+len(np.where(labels[idxs[key]]==2)[0])==len(idxs[key])"
   ]
  },
  {
   "cell_type": "code",
   "execution_count": 8,
   "metadata": {},
   "outputs": [],
   "source": [
    "np.savez('/fast_scratch/WatChMaL/data/IWCD_fulltank_300_post_veto_pe_idxs_extra_nomuons.npz', train_idxs=new_idxs['train_idxs'],val_idxs=new_idxs['val_idxs'], test_idxs=new_idxs['test_idxs'])"
   ]
  }
 ],
 "metadata": {
  "kernelspec": {
   "display_name": "Python 3",
   "language": "python",
   "name": "python3"
  },
  "language_info": {
   "codemirror_mode": {
    "name": "ipython",
    "version": 3
   },
   "file_extension": ".py",
   "mimetype": "text/x-python",
   "name": "python",
   "nbconvert_exporter": "python",
   "pygments_lexer": "ipython3",
   "version": "3.6.9"
  }
 },
 "nbformat": 4,
 "nbformat_minor": 4
}
