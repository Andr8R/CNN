{
 "cells": [
  {
   "cell_type": "markdown",
   "metadata": {},
   "source": [
    "# Incorporating Michel Veto Data"
   ]
  },
  {
   "cell_type": "code",
   "execution_count": 1,
   "metadata": {},
   "outputs": [],
   "source": [
    "import sys\n",
    "import os\n",
    "import h5py\n",
    "from collections import Counter\n",
    "from progressbar import *\n",
    "import re\n",
    "import numpy as np\n",
    "import h5py\n",
    "from scipy import signal\n",
    "import matplotlib\n",
    "from repeating_classifier_training_utils import *\n",
    "from functools import reduce\n",
    "\n",
    "# Add the path to the parent directory to augment search for module\n",
    "par_dir = os.path.abspath(os.path.join(os.getcwd(), os.pardir))\n",
    "\n",
    "if par_dir not in sys.path:\n",
    "    sys.path.append(par_dir)\n",
    "%load_ext autoreload\n",
    "%matplotlib inline\n",
    "%autoreload 2"
   ]
  },
  {
   "cell_type": "code",
   "execution_count": 2,
   "metadata": {},
   "outputs": [],
   "source": [
    "veto_path = '/fast_scratch/WatChMaL/data/michels.h5'"
   ]
  },
  {
   "cell_type": "code",
   "execution_count": 4,
   "metadata": {},
   "outputs": [],
   "source": [
    "mv_file = h5py.File(veto_path,'r')\n",
    "mv_info = {}\n",
    "for key in mv_file.keys():\n",
    "    mv_info[key] = np.array(mv_file[key])"
   ]
  },
  {
   "cell_type": "code",
   "execution_count": 8,
   "metadata": {},
   "outputs": [
    {
     "data": {
      "text/plain": [
       "dict_keys(['event_ids', 'is_michel', 'root_files'])"
      ]
     },
     "execution_count": 8,
     "metadata": {},
     "output_type": "execute_result"
    }
   ],
   "source": [
    "mv_info.keys()"
   ]
  },
  {
   "cell_type": "code",
   "execution_count": 7,
   "metadata": {},
   "outputs": [
    {
     "data": {
      "text/plain": [
       "(3000000,)"
      ]
     },
     "execution_count": 7,
     "metadata": {},
     "output_type": "execute_result"
    }
   ],
   "source": [
    "mv_info['is_michel'].shape"
   ]
  },
  {
   "cell_type": "markdown",
   "metadata": {},
   "source": [
    "## Load test set"
   ]
  },
  {
   "cell_type": "code",
   "execution_count": 9,
   "metadata": {},
   "outputs": [],
   "source": [
    "# Get original h5 file info\n",
    "# Import test events from h5 file\n",
    "filtered_index = \"/fast_scratch/WatChMaL/data/IWCD_fulltank_300_pe_idxs.npz\"\n",
    "filtered_indices = np.load(filtered_index, allow_pickle=True)\n",
    "test_filtered_indices = filtered_indices['test_idxs']\n",
    "\n",
    "original_data_path = \"/data/WatChMaL/data/IWCDmPMT_4pi_fulltank_9M.h5\"\n",
    "f = h5py.File(original_data_path, \"r\")\n",
    "\n",
    "original_eventids = np.array(f['event_ids'])\n",
    "original_rootfiles = np.array(f['root_files'])\n",
    "\n",
    "filtered_eventids = original_eventids[test_filtered_indices]\n",
    "filtered_rootfiles = original_rootfiles[test_filtered_indices]"
   ]
  },
  {
   "cell_type": "code",
   "execution_count": 14,
   "metadata": {},
   "outputs": [
    {
     "data": {
      "text/plain": [
       "(3351020,)"
      ]
     },
     "execution_count": 14,
     "metadata": {},
     "output_type": "execute_result"
    }
   ],
   "source": [
    "filtered_eventids.shape"
   ]
  },
  {
   "cell_type": "code",
   "execution_count": 28,
   "metadata": {},
   "outputs": [
    {
     "name": "stderr",
     "output_type": "stream",
     "text": [
      "Creating All-False Dictionary: 100% [000000000000000000000000000] Time: 0:00:08\n"
     ]
    }
   ],
   "source": [
    "mv_dict = {}\n",
    "pbar = ProgressBar(widgets=['Creating All-False Dictionary: ', Percentage(), ' ', Bar(marker='0',left='[',right=']'),\n",
    "           ' ', ETA()], maxval=len(filtered_eventids))\n",
    "pbar.start()\n",
    "for i in range(len(filtered_eventids)):\n",
    "    mv_dict[(filtered_rootfiles[i], filtered_eventids[i])] = False\n",
    "    pbar.update(i)\n",
    "pbar.finish()"
   ]
  },
  {
   "cell_type": "code",
   "execution_count": 29,
   "metadata": {},
   "outputs": [
    {
     "name": "stderr",
     "output_type": "stream",
     "text": [
      "Update Muon Values Dictionary: 100% [000000000000000000000000000] Time: 0:00:07\n"
     ]
    }
   ],
   "source": [
    "pbar = ProgressBar(widgets=['Update Muon Values Dictionary: ', Percentage(), ' ', Bar(marker='0',left='[',right=']'),\n",
    "           ' ', ETA()], maxval=len(mv_info['event_ids']))\n",
    "pbar.start()\n",
    "for i, is_michel in enumerate(mv_info['is_michel']):\n",
    "    mv_dict[(mv_info['root_files'][i], mv_info['event_ids'][i])] = is_michel\n",
    "    pbar.update(i)\n",
    "pbar.finish()"
   ]
  },
  {
   "cell_type": "code",
   "execution_count": 31,
   "metadata": {},
   "outputs": [
    {
     "name": "stderr",
     "output_type": "stream",
     "text": [
      "Creating Veto Array: 100% [0000000000000000000000000000000000000] Time: 0:00:08\n"
     ]
    }
   ],
   "source": [
    "test_set_mv = []\n",
    "pbar = ProgressBar(widgets=['Creating Veto Array: ', Percentage(), ' ', Bar(marker='0',left='[',right=']'),\n",
    "           ' ', ETA()], maxval=len(filtered_rootfiles))\n",
    "pbar.start()\n",
    "for i in range(len(filtered_eventids)):\n",
    "    test_set_mv.append(mv_dict[(filtered_rootfiles[i], filtered_eventids[i])])\n",
    "    pbar.update(i)\n",
    "pbar.finish()"
   ]
  },
  {
   "cell_type": "code",
   "execution_count": 34,
   "metadata": {},
   "outputs": [
    {
     "data": {
      "text/plain": [
       "3351020"
      ]
     },
     "execution_count": 34,
     "metadata": {},
     "output_type": "execute_result"
    }
   ],
   "source": [
    "len(test_set_mv)"
   ]
  },
  {
   "cell_type": "code",
   "execution_count": 35,
   "metadata": {},
   "outputs": [],
   "source": [
    "np.savez(os.path.join(os.getcwd(), 'Index_Storage/test_set_michel_veto.npz'), michel_veto=test_set_mv)"
   ]
  },
  {
   "cell_type": "code",
   "execution_count": null,
   "metadata": {},
   "outputs": [],
   "source": []
  }
 ],
 "metadata": {
  "kernelspec": {
   "display_name": "Python 3",
   "language": "python",
   "name": "python3"
  },
  "language_info": {
   "codemirror_mode": {
    "name": "ipython",
    "version": 3
   },
   "file_extension": ".py",
   "mimetype": "text/x-python",
   "name": "python",
   "nbconvert_exporter": "python",
   "pygments_lexer": "ipython3",
   "version": "3.6.9"
  }
 },
 "nbformat": 4,
 "nbformat_minor": 4
}
