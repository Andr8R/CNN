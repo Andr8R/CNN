{
 "cells": [
  {
   "cell_type": "code",
   "execution_count": 1,
   "metadata": {},
   "outputs": [],
   "source": [
    "import sys\n",
    "import os\n",
    "import h5py\n",
    "from collections import Counter\n",
    "from progressbar import *\n",
    "import re\n",
    "import numpy as np\n",
    "import h5py\n",
    "from scipy import signal\n",
    "import matplotlib\n",
    "\n",
    "from functools import reduce\n",
    "from tqdm import tqdm\n",
    "\n",
    "# Add the path to the parent directory to augment search for module\n",
    "par_dir = os.path.abspath(os.path.join(os.getcwd(), os.pardir))\n",
    "\n",
    "if par_dir not in sys.path:\n",
    "    sys.path.append(par_dir)\n",
    "    \n",
    "from repeating_classifier_training_utils import *\n",
    "    \n",
    "%load_ext autoreload\n",
    "%matplotlib inline\n",
    "%autoreload 2\n",
    "index_path = os.path.join(os.getcwd(), 'Index_Storage')"
   ]
  },
  {
   "cell_type": "code",
   "execution_count": 6,
   "metadata": {},
   "outputs": [],
   "source": [
    "veto_path = '/fast_scratch/WatChMaL/data/od_veto_extra.h5'\n",
    "odv_file = h5py.File(veto_path,'r')\n",
    "odv_info = {}\n",
    "for key in odv_file.keys():\n",
    "    odv_info[key] = np.array(odv_file[key])"
   ]
  },
  {
   "cell_type": "code",
   "execution_count": 7,
   "metadata": {},
   "outputs": [
    {
     "name": "stderr",
     "output_type": "stream",
     "text": [
      "21000000it [00:34, 614691.70it/s]\n"
     ]
    }
   ],
   "source": [
    "veto_dic = {}\n",
    "for i, veto in tqdm(enumerate(odv_info['veto'])):\n",
    "    veto_dic[odv_info['root_files'][i], odv_info['event_ids'][i]] = veto"
   ]
  },
  {
   "cell_type": "code",
   "execution_count": 13,
   "metadata": {},
   "outputs": [],
   "source": [
    "event_data_file = h5py.File('/fast_scratch/WatChMaL/data/IWCDmPMT_4pi_full_tank_extra.h5','r')\n",
    "\n",
    "dset_root_files = event_data_file['root_files']\n",
    "dset_event_ids = event_data_file['event_ids']"
   ]
  },
  {
   "cell_type": "code",
   "execution_count": 14,
   "metadata": {},
   "outputs": [],
   "source": [
    "idx_file = np.load('/fast_scratch/WatChMaL/data/IWCD_fulltank_300_pe_idxs_extra.npz', allow_pickle=True)\n",
    "test_idxs = idx_file['test_idxs']\n",
    "train_idxs = idx_file['train_idxs']\n",
    "val_idxs = idx_file['val_idxs']"
   ]
  },
  {
   "cell_type": "code",
   "execution_count": 16,
   "metadata": {},
   "outputs": [
    {
     "name": "stderr",
     "output_type": "stream",
     "text": [
      "100%|██████████| 3351020/3351020 [21:02<00:00, 2654.01it/s]\n"
     ]
    }
   ],
   "source": [
    "test_veto = np.array([veto_dic[(dset_root_files[idx], dset_event_ids[idx])] for idx in tqdm(test_idxs)])"
   ]
  },
  {
   "cell_type": "code",
   "execution_count": null,
   "metadata": {},
   "outputs": [
    {
     "name": "stderr",
     "output_type": "stream",
     "text": [
      " 62%|██████▏   | 8946407/14319087 [51:39<24:58, 3584.59it/s]  "
     ]
    }
   ],
   "source": [
    "train_veto = np.array([veto_dic[(dset_root_files[idx], dset_event_ids[idx])] for idx in tqdm(train_idxs)])"
   ]
  },
  {
   "cell_type": "code",
   "execution_count": null,
   "metadata": {},
   "outputs": [],
   "source": [
    "val_veto = np.array([veto_dic[(dset_root_files[idx], dset_event_ids[idx])] for idx in tqdm(val_idxs)])"
   ]
  },
  {
   "cell_type": "code",
   "execution_count": null,
   "metadata": {},
   "outputs": [],
   "source": [
    "assert val_veto.shape[0] == val_idxs.shape[0]\n",
    "assert train_veto.shape[0] == train_idxs.shape[0]\n",
    "assert test_veto.shape[0] == test_idxs.shape[0]"
   ]
  },
  {
   "cell_type": "code",
   "execution_count": null,
   "metadata": {},
   "outputs": [],
   "source": [
    "post_veto_test_idxs=test_idxs[np.where(test_veto==0)[0]]\n",
    "post_veto_train_idxs=train_idxs[np.where(train_veto==0)[0]]\n",
    "post_veto_val_idxs=val_idxs[np.where(val_veto==0)[0]]"
   ]
  },
  {
   "cell_type": "code",
   "execution_count": null,
   "metadata": {},
   "outputs": [],
   "source": [
    "np.savez('/fast_scratch/WatChMaL/data/IWCD_fulltank_300_post_veto_pe_idxs_extra.npz', train_idxs=post_veto_train_idxs, test_idxs=post_veto_test_idxs, val_idxs=post_veto_val_idxs)"
   ]
  },
  {
   "cell_type": "code",
   "execution_count": null,
   "metadata": {},
   "outputs": [],
   "source": [
    "event_data_file.close()"
   ]
  },
  {
   "cell_type": "code",
   "execution_count": 4,
   "metadata": {},
   "outputs": [],
   "source": [
    "post_veto_idx_file = np.load('/fast_scratch/WatChMaL/data/IWCD_fulltank_300_post_veto_pe_idxs.npz',allow_pickle=True)\n",
    "post_veto_test_idxs=post_veto_idx_file['test_idxs']\n",
    "post_veto_train_idxs=post_veto_idx_file['train_idxs']\n",
    "post_veto_val_idxs=post_veto_idx_file['val_idxs']"
   ]
  },
  {
   "cell_type": "code",
   "execution_count": 26,
   "metadata": {},
   "outputs": [
    {
     "data": {
      "text/plain": [
       "3130629"
      ]
     },
     "execution_count": 26,
     "metadata": {},
     "output_type": "execute_result"
    }
   ],
   "source": [
    "np.where(odv_info['veto']==1)[0].shape[0]"
   ]
  },
  {
   "cell_type": "code",
   "execution_count": 28,
   "metadata": {},
   "outputs": [
    {
     "data": {
      "text/plain": [
       "2783840"
      ]
     },
     "execution_count": 28,
     "metadata": {},
     "output_type": "execute_result"
    }
   ],
   "source": [
    "-(post_veto_train_idxs.shape[0] +post_veto_test_idxs.shape[0] + post_veto_val_idxs.shape[0]) + (train_idxs.shape[0] +test_idxs.shape[0] + val_idxs.shape[0]) "
   ]
  },
  {
   "cell_type": "markdown",
   "metadata": {},
   "source": [
    "## Prepare new FiTQun cut indices for post-veto test set"
   ]
  },
  {
   "cell_type": "code",
   "execution_count": 9,
   "metadata": {},
   "outputs": [],
   "source": [
    "failed_idxs = np.load(os.path.join(index_path, 'fq_failed_idxs.npz'),allow_pickle=True)['failed_indices_pointing_to_h5_test_set'].astype(int)\n",
    "flagged_idxs = np.load(os.path.join(index_path, 'fq_flagged_idxs.npz'),allow_pickle=True)['arr_0'].astype(int)"
   ]
  },
  {
   "cell_type": "code",
   "execution_count": 10,
   "metadata": {},
   "outputs": [],
   "source": [
    "fq_cut_dict = {}\n",
    "for idx in test_idxs:\n",
    "    fq_cut_dict[idx] = 0\n",
    "for idx in failed_idxs:\n",
    "    fq_cut_dict[test_idxs[idx]] = 1\n",
    "failed_removed_test_idxs = np.delete(test_idxs, failed_idxs)\n",
    "for idx in flagged_idxs:\n",
    "    fq_cut_dict[failed_removed_test_idxs[idx]] = 1\n",
    "fq_cut_for_vetoed_set = np.array([fq_cut_dict[idx] for idx in post_veto_test_idxs])\n",
    "fq_cut_idxs_for_vetoed_set = np.where(fq_cut_for_vetoed_set==1)[0]"
   ]
  },
  {
   "cell_type": "code",
   "execution_count": 11,
   "metadata": {},
   "outputs": [
    {
     "data": {
      "text/plain": [
       "(158664,)"
      ]
     },
     "execution_count": 11,
     "metadata": {},
     "output_type": "execute_result"
    }
   ],
   "source": [
    "fq_cut_idxs_for_vetoed_set.shape"
   ]
  },
  {
   "cell_type": "code",
   "execution_count": 12,
   "metadata": {},
   "outputs": [
    {
     "data": {
      "text/plain": [
       "(735557,)"
      ]
     },
     "execution_count": 12,
     "metadata": {},
     "output_type": "execute_result"
    }
   ],
   "source": [
    "flagged_idxs.shape"
   ]
  },
  {
   "cell_type": "code",
   "execution_count": 18,
   "metadata": {},
   "outputs": [],
   "source": [
    "np.savez(os.path.join(index_path, 'fq_cut_idxs_for_vetoed_set.npz'),fq_cut_idxs_for_vetoed_set=fq_cut_idxs_for_vetoed_set)"
   ]
  },
  {
   "cell_type": "code",
   "execution_count": 20,
   "metadata": {},
   "outputs": [],
   "source": [
    "for i, veto in enumerate(test_veto):\n",
    "    fq_cut_dict[test_idxs[i]]=fq_cut_dict[test_idxs[i]] | veto\n",
    "fq_plus_veto_cut = np.array([fq_cut_dict[idx] for idx in test_idxs])\n",
    "fq_plus_veto_cut_idxs = np.where(fq_plus_veto_cut==1)"
   ]
  },
  {
   "cell_type": "code",
   "execution_count": 21,
   "metadata": {},
   "outputs": [],
   "source": [
    "np.savez(os.path.join(index_path, 'fq_plus_veto_cut.npz'),fq_plus_veto_cut=fq_plus_veto_cut)"
   ]
  }
 ],
 "metadata": {
  "kernelspec": {
   "display_name": "Python 3",
   "language": "python",
   "name": "python3"
  },
  "language_info": {
   "codemirror_mode": {
    "name": "ipython",
    "version": 3
   },
   "file_extension": ".py",
   "mimetype": "text/x-python",
   "name": "python",
   "nbconvert_exporter": "python",
   "pygments_lexer": "ipython3",
   "version": "3.6.9"
  }
 },
 "nbformat": 4,
 "nbformat_minor": 4
}
