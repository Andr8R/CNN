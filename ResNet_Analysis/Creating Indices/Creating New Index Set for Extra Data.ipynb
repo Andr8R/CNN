{
 "cells": [
  {
   "cell_type": "code",
   "execution_count": 53,
   "metadata": {},
   "outputs": [
    {
     "name": "stdout",
     "output_type": "stream",
     "text": [
      "/home/cmacdonald/CNN/ResNet_Analysis\n",
      "/home/cmacdonald/CNN\n",
      "The autoreload extension is already loaded. To reload it, use:\n",
      "  %reload_ext autoreload\n"
     ]
    }
   ],
   "source": [
    "import sys\n",
    "import os\n",
    "import h5py\n",
    "from collections import Counter\n",
    "from progressbar import *\n",
    "import re\n",
    "import numpy as np\n",
    "import h5py\n",
    "from scipy import signal\n",
    "import matplotlib\n",
    "from functools import reduce\n",
    "import math\n",
    "\n",
    "# Add the path to the parent directory to augment search for module\n",
    "par_dir = os.path.abspath(os.path.join(os.getcwd(), os.pardir))\n",
    "parpar_dir = os.path.abspath(os.path.join(par_dir, os.pardir))\n",
    "\n",
    "print(par_dir)\n",
    "print(parpar_dir)\n",
    "\n",
    "if par_dir not in sys.path:\n",
    "    sys.path.append(par_dir)\n",
    "if parpar_dir not in sys.path:\n",
    "    sys.path.append(parpar_dir)\n",
    "    \n",
    "from repeating_classifier_training_utils import *\n",
    "    \n",
    "%load_ext autoreload\n",
    "%matplotlib inline\n",
    "%autoreload 2\n",
    "index_path = os.path.join(os.getcwd(), 'Index_Storage')"
   ]
  },
  {
   "cell_type": "code",
   "execution_count": 2,
   "metadata": {},
   "outputs": [],
   "source": [
    "f_path = '/fast_scratch/WatChMaL/data/IWCDmPMT_4pi_full_tank_extra.h5'\n",
    "f = h5py.File(f_path,'r')"
   ]
  },
  {
   "cell_type": "code",
   "execution_count": 3,
   "metadata": {},
   "outputs": [],
   "source": [
    "hdf5_labels = f[\"labels\"]\n",
    "hdf5_energies = f[\"energies\"]\n",
    "hdf5_positions = f[\"positions\"]\n",
    "hdf5_angles = f[\"angles\"]\n",
    "hdf5_hit_pmt = f[\"hit_pmt\"]\n",
    "hdf5_hit_charge = f[\"hit_charge\"]\n",
    "hdf5_hit_time = f[\"hit_time\"]\n",
    "hdf5_event_hits_index = f[\"event_hits_index\"]"
   ]
  },
  {
   "cell_type": "code",
   "execution_count": 4,
   "metadata": {},
   "outputs": [],
   "source": [
    "old_idx_file = np.load('/fast_scratch/WatChMaL/data/IWCD_fulltank_300_pe_idxs.npz', allow_pickle=True)\n",
    "old_test_idxs = old_idx_file['test_idxs'].astype(int)\n",
    "old_train_idxs = old_idx_file['train_idxs'].astype(int)\n",
    "old_val_idxs = old_idx_file['val_idxs'].astype(int)"
   ]
  },
  {
   "cell_type": "code",
   "execution_count": 20,
   "metadata": {},
   "outputs": [],
   "source": [
    "hit_pmt=np.memmap(f_path, mode=\"r\", shape=hdf5_hit_pmt.shape,\n",
    "                                        offset=hdf5_hit_pmt.id.get_offset(), dtype=hdf5_hit_pmt.dtype)\n",
    "charge=np.memmap(f_path, mode=\"r\", shape=hdf5_hit_charge.shape,\n",
    "                                        offset=hdf5_hit_charge.id.get_offset(), dtype=hdf5_hit_charge.dtype)\n",
    "\n",
    "event_hits_index=np.append(hdf5_event_hits_index, hit_pmt.shape[0]).astype(np.int64)"
   ]
  },
  {
   "cell_type": "code",
   "execution_count": 17,
   "metadata": {},
   "outputs": [],
   "source": [
    "old_f_path = '/fast_scratch/WatChMaL/data/IWCDmPMT_4pi_full_tank_pointnet.h5'\n",
    "old_f = h5py.File(old_f_path,'r')\n",
    "old_labels = np.array(old_f['labels'])\n",
    "old_f.close()"
   ]
  },
  {
   "cell_type": "code",
   "execution_count": 22,
   "metadata": {},
   "outputs": [
    {
     "name": "stderr",
     "output_type": "stream",
     "text": [
      "Checking Total Charge: 100% [00000000000000000000000000000000000] Time: 0:04:06\n"
     ]
    }
   ],
   "source": [
    "idxs_over_300 = []\n",
    "pbar = ProgressBar(widgets=['Filtering by Total Charge: ', Percentage(), ' ', Bar(marker='0',left='[',right=']'),\n",
    "           ' ', ETA()], maxval=len(hdf5_labels)-old_labels.shape[0])\n",
    "pbar.start()\n",
    "for i, index in enumerate(range(old_labels.shape[0], len(hdf5_labels), 1)):\n",
    "    start = event_hits_index[index]\n",
    "    stop = event_hits_index[index+1]\n",
    "    total_charge = np.sum(charge[start:stop])\n",
    "    pbar.update(i)\n",
    "    if total_charge > 300:\n",
    "        idxs_over_300.append(index)\n",
    "pbar.finish()"
   ]
  },
  {
   "cell_type": "code",
   "execution_count": 25,
   "metadata": {},
   "outputs": [],
   "source": [
    "new_good_idxs = np.random.permutation(idxs_over_300)"
   ]
  },
  {
   "cell_type": "code",
   "execution_count": 26,
   "metadata": {},
   "outputs": [
    {
     "data": {
      "text/plain": [
       "10130312.700000001"
      ]
     },
     "execution_count": 26,
     "metadata": {},
     "output_type": "execute_result"
    }
   ],
   "source": [
    "new_good_idxs.shape[0]*0.9"
   ]
  },
  {
   "cell_type": "code",
   "execution_count": 28,
   "metadata": {},
   "outputs": [],
   "source": [
    "new_train_idxs = new_good_idxs[:math.ceil(new_good_idxs.shape[0]*0.9)]\n",
    "new_val_idxs = new_good_idxs[math.ceil(new_good_idxs.shape[0]*0.9):]"
   ]
  },
  {
   "cell_type": "code",
   "execution_count": 30,
   "metadata": {},
   "outputs": [],
   "source": [
    "full_train_idxs = np.concatenate((old_train_idxs, new_train_idxs))\n",
    "full_val_idxs = np.concatenate((old_val_idxs, new_val_idxs))\n",
    "full_test_idxs = old_test_idxs"
   ]
  },
  {
   "cell_type": "code",
   "execution_count": 39,
   "metadata": {},
   "outputs": [],
   "source": [
    "idx_sets = [full_train_idxs, full_val_idxs, full_test_idxs]\n",
    "idx_dic = {}\n",
    "for i in range(len(hdf5_labels)):\n",
    "    idx_dic[i] = False"
   ]
  },
  {
   "cell_type": "code",
   "execution_count": 40,
   "metadata": {},
   "outputs": [
    {
     "name": "stderr",
     "output_type": "stream",
     "text": [
      "Checking For Repeats: 100% [000000000000000000000000000000000000] Time: 0:00:31\n",
      "Checking For Repeats: 100% [000000000000000000000000000000000000] Time: 0:00:05\n",
      "Checking For Repeats: 100% [000000000000000000000000000000000000] Time: 0:00:10\n"
     ]
    }
   ],
   "source": [
    "for idx_set in idx_sets:\n",
    "    pbar = ProgressBar(widgets=['Checking For Repeats: ', Percentage(), ' ', Bar(marker='0',left='[',right=']'),\n",
    "               ' ', ETA()], maxval=len(idx_set))\n",
    "    pbar.start()\n",
    "    for i, idx in enumerate(idx_set):\n",
    "        pbar.update(i)\n",
    "        assert not idx_dic[idx]\n",
    "        idx_dic[idx] = True\n",
    "    pbar.finish()"
   ]
  },
  {
   "cell_type": "code",
   "execution_count": 41,
   "metadata": {},
   "outputs": [],
   "source": [
    "np.savez('/fast_scratch/WatChMaL/data/IWCD_fulltank_300_pe_idxs_extra.npz', train_idxs=full_train_idxs, val_idxs=full_val_idxs, test_idxs=full_test_idxs)"
   ]
  },
  {
   "cell_type": "code",
   "execution_count": 96,
   "metadata": {},
   "outputs": [
    {
     "name": "stdout",
     "output_type": "stream",
     "text": [
      "Loading training indices from:  /fast_scratch/WatChMaL/data/IWCD_fulltank_300_pe_idxs_extra.npz\n",
      "Loading validation indices from:  /fast_scratch/WatChMaL/data/IWCD_fulltank_300_pe_idxs_extra.npz\n",
      "Loading test indices from:  /fast_scratch/WatChMaL/data/IWCD_fulltank_300_pe_idxs_extra.npz\n"
     ]
    }
   ],
   "source": [
    "from io_utils.data_handling_hitarray_train import WCH5DatasetT\n",
    "from io_utils.data_handling_hitarray_val import WCH5DatasetV\n",
    "from io_utils.data_handling_hitarray_test import WCH5DatasetTest\n",
    "\n",
    "train_dset = WCH5DatasetT(['/fast_scratch/WatChMaL/data/IWCDmPMT_4pi_full_tank_extra.h5'], ['/fast_scratch/WatChMaL/data/IWCD_fulltank_300_pe_idxs_extra.npz'], \n",
    "                          '/fast_scratch/WatChMaL/data/IWCDmPMT_4pi_fulltank_9M_norm_params/IWCDmPMT_4pi_fulltank_9M_trainval_norm_params.npz', 'identity', 'identity',\n",
    "                                 shuffle=True, num_datasets=1, trainval_subset=None, transforms=None, collapse_arrays=False)\n",
    "\n",
    "val_dset = WCH5DatasetV(['/fast_scratch/WatChMaL/data/IWCDmPMT_4pi_full_tank_extra.h5'], ['/fast_scratch/WatChMaL/data/IWCD_fulltank_300_pe_idxs_extra.npz'], \n",
    "                        '/fast_scratch/WatChMaL/data/IWCDmPMT_4pi_fulltank_9M_norm_params/IWCDmPMT_4pi_fulltank_9M_trainval_norm_params.npz', 'identity', 'identity',\n",
    "                                 shuffle=True, num_datasets=1, trainval_subset=None, collapse_arrays=False)\n",
    "\n",
    "test_dset = WCH5DatasetTest(['/fast_scratch/WatChMaL/data/IWCDmPMT_4pi_full_tank_extra.h5'], ['/fast_scratch/WatChMaL/data/IWCD_fulltank_300_pe_idxs_extra.npz'], \n",
    "                            '/fast_scratch/WatChMaL/data/IWCDmPMT_4pi_fulltank_9M_norm_params/IWCDmPMT_4pi_fulltank_9M_trainval_norm_params.npz', 'identity', 'identity',\n",
    "                               shuffle=True, num_datasets=1, test_subset=None, collapse_arrays=False)"
   ]
  },
  {
   "cell_type": "code",
   "execution_count": 97,
   "metadata": {},
   "outputs": [
    {
     "name": "stderr",
     "output_type": "stream",
     "text": [
      "Checking For Charge Sum: 100% [000000000000000000000000000000000] Time: 0:14:08\n"
     ]
    },
    {
     "ename": "AttributeError",
     "evalue": "'list' object has no attribute 'shape'",
     "output_type": "error",
     "traceback": [
      "\u001b[0;31m---------------------------------------------------------------------------\u001b[0m",
      "\u001b[0;31mAttributeError\u001b[0m                            Traceback (most recent call last)",
      "\u001b[0;32m<ipython-input-97-8ae73032496e>\u001b[0m in \u001b[0;36m<module>\u001b[0;34m\u001b[0m\n\u001b[1;32m      3\u001b[0m \u001b[0;32mfor\u001b[0m \u001b[0md_idx\u001b[0m\u001b[0;34m,\u001b[0m \u001b[0mdset\u001b[0m \u001b[0;32min\u001b[0m \u001b[0menumerate\u001b[0m\u001b[0;34m(\u001b[0m\u001b[0mdsets\u001b[0m\u001b[0;34m)\u001b[0m\u001b[0;34m:\u001b[0m\u001b[0;34m\u001b[0m\u001b[0;34m\u001b[0m\u001b[0m\n\u001b[1;32m      4\u001b[0m     pbar = ProgressBar(widgets=['Checking For Charge Sum: ', Percentage(), ' ', Bar(marker='0',left='[',right=']'),\n\u001b[0;32m----> 5\u001b[0;31m            ' ', ETA()], maxval=len(dset))\n\u001b[0m\u001b[1;32m      6\u001b[0m     \u001b[0mpbar\u001b[0m\u001b[0;34m.\u001b[0m\u001b[0mstart\u001b[0m\u001b[0;34m(\u001b[0m\u001b[0;34m)\u001b[0m\u001b[0;34m\u001b[0m\u001b[0;34m\u001b[0m\u001b[0m\n\u001b[1;32m      7\u001b[0m     \u001b[0;32mfor\u001b[0m \u001b[0mi\u001b[0m\u001b[0;34m,\u001b[0m \u001b[0midx\u001b[0m \u001b[0;32min\u001b[0m \u001b[0menumerate\u001b[0m\u001b[0;34m(\u001b[0m\u001b[0mrange\u001b[0m\u001b[0;34m(\u001b[0m\u001b[0mlen\u001b[0m\u001b[0;34m(\u001b[0m\u001b[0midxs\u001b[0m\u001b[0;34m[\u001b[0m\u001b[0mj\u001b[0m\u001b[0;34m]\u001b[0m\u001b[0;34m)\u001b[0m\u001b[0;34m)\u001b[0m\u001b[0;34m)\u001b[0m\u001b[0;34m:\u001b[0m\u001b[0;34m\u001b[0m\u001b[0;34m\u001b[0m\u001b[0m\n",
      "\u001b[0;32m~/CNN/io_utils/data_handling_hitarray_val.py\u001b[0m in \u001b[0;36m__len__\u001b[0;34m(self)\u001b[0m\n\u001b[1;32m    168\u001b[0m     \u001b[0;32mdef\u001b[0m \u001b[0m__len__\u001b[0m\u001b[0;34m(\u001b[0m\u001b[0mself\u001b[0m\u001b[0;34m)\u001b[0m\u001b[0;34m:\u001b[0m\u001b[0;34m\u001b[0m\u001b[0;34m\u001b[0m\u001b[0m\n\u001b[1;32m    169\u001b[0m         \u001b[0;32mif\u001b[0m \u001b[0mself\u001b[0m\u001b[0;34m.\u001b[0m\u001b[0mreduced_size\u001b[0m \u001b[0;32mis\u001b[0m \u001b[0;32mNone\u001b[0m\u001b[0;34m:\u001b[0m\u001b[0;34m\u001b[0m\u001b[0;34m\u001b[0m\u001b[0m\n\u001b[0;32m--> 170\u001b[0;31m             \u001b[0;32mreturn\u001b[0m \u001b[0mself\u001b[0m\u001b[0;34m.\u001b[0m\u001b[0mlabels\u001b[0m\u001b[0;34m.\u001b[0m\u001b[0mshape\u001b[0m\u001b[0;34m[\u001b[0m\u001b[0;36m0\u001b[0m\u001b[0;34m]\u001b[0m\u001b[0;34m\u001b[0m\u001b[0;34m\u001b[0m\u001b[0m\n\u001b[0m\u001b[1;32m    171\u001b[0m         \u001b[0;32melse\u001b[0m\u001b[0;34m:\u001b[0m\u001b[0;34m\u001b[0m\u001b[0;34m\u001b[0m\u001b[0m\n\u001b[1;32m    172\u001b[0m             \u001b[0;32mreturn\u001b[0m \u001b[0mself\u001b[0m\u001b[0;34m.\u001b[0m\u001b[0mreduced_size\u001b[0m\u001b[0;34m\u001b[0m\u001b[0;34m\u001b[0m\u001b[0m\n",
      "\u001b[0;31mAttributeError\u001b[0m: 'list' object has no attribute 'shape'"
     ]
    }
   ],
   "source": [
    "dsets = [train_dset, val_dset, test_dset]\n",
    "idxs = [np.load('/fast_scratch/WatChMaL/data/IWCD_fulltank_300_pe_idxs.npz', allow_pickle=True)[idx_set_name] for idx_set_name in ['train_idxs', 'val_idxs', 'test_idxs']]\n",
    "for d_idx, dset in enumerate(dsets):\n",
    "    pbar = ProgressBar(widgets=['Checking For Charge Sum: ', Percentage(), ' ', Bar(marker='0',left='[',right=']'),\n",
    "           ' ', ETA()], maxval=len(dset))\n",
    "    pbar.start()\n",
    "    for i, idx in enumerate(range(len(idxs[j]))):\n",
    "        assert np.sum(dset[idxs[j][i]][0])\n",
    "        pbar.update(i)\n",
    "    pbar.finish()"
   ]
  },
  {
   "cell_type": "code",
   "execution_count": 88,
   "metadata": {},
   "outputs": [
    {
     "name": "stderr",
     "output_type": "stream",
     "text": [
      "Checking For Charge Sum:  49% [0000000000000000                 ] ETA:  0:00:45\r"
     ]
    },
    {
     "ename": "KeyboardInterrupt",
     "evalue": "",
     "output_type": "error",
     "traceback": [
      "\u001b[0;31m---------------------------------------------------------------------------\u001b[0m",
      "\u001b[0;31mKeyboardInterrupt\u001b[0m                         Traceback (most recent call last)",
      "\u001b[0;32m<ipython-input-88-0d50899fb200>\u001b[0m in \u001b[0;36m<module>\u001b[0;34m\u001b[0m\n\u001b[1;32m      7\u001b[0m \u001b[0mpbar\u001b[0m\u001b[0;34m.\u001b[0m\u001b[0mstart\u001b[0m\u001b[0;34m(\u001b[0m\u001b[0;34m)\u001b[0m\u001b[0;34m\u001b[0m\u001b[0;34m\u001b[0m\u001b[0m\n\u001b[1;32m      8\u001b[0m \u001b[0;32mfor\u001b[0m \u001b[0mi\u001b[0m \u001b[0;32min\u001b[0m \u001b[0midxfile\u001b[0m\u001b[0;34m[\u001b[0m\u001b[0;34m'train_idxs'\u001b[0m\u001b[0;34m]\u001b[0m\u001b[0;34m[\u001b[0m\u001b[0;34m:\u001b[0m\u001b[0;36m100000\u001b[0m\u001b[0;34m]\u001b[0m\u001b[0;34m:\u001b[0m\u001b[0;34m\u001b[0m\u001b[0;34m\u001b[0m\u001b[0m\n\u001b[0;32m----> 9\u001b[0;31m     \u001b[0mtotq\u001b[0m \u001b[0;34m=\u001b[0m \u001b[0msum\u001b[0m\u001b[0;34m(\u001b[0m\u001b[0mh5file\u001b[0m\u001b[0;34m[\u001b[0m\u001b[0;34m'hit_charge'\u001b[0m\u001b[0;34m]\u001b[0m\u001b[0;34m[\u001b[0m\u001b[0mh5file\u001b[0m\u001b[0;34m[\u001b[0m\u001b[0;34m'event_hits_index'\u001b[0m\u001b[0;34m]\u001b[0m\u001b[0;34m[\u001b[0m\u001b[0mi\u001b[0m\u001b[0;34m]\u001b[0m\u001b[0;34m:\u001b[0m\u001b[0mh5file\u001b[0m\u001b[0;34m[\u001b[0m\u001b[0;34m'event_hits_index'\u001b[0m\u001b[0;34m]\u001b[0m\u001b[0;34m[\u001b[0m\u001b[0mi\u001b[0m\u001b[0;34m+\u001b[0m\u001b[0;36m1\u001b[0m\u001b[0;34m]\u001b[0m\u001b[0;34m]\u001b[0m\u001b[0;34m)\u001b[0m\u001b[0;34m\u001b[0m\u001b[0;34m\u001b[0m\u001b[0m\n\u001b[0m\u001b[1;32m     10\u001b[0m     \u001b[0;32massert\u001b[0m \u001b[0mtotq\u001b[0m \u001b[0;34m>\u001b[0m \u001b[0;36m300\u001b[0m\u001b[0;34m,\u001b[0m \u001b[0mtotq\u001b[0m\u001b[0;34m\u001b[0m\u001b[0;34m\u001b[0m\u001b[0m\n\u001b[1;32m     11\u001b[0m     \u001b[0mpbar\u001b[0m\u001b[0;34m.\u001b[0m\u001b[0mupdate\u001b[0m\u001b[0;34m(\u001b[0m\u001b[0mpbar\u001b[0m\u001b[0;34m.\u001b[0m\u001b[0mcurrval\u001b[0m\u001b[0;34m+\u001b[0m\u001b[0;36m1\u001b[0m\u001b[0;34m)\u001b[0m\u001b[0;34m\u001b[0m\u001b[0;34m\u001b[0m\u001b[0m\n",
      "\u001b[0;31mKeyboardInterrupt\u001b[0m: "
     ]
    }
   ],
   "source": [
    "import numpy as np\n",
    "import h5py\n",
    "from progressbar import *\n",
    "h5file = h5py.File(\"/fast_scratch/WatChMaL/data/IWCDmPMT_4pi_full_tank_pointnet.h5\",\"r\")\n",
    "idxfile = np.load(\"/fast_scratch/WatChMaL/data/IWCD_fulltank_300_pe_idxs.npz\")\n",
    "pbar = ProgressBar(widgets=['Checking For Charge Sum: ', Percentage(), ' ', Bar(marker='0',left='[',right=']'),' ', ETA()], maxval=100000)\n",
    "pbar.start()\n",
    "for i in idxfile['train_idxs'][:100000]:\n",
    "    totq = sum(h5file['hit_charge'][h5file['event_hits_index'][i]:h5file['event_hits_index'][i+1]])\n",
    "    assert totq > 300, totq\n",
    "    pbar.update(pbar.currval+1)\n",
    "pbar.finish()"
   ]
  },
  {
   "cell_type": "code",
   "execution_count": 76,
   "metadata": {},
   "outputs": [
    {
     "data": {
      "text/plain": [
       "2928.957929134369"
      ]
     },
     "execution_count": 76,
     "metadata": {},
     "output_type": "execute_result"
    }
   ],
   "source": [
    "sum(h5file['hit_charge'][h5file['event_hits_index'][0]:h5file['event_hits_index'][1]])"
   ]
  }
 ],
 "metadata": {
  "kernelspec": {
   "display_name": "Python 3",
   "language": "python",
   "name": "python3"
  },
  "language_info": {
   "codemirror_mode": {
    "name": "ipython",
    "version": 3
   },
   "file_extension": ".py",
   "mimetype": "text/x-python",
   "name": "python",
   "nbconvert_exporter": "python",
   "pygments_lexer": "ipython3",
   "version": "3.6.9"
  }
 },
 "nbformat": 4,
 "nbformat_minor": 4
}
