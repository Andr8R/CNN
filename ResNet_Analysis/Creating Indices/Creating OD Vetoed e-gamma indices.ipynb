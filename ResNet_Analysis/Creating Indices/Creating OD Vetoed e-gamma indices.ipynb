{
 "cells": [
  {
   "cell_type": "code",
   "execution_count": 2,
   "metadata": {},
   "outputs": [],
   "source": [
    "import sys\n",
    "import os\n",
    "import h5py\n",
    "from collections import Counter\n",
    "from progressbar import *\n",
    "import re\n",
    "import numpy as np\n",
    "import h5py\n",
    "from scipy import signal\n",
    "import matplotlib\n",
    "from functools import reduce\n",
    "from tqdm import tqdm\n",
    "\n",
    "# Add the path to the parent directory to augment search for module\n",
    "par_dir = os.path.abspath(os.path.join(os.getcwd(), os.pardir))\n",
    "\n",
    "if par_dir not in sys.path:\n",
    "    sys.path.append(par_dir)\n",
    "    \n",
    "from repeating_classifier_training_utils import *\n",
    "    \n",
    "%load_ext autoreload\n",
    "%matplotlib inline\n",
    "%autoreload 2\n",
    "index_path = os.path.join(os.getcwd(), 'Index_Storage')"
   ]
  },
  {
   "cell_type": "code",
   "execution_count": 3,
   "metadata": {},
   "outputs": [],
   "source": [
    "post_veto_idxs_file = np.load('/fast_scratch/WatChMaL/data/IWCD_fulltank_300_post_veto_pe_idxs.npz', allow_pickle=True)"
   ]
  },
  {
   "cell_type": "code",
   "execution_count": 4,
   "metadata": {},
   "outputs": [],
   "source": [
    "post_veto_train_idxs = post_veto_idxs_file['train_idxs']\n",
    "post_veto_val_idxs = post_veto_idxs_file['val_idxs']\n",
    "post_veto_test_idxs = post_veto_idxs_file['test_idxs']"
   ]
  },
  {
   "cell_type": "code",
   "execution_count": 7,
   "metadata": {},
   "outputs": [],
   "source": [
    "h5_file = h5py.File('/fast_scratch/WatChMaL/data/IWCDmPMT_4pi_full_tank_pointnet.h5', 'r')\n",
    "labels = np.array(h5_file['labels'])\n",
    "h5_file.close()"
   ]
  },
  {
   "cell_type": "code",
   "execution_count": 8,
   "metadata": {},
   "outputs": [],
   "source": [
    "train_labels = labels[post_veto_train_idxs]\n",
    "val_labels = labels[post_veto_val_idxs]\n",
    "test_labels = labels[post_veto_test_idxs]"
   ]
  },
  {
   "cell_type": "code",
   "execution_count": 10,
   "metadata": {},
   "outputs": [],
   "source": [
    "no_muon_post_veto_train_idxs = post_veto_train_idxs[np.where(train_labels!=2)[0]]\n",
    "no_muon_post_veto_val_idxs = post_veto_val_idxs[np.where(val_labels!=2)[0]]\n",
    "no_muon_post_veto_test_idxs = post_veto_test_idxs[np.where(test_labels!=2)[0]]"
   ]
  },
  {
   "cell_type": "code",
   "execution_count": 11,
   "metadata": {},
   "outputs": [],
   "source": [
    "np.savez('/fast_scratch/WatChMaL/data/IWCD_fulltank_300_post_veto_pe_idxs_no_muons.npz', train_idxs=no_muon_post_veto_train_idxs, val_idxs=no_muon_post_veto_val_idxs, test_idxs=no_muon_post_veto_test_idxs)"
   ]
  },
  {
   "cell_type": "code",
   "execution_count": null,
   "metadata": {},
   "outputs": [],
   "source": []
  }
 ],
 "metadata": {
  "kernelspec": {
   "display_name": "Python 3",
   "language": "python",
   "name": "python3"
  },
  "language_info": {
   "codemirror_mode": {
    "name": "ipython",
    "version": 3
   },
   "file_extension": ".py",
   "mimetype": "text/x-python",
   "name": "python",
   "nbconvert_exporter": "python",
   "pygments_lexer": "ipython3",
   "version": "3.6.9"
  }
 },
 "nbformat": 4,
 "nbformat_minor": 4
}
