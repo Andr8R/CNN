{
 "cells": [
  {
   "cell_type": "code",
   "execution_count": 2,
   "metadata": {},
   "outputs": [
    {
     "name": "stdout",
     "output_type": "stream",
     "text": [
      "(3351020,)\n"
     ]
    }
   ],
   "source": [
    "import numpy.ma as ma\n",
    "import numpy as np\n",
    "## Imports\n",
    "\n",
    "import sys\n",
    "import os\n",
    "import time\n",
    "import math\n",
    "import random\n",
    "import pdb\n",
    "import h5py\n",
    "\n",
    "# Add the path to the parent directory to augment search for module\n",
    "par_dir = os.path.abspath(os.path.join(os.getcwd(), os.pardir))\n",
    "if par_dir not in sys.path:\n",
    "    sys.path.append(par_dir)\n",
    "    \n",
    "# Plotting import\n",
    "import matplotlib as mpl\n",
    "import matplotlib.pyplot as plt\n",
    "import numpy as np\n",
    "import pandas as pd\n",
    "\n",
    "# Import the utils for plotting the metrics\n",
    "from plot_utils import plot_utils\n",
    "from plot_utils import notebook_utils_2\n",
    "\n",
    "from sklearn.metrics import roc_curve, auc\n",
    "\n",
    "# Dictionary mapping the ordinal labels to particle types \n",
    "LABEL_DICT = {0:\"gamma\", 1:\"e\", 2:\"mu\"}\n",
    "softmax_index_dict = {value:key for key, value in LABEL_DICT.items()}\n",
    "\n",
    "# Fix the colour scheme for each particle type\n",
    "COLOR_DICT = {\"gamma\":\"red\", \"e\":\"blue\", \"mu\":\"green\"}\n",
    "\n",
    "label_0 = \"e\"\n",
    "label_1 = \"mu\"\n",
    "min_energy = 0\n",
    "max_energy = 1000\n",
    "\n",
    "# Get original h5 file info\n",
    "\n",
    "# Import test events from h5 file\n",
    "filtered_index = \"/fast_scratch/WatChMaL/data/IWCD_fulltank_300_pe_idxs.npz\"\n",
    "filtered_indices = np.load(filtered_index, allow_pickle=True)\n",
    "test_filtered_indices = filtered_indices['test_idxs']\n",
    "print(test_filtered_indices.shape)\n",
    "\n",
    "original_data_path = \"/data/WatChMaL/data/IWCDmPMT_4pi_fulltank_9M.h5\"\n",
    "f = h5py.File(original_data_path, \"r\")\n",
    "\n",
    "hdf5_event_data = (f[\"event_data\"])\n",
    "original_eventdata = np.memmap(original_data_path, mode=\"r\", shape=hdf5_event_data.shape,\n",
    "                                    offset=hdf5_event_data.id.get_offset(), dtype=hdf5_event_data.dtype)\n",
    "\n",
    "original_eventids = np.array(f['event_ids'])\n",
    "original_rootfiles = np.array(f['root_files'])\n",
    "original_energies = np.array(f['energies'])\n",
    "original_positions = np.array(f['positions'])\n",
    "original_angles = np.array(f['angles'])\n",
    "original_labels = np.array(f['labels'])\n",
    "\n",
    "#filtered_eventdata = original_eventdata[test_filtered_indices]\n",
    "filtered_eventids = original_eventids[test_filtered_indices]\n",
    "filtered_rootfiles = original_rootfiles[test_filtered_indices]\n",
    "filtered_energies = original_energies[test_filtered_indices]\n",
    "filtered_positions = original_positions[test_filtered_indices]\n",
    "filtered_angles = original_angles[test_filtered_indices]\n",
    "filtered_labels = original_labels[test_filtered_indices]"
   ]
  },
  {
   "cell_type": "code",
   "execution_count": 8,
   "metadata": {},
   "outputs": [],
   "source": [
    "#e_test_indices = np.load('/home/ttuinstr/VAE/Comparing_ResNet_and_FiTQun/test_indices_e.npz')\n",
    "#e_test_indices = e_test_indices['arr_0'].astype(int)\n",
    "mu_test_indices = np.load('/home/ttuinstr/VAE/Comparing_ResNet_and_FiTQun/test_indices_mu.npz')\n",
    "mu_test_indices = mu_test_indices['arr_0'].astype(int)\n",
    "gamma_test_indices = np.load('/home/ttuinstr/VAE/Comparing_ResNet_and_FiTQun/test_indices_gamma.npz')\n",
    "gamma_test_indices = gamma_test_indices['arr_0'].astype(int)\n",
    "\n",
    "test_indices = np.arange(filtered_labels.shape[0])\n",
    "e_mask = np.zeros(filtered_labels.shape[0])\n",
    "e_mask[mu_test_indices] = 1\n",
    "e_mask[gamma_test_indices] = 1\n",
    "e_test_indices = ma.array(test_indices, mask = e_mask)\n",
    "e_test_indices = e_test_indices.compressed()"
   ]
  },
  {
   "cell_type": "code",
   "execution_count": 9,
   "metadata": {},
   "outputs": [
    {
     "name": "stdout",
     "output_type": "stream",
     "text": [
      "1118723\n",
      "3351020\n"
     ]
    }
   ],
   "source": [
    "print(e_test_indices.shape[0])\n",
    "\n",
    "print(e_test_indices.shape[0] + mu_test_indices.shape[0] + gamma_test_indices.shape[0])"
   ]
  },
  {
   "cell_type": "code",
   "execution_count": 10,
   "metadata": {},
   "outputs": [],
   "source": [
    "#np.savez('/home/ttuinstr/VAE/Comparing_ResNet_and_FiTQun/test_indices_e.npz', e_test_indices)"
   ]
  },
  {
   "cell_type": "code",
   "execution_count": null,
   "metadata": {},
   "outputs": [],
   "source": []
  }
 ],
 "metadata": {
  "kernelspec": {
   "display_name": "Python 3",
   "language": "python",
   "name": "python3"
  },
  "language_info": {
   "codemirror_mode": {
    "name": "ipython",
    "version": 3
   },
   "file_extension": ".py",
   "mimetype": "text/x-python",
   "name": "python",
   "nbconvert_exporter": "python",
   "pygments_lexer": "ipython3",
   "version": "3.6.9"
  }
 },
 "nbformat": 4,
 "nbformat_minor": 4
}
