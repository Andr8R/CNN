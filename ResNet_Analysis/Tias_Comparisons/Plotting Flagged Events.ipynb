{
 "cells": [
  {
   "cell_type": "code",
   "execution_count": 3,
   "metadata": {},
   "outputs": [],
   "source": [
    "## Imports\n",
    "import PlottingEventDisplays\n",
    "import sys\n",
    "import os\n",
    "import time\n",
    "import math\n",
    "import random\n",
    "import pdb\n",
    "import h5py\n",
    "\n",
    "# Add the path to the parent directory to augment search for module\n",
    "par_dir = os.path.abspath(os.path.join(os.getcwd(), os.pardir))\n",
    "if par_dir not in sys.path:\n",
    "    sys.path.append(par_dir)\n",
    "    \n",
    "# Plotting import\n",
    "import matplotlib as mpl\n",
    "import matplotlib.pyplot as plt\n",
    "import numpy as np\n",
    "import pandas as pd\n",
    "import matplotlib.colors as colors\n",
    "\n",
    "# Import the utils for plotting the metrics\n",
    "from plot_utils import plot_utils\n",
    "from plot_utils import notebook_utils_2\n",
    "\n",
    "from sklearn.metrics import roc_curve, auc\n",
    "\n",
    "# Dictionary mapping the ordinal labels to particle types \n",
    "LABEL_DICT = {0:\"gamma\", 1:\"e\", 2:\"mu\"}\n",
    "softmax_index_dict = {value:key for key, value in LABEL_DICT.items()}\n",
    "\n",
    "# Fix the colour scheme for each particle type\n",
    "COLOR_DICT = {\"gamma\":\"red\", \"e\":\"blue\", \"mu\":\"green\"}\n",
    "\n",
    "label_0 = \"e\"\n",
    "label_1 = \"mu\"\n",
    "min_energy = 0\n",
    "max_energy = 1000"
   ]
  },
  {
   "cell_type": "code",
   "execution_count": 4,
   "metadata": {},
   "outputs": [
    {
     "name": "stdout",
     "output_type": "stream",
     "text": [
      "(3351020,)\n"
     ]
    }
   ],
   "source": [
    "# Get original h5 file info\n",
    "\n",
    "# Import test events from h5 file\n",
    "filtered_index = \"/fast_scratch/WatChMaL/data/IWCD_fulltank_300_pe_idxs.npz\"\n",
    "filtered_indices = np.load(filtered_index, allow_pickle=True)\n",
    "test_filtered_indices = filtered_indices['test_idxs']\n",
    "print(test_filtered_indices.shape)\n",
    "\n",
    "original_data_path = \"/data/WatChMaL/data/IWCDmPMT_4pi_fulltank_9M.h5\"\n",
    "f = h5py.File(original_data_path, \"r\")\n",
    "\n",
    "hdf5_event_data = (f[\"event_data\"])\n",
    "original_eventdata = np.memmap(original_data_path, mode=\"r\", shape=hdf5_event_data.shape,\n",
    "                                    offset=hdf5_event_data.id.get_offset(), dtype=hdf5_event_data.dtype)\n",
    "\n",
    "original_eventids = np.array(f['event_ids'])\n",
    "original_rootfiles = np.array(f['root_files'])\n",
    "original_energies = np.array(f['energies'])\n",
    "original_positions = np.array(f['positions'])\n",
    "original_angles = np.array(f['angles'])\n",
    "original_labels = np.array(f['labels'])\n",
    "\n",
    "#filtered_eventdata = original_eventdata[test_filtered_indices]\n",
    "filtered_eventids = original_eventids[test_filtered_indices]\n",
    "filtered_rootfiles = original_rootfiles[test_filtered_indices]\n",
    "filtered_energies = original_energies[test_filtered_indices]\n",
    "filtered_positions = original_positions[test_filtered_indices]\n",
    "filtered_angles = original_angles[test_filtered_indices]\n",
    "filtered_labels = original_labels[test_filtered_indices]\n"
   ]
  },
  {
   "cell_type": "code",
   "execution_count": 5,
   "metadata": {},
   "outputs": [],
   "source": [
    "# Map ResNet results to fiTQun events\n",
    "\n",
    "# Map ResNet results to original h5 file events\n",
    "mapping_indices = np.load('/home/ttuinstr/VAE/Comparing_ResNet_and_FiTQun/map_indices_resnet.npz')\n",
    "mapping_indices = mapping_indices['arr_0'].astype(int)\n",
    "\n",
    "res_softmaxes = np.load('/home/ttuinstr/VAE/Comparing_ResNet_and_FiTQun/resnet_softmaxes.npz')\n",
    "res_softmaxes = res_softmaxes['arr_0']\n",
    "res_energies = np.load('/home/ttuinstr/VAE/Comparing_ResNet_and_FiTQun/resnet_energies.npz')\n",
    "res_energies = res_energies['arr_0']\n",
    "res_predictedlabels = np.load('/home/ttuinstr/VAE/Comparing_ResNet_and_FiTQun/resnet_predictedlabels.npz')\n",
    "res_predictedlabels = res_predictedlabels['arr_0']\n",
    "\n",
    "res_softmaxes = res_softmaxes[mapping_indices]\n",
    "res_energies = res_energies[mapping_indices]\n",
    "res_predictedlabels = res_predictedlabels[mapping_indices]\n",
    "\n",
    "# Separate event types\n",
    "e_test_indices = np.load('/home/ttuinstr/VAE/Comparing_ResNet_and_FiTQun/test_indices_e.npz')\n",
    "e_test_indices = e_test_indices['arr_0'].astype(int)\n",
    "mu_test_indices = np.load('/home/ttuinstr/VAE/Comparing_ResNet_and_FiTQun/test_indices_mu.npz')\n",
    "mu_test_indices = mu_test_indices['arr_0'].astype(int)\n",
    "gamma_test_indices = np.load('/home/ttuinstr/VAE/Comparing_ResNet_and_FiTQun/test_indices_gamma.npz')\n",
    "gamma_test_indices = gamma_test_indices['arr_0'].astype(int)\n",
    "\n",
    "e_predictedlabels = res_predictedlabels[e_test_indices]\n",
    "mu_predictedlabels = res_predictedlabels[mu_test_indices]\n",
    "gamma_predictedlabels = res_predictedlabels[gamma_test_indices]\n",
    "\n",
    "e_softmaxes = res_softmaxes[e_test_indices]\n",
    "mu_softmaxes = res_softmaxes[mu_test_indices]\n",
    "gamma_softmaxes = res_softmaxes[gamma_test_indices]\n",
    "\n",
    "e_labels = filtered_labels[e_test_indices]\n",
    "mu_labels = filtered_labels[mu_test_indices]\n",
    "gamma_labels = filtered_labels[gamma_test_indices]\n",
    "\n",
    "e_rootfiles = filtered_rootfiles[e_test_indices]\n",
    "mu_rootfiles = filtered_rootfiles[mu_test_indices]\n",
    "gamma_rootfiles = filtered_rootfiles[gamma_test_indices]\n",
    "\n",
    "e_eventids = filtered_eventids[e_test_indices]\n",
    "mu_eventids = filtered_eventids[mu_test_indices]\n",
    "gamma_eventids = filtered_eventids[gamma_test_indices]\n",
    "\n",
    "e_positions = filtered_positions[e_test_indices]\n",
    "mu_positions = filtered_positions[mu_test_indices]\n",
    "gamma_positions = filtered_positions[gamma_test_indices]\n",
    "\n",
    "e_angles = filtered_angles[e_test_indices]\n",
    "mu_angles = filtered_angles[mu_test_indices]\n",
    "gamma_angles = filtered_angles[gamma_test_indices]\n",
    "\n",
    "e_energies = filtered_energies[e_test_indices]\n",
    "mu_energies = filtered_energies[mu_test_indices]\n",
    "gamma_energies = filtered_energies[gamma_test_indices]\n",
    "\n",
    "# Match events in event types to fiTQun results\n",
    "e_map_indices = np.load('/home/ttuinstr/VAE/Comparing_ResNet_and_FiTQun/map_indices_e_all.npz')\n",
    "e_map_indices = e_map_indices['arr_0'].astype(int)\n",
    "mu_map_indices = np.load('/home/ttuinstr/VAE/Comparing_ResNet_and_FiTQun/map_indices_mu_all.npz')\n",
    "mu_map_indices = mu_map_indices['arr_0'].astype(int)\n",
    "gamma_map_indices = np.load('/home/ttuinstr/VAE/Comparing_ResNet_and_FiTQun/map_indices_gamma_all.npz')\n",
    "gamma_map_indices = gamma_map_indices['arr_0'].astype(int)\n",
    "\n",
    "#e_eventdata = np.sum(original_eventdata[test_filtered_indices][e_test_indices][e_map_indices] > 0, (1,2,3))\n",
    "#mu_eventdata = np.sum(original_eventdata[test_filtered_indices][mu_test_indices][mu_map_indices] > 0, (1,2,3))\n",
    "#gamma_eventdata = np.sum(original_eventdata[test_filtered_indices][gamma_test_indices][gamma_map_indices] > 0, (1,2,3))\n",
    "\n",
    "e_predictedlabels = e_predictedlabels[e_map_indices]\n",
    "mu_predictedlabels = mu_predictedlabels[mu_map_indices]\n",
    "gamma_predictedlabels = gamma_predictedlabels[gamma_map_indices]\n",
    "\n",
    "e_softmaxes = e_softmaxes[e_map_indices]\n",
    "mu_softmaxes = mu_softmaxes[mu_map_indices]\n",
    "gamma_softmaxes = gamma_softmaxes[gamma_map_indices]\n",
    "\n",
    "e_labels = e_labels[e_map_indices]\n",
    "mu_labels = mu_labels[mu_map_indices]\n",
    "gamma_labels = gamma_labels[gamma_map_indices]\n",
    "\n",
    "e_positions = e_positions[e_map_indices]\n",
    "mu_positions = mu_positions[mu_map_indices]\n",
    "gamma_positions = gamma_positions[gamma_map_indices]\n",
    "\n",
    "e_angles = e_angles[e_map_indices]\n",
    "mu_angles = mu_angles[mu_map_indices]\n",
    "gamma_angles = gamma_angles[gamma_map_indices]\n",
    "\n",
    "e_energies = e_energies[e_map_indices]\n",
    "mu_energies = mu_energies[mu_map_indices]\n",
    "gamma_energies = gamma_energies[gamma_map_indices]\n",
    "\n",
    "# For making ROC curves\n",
    "e_softmax_0 = e_softmaxes[e_labels==softmax_index_dict[label_0]] \n",
    "mu_softmax_0 = mu_softmaxes[mu_labels==softmax_index_dict[label_0]]\n",
    "gamma_softmax_0 = gamma_softmaxes[gamma_labels==softmax_index_dict[label_0]]\n",
    "\n",
    "e_labels_0 = e_labels[e_labels==softmax_index_dict[label_0]] \n",
    "mu_labels_0 = mu_labels[mu_labels==softmax_index_dict[label_0]]\n",
    "gamma_labels_0 = gamma_labels[gamma_labels==softmax_index_dict[label_0]]\n",
    "\n",
    "e_softmax_1 = e_softmaxes[e_labels==softmax_index_dict[label_1]] \n",
    "mu_softmax_1 = mu_softmaxes[mu_labels==softmax_index_dict[label_1]]\n",
    "gamma_softmax_1 = gamma_softmaxes[gamma_labels==softmax_index_dict[label_1]]\n",
    "\n",
    "e_labels_1 = e_labels[e_labels==softmax_index_dict[label_1]] \n",
    "mu_labels_1 = mu_labels[mu_labels==softmax_index_dict[label_1]]\n",
    "gamma_labels_1 = gamma_labels[gamma_labels==softmax_index_dict[label_1]]\n",
    "\n",
    "total_softmax = np.concatenate((e_softmax_0, e_softmax_1, mu_softmax_0, mu_softmax_1), axis=0)\n",
    "total_labels = np.concatenate((e_labels_0, e_labels_1, mu_labels_0, mu_labels_1), axis=0)\n"
   ]
  },
  {
   "cell_type": "code",
   "execution_count": 6,
   "metadata": {},
   "outputs": [],
   "source": [
    "# Load the fiTQun results\n",
    "\n",
    "# File paths for fiTQun results\n",
    "fiTQun_e_path = \"/fast_scratch/WatChMaL/data/IWCDmPMT_4pi_fulltank_fiTQun_e-.npz\"\n",
    "fiTQun_mu_path = \"/fast_scratch/WatChMaL/data/IWCDmPMT_4pi_fulltank_fiTQun_mu-.npz\"\n",
    "fiTQun_gamma_path = \"/fast_scratch/WatChMaL/data/IWCDmPMT_4pi_fulltank_fiTQun_gamma.npz\"\n",
    "\n",
    "# Load fiTQun results\n",
    "f_e = np.load(fiTQun_e_path, allow_pickle=True)\n",
    "f_mu = np.load(fiTQun_mu_path, allow_pickle=True)\n",
    "f_gamma = np.load(fiTQun_gamma_path, allow_pickle=True)\n",
    "\n",
    "list(f_e.keys())\n",
    "\n",
    "# Load the results\n",
    "\n",
    "# Remove events with a non-zero flag (this filtering will be applied to the other results as well)\n",
    "# * A non-zero flag value usually implies that either the reconstruction is known to have failed \n",
    "#   or the particle exited the tank and so would not be included in actual physics analysis\n",
    "e_flag = np.array(f_e['flag'])\n",
    "#e_indices = np.where((e_flag[:,0] == 0) & (e_flag[:,1] == 0))\n",
    "e_flagindices = np.where((e_flag[:,0] != 0) | (e_flag[:,1] != 0))\n",
    "mu_flag = np.array(f_mu['flag'])\n",
    "#mu_indices = np.where((mu_flag[:,0] == 0) & (mu_flag[:,1] == 0))\n",
    "mu_flagindices = np.where((mu_flag[:,0] != 0) | (mu_flag[:,1] != 0))\n",
    "gamma_flag = np.array(f_gamma['flag'])\n",
    "#gamma_indices = np.where((gamma_flag[:,0] == 0) & (gamma_flag[:,1] == 0))\n",
    "gamma_flagindices = np.where((gamma_flag[:,0] != 0) | (gamma_flag[:,1] != 0))"
   ]
  },
  {
   "cell_type": "code",
   "execution_count": 7,
   "metadata": {},
   "outputs": [],
   "source": [
    "# Get indices of flagged events that map to original h5 file\n",
    "\n",
    "original_indices = np.arange(original_eventdata.shape[0])\n",
    "filtered_indices = original_indices[test_filtered_indices]\n",
    "\n",
    "e_ind = filtered_indices[e_test_indices]\n",
    "mu_ind = filtered_indices[mu_test_indices]\n",
    "gamma_ind = filtered_indices[gamma_test_indices]\n",
    "\n",
    "e_mapind = e_ind[e_map_indices]\n",
    "mu_mapind = mu_ind[mu_map_indices]\n",
    "gamma_mapind = gamma_ind[gamma_map_indices]\n",
    "\n",
    "e_flagged = e_mapind[e_flagindices[0]]\n",
    "mu_flagged = mu_mapind[mu_flagindices[0]]\n",
    "gamma_flagged = gamma_mapind[gamma_flagindices[0]]"
   ]
  },
  {
   "cell_type": "code",
   "execution_count": 10,
   "metadata": {},
   "outputs": [],
   "source": [
    "test_eflagged = original_eventdata[e_flagged]\n",
    "test_eflagged_pos = original_positions[e_flagged]\n",
    "test_eflagged_rad = (test_eflagged_pos[:,0,0]**2 + test_eflagged_pos[:,0,1]**2 + test_eflagged_pos[:,0,2]**2)**0.5\n",
    "test_eflagged_energ = original_energies[e_flagged]\n",
    "#test_muflagged = original_eventdata[mu_flagged]\n",
    "#test_gammaflagged = original_eventdata[gamma_flagged]\n",
    "\n",
    "#print((test_eflagged.shape[0] + test_muflagged.shape[0] + test_gammaflagged.shape[0]))"
   ]
  },
  {
   "cell_type": "code",
   "execution_count": 13,
   "metadata": {},
   "outputs": [
    {
     "name": "stdout",
     "output_type": "stream",
     "text": [
      "406.04202\n",
      "16.389338\n",
      "638.05316\n"
     ]
    },
    {
     "data": {
      "text/plain": [
       "(array([  157.,  1177.,  4796., 15678., 39183., 51401., 46079., 51022.,\n",
       "        37938.,  5839.]),\n",
       " array([ 16.389338,  78.55572 , 140.7221  , 202.88849 , 265.05487 ,\n",
       "        327.22125 , 389.38763 , 451.55402 , 513.7204  , 575.8868  ,\n",
       "        638.05316 ], dtype=float32),\n",
       " <a list of 10 Patch objects>)"
      ]
     },
     "execution_count": 13,
     "metadata": {},
     "output_type": "execute_result"
    },
    {
     "data": {
      "image/png": "[encoded data removed]",
      "text/plain": [
       "<Figure size 640x480 with 1 Axes>"
      ]
     },
     "metadata": {},
     "output_type": "display_data"
    }
   ],
   "source": [
    "# Histogram of radius from center of tank for flagged events\n",
    "print(test_eflagged_rad.mean())\n",
    "print(test_eflagged_rad.min())\n",
    "print(test_eflagged_rad.max())\n",
    "plt.hist(test_eflagged_rad)"
   ]
  },
  {
   "cell_type": "code",
   "execution_count": 17,
   "metadata": {},
   "outputs": [
    {
     "data": {
      "text/plain": [
       "(array([ 4376., 10909., 16495., 20920., 24925., 28793., 32273., 34993.,\n",
       "        38182., 41404.]),\n",
       " array([  15.297315,  113.844315,  212.39131 ,  310.93832 ,  409.48532 ,\n",
       "         508.03232 ,  606.57935 ,  705.12634 ,  803.67334 ,  902.22034 ,\n",
       "        1000.76733 ], dtype=float32),\n",
       " <a list of 10 Patch objects>)"
      ]
     },
     "execution_count": 17,
     "metadata": {},
     "output_type": "execute_result"
    },
    {
     "data": {
      "image/png": "[encoded data removed]",
      "text/plain": [
       "<Figure size 640x480 with 1 Axes>"
      ]
     },
     "metadata": {},
     "output_type": "display_data"
    }
   ],
   "source": [
    "# Histogram of energy for flagged events\n",
    "plt.hist(test_eflagged_energ)"
   ]
  },
  {
   "cell_type": "code",
   "execution_count": 13,
   "metadata": {},
   "outputs": [
    {
     "name": "stdout",
     "output_type": "stream",
     "text": [
      "(253270, 40, 40, 38)\n",
      "(253270, 1, 3)\n",
      "23.558098\n",
      "0.0\n",
      "3146.8333\n"
     ]
    },
    {
     "data": {
      "text/plain": [
       "(array([3.039762e+06, 1.520000e+02, 4.900000e+01, 2.000000e+01,\n",
       "        1.100000e+01, 3.000000e+00, 1.000000e+00, 1.000000e+00,\n",
       "        0.000000e+00, 1.000000e+00]),\n",
       " array([   0.     ,  109.93297,  219.86594,  329.79892,  439.73187,\n",
       "         549.66486,  659.59784,  769.5308 ,  879.46375,  989.3967 ,\n",
       "        1099.3297 ], dtype=float32),\n",
       " <a list of 10 Patch objects>)"
      ]
     },
     "execution_count": 13,
     "metadata": {},
     "output_type": "execute_result"
    },
    {
     "data": {
      "image/png": "[encoded data removed]",
      "text/plain": [
       "<Figure size 640x480 with 1 Axes>"
      ]
     },
     "metadata": {},
     "output_type": "display_data"
    }
   ],
   "source": [
    "# Histogram of PMT activation for flagged events\n",
    "print(test_eflagged.shape)\n",
    "print(test_eflagged_pos.shape)\n",
    "print(test_eflagged.mean())\n",
    "print(test_eflagged.min())\n",
    "print(test_eflagged.max())\n",
    "#print(test_eflagged.std())\n",
    "plt.hist(test_eflagged[:100,:,:,:19].flatten())"
   ]
  },
  {
   "cell_type": "code",
   "execution_count": null,
   "metadata": {
    "scrolled": false
   },
   "outputs": [],
   "source": [
    "#fig, ax = plt.subplots(figsize=(16,8),facecolor='w')\n",
    "fig, ax = plt.subplots(10, figsize=(160,80), facecolor='w')\n",
    "cmap = plt.cm.afmhot\n",
    "cmap.set_bad(color='black')\n",
    "keys = []\n",
    "for i in np.arange(10):\n",
    "    \n",
    "    k = random.randrange (0, test_eflagged.shape[0], 1)\n",
    "    keys.append(k)\n",
    "    a=PlottingEventDisplays.get_plot_array(test_eflagged[k,:,:,0:19])\n",
    "    a = np.ma.masked_where(a < 0.05, a)\n",
    "    ax[i].imshow(a,\n",
    "               origin=\"upper\",\n",
    "               cmap=cmap,\n",
    "               norm=colors.LogNorm(vmax=np.amax(test_eflagged[k,:,:,0:19])))\n",
    "               #                               clip=True))\n",
    "\n",
    "ax[0].set_title('Event Data, charge in mPMT',fontsize=20,fontweight='bold')\n",
    "\n",
    "plt.show()\n",
    "print(keys)\n",
    "'''\n",
    "b = event_data([max_train_ind,:,:,0:19])\n",
    "b = np.ma.masked_where(b < 0.05, b)\n",
    "b[:,0:12, 14:26]\n",
    "b[:,28:40, 14:26]\n",
    "'''"
   ]
  },
  {
   "cell_type": "code",
   "execution_count": null,
   "metadata": {},
   "outputs": [],
   "source": []
  }
 ],
 "metadata": {
  "kernelspec": {
   "display_name": "Python 3",
   "language": "python",
   "name": "python3"
  },
  "language_info": {
   "codemirror_mode": {
    "name": "ipython",
    "version": 3
   },
   "file_extension": ".py",
   "mimetype": "text/x-python",
   "name": "python",
   "nbconvert_exporter": "python",
   "pygments_lexer": "ipython3",
   "version": "3.6.9"
  }
 },
 "nbformat": 4,
 "nbformat_minor": 4
}
