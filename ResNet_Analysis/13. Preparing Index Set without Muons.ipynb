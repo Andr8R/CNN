{
 "cells": [
  {
   "cell_type": "code",
   "execution_count": 1,
   "metadata": {},
   "outputs": [],
   "source": [
    "import sys\n",
    "import os\n",
    "import h5py\n",
    "from collections import Counter\n",
    "from progressbar import *\n",
    "import re\n",
    "import numpy as np\n",
    "import h5py\n",
    "from scipy import signal\n",
    "import matplotlib\n",
    "from repeating_classifier_training_utils import *\n",
    "from functools import reduce\n",
    "from tqdm import tqdm\n",
    "\n",
    "# Add the path to the parent directory to augment search for module\n",
    "par_dir = os.path.abspath(os.path.join(os.getcwd(), os.pardir))\n",
    "\n",
    "if par_dir not in sys.path:\n",
    "    sys.path.append(par_dir)\n",
    "%load_ext autoreload\n",
    "%matplotlib inline\n",
    "%autoreload 2\n",
    "index_path = os.path.join(os.getcwd(), 'Index_Storage')"
   ]
  },
  {
   "cell_type": "code",
   "execution_count": 2,
   "metadata": {},
   "outputs": [],
   "source": [
    "event_data_file = h5py.File('/fast_scratch/WatChMaL/data/IWCDmPMT_4pi_full_tank_pointnet.h5','r')\n",
    "dset_labels = np.array(event_data_file['labels'])"
   ]
  },
  {
   "cell_type": "code",
   "execution_count": 3,
   "metadata": {},
   "outputs": [],
   "source": [
    "idx_file = np.load('/fast_scratch/WatChMaL/data/IWCD_fulltank_300_pe_idxs.npz', allow_pickle=True)\n",
    "test_idxs = idx_file['test_idxs'].astype(int)\n",
    "train_idxs = idx_file['train_idxs'].astype(int)\n",
    "val_idxs = idx_file['val_idxs'].astype(int)"
   ]
  },
  {
   "cell_type": "code",
   "execution_count": 4,
   "metadata": {},
   "outputs": [],
   "source": [
    "test_labels = dset_labels[test_idxs]\n",
    "train_labels = dset_labels[train_idxs]\n",
    "val_labels = dset_labels[val_idxs]"
   ]
  },
  {
   "cell_type": "code",
   "execution_count": 5,
   "metadata": {},
   "outputs": [],
   "source": [
    "no_muon_train_idxs = train_idxs[np.where(train_labels!=2)[0]]\n",
    "no_muon_val_idxs = val_idxs[np.where(val_labels!=2)[0]]\n",
    "no_muon_test_idxs = test_idxs[np.where(test_labels!=2)[0]]"
   ]
  },
  {
   "cell_type": "code",
   "execution_count": 6,
   "metadata": {},
   "outputs": [],
   "source": [
    "np.savez('/fast_scratch/WatChMaL/data/IWCD_fulltank_300_pe_idxs_no_muons.npz', train_idxs=no_muon_train_idxs,test_idxs=no_muon_test_idxs,val_idxs=no_muon_val_idxs)"
   ]
  },
  {
   "cell_type": "code",
   "execution_count": null,
   "metadata": {},
   "outputs": [],
   "source": []
  }
 ],
 "metadata": {
  "kernelspec": {
   "display_name": "Python 3",
   "language": "python",
   "name": "python3"
  },
  "language_info": {
   "codemirror_mode": {
    "name": "ipython",
    "version": 3
   },
   "file_extension": ".py",
   "mimetype": "text/x-python",
   "name": "python",
   "nbconvert_exporter": "python",
   "pygments_lexer": "ipython3",
   "version": "3.6.9"
  }
 },
 "nbformat": 4,
 "nbformat_minor": 4
}
