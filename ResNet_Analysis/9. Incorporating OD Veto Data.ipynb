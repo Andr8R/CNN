{
 "cells": [
  {
   "cell_type": "markdown",
   "metadata": {},
   "source": [
    "# 9. Incorporating OD Veto Data"
   ]
  },
  {
   "cell_type": "code",
   "execution_count": 1,
   "metadata": {},
   "outputs": [],
   "source": [
    "import sys\n",
    "import os\n",
    "import h5py\n",
    "from collections import Counter\n",
    "from progressbar import *\n",
    "import re\n",
    "import numpy as np\n",
    "import h5py\n",
    "from scipy import signal\n",
    "import matplotlib\n",
    "from repeating_classifier_training_utils import *\n",
    "from functools import reduce\n",
    "\n",
    "# Add the path to the parent directory to augment search for module\n",
    "par_dir = os.path.abspath(os.path.join(os.getcwd(), os.pardir))\n",
    "\n",
    "if par_dir not in sys.path:\n",
    "    sys.path.append(par_dir)\n",
    "%load_ext autoreload\n",
    "%matplotlib inline\n",
    "%autoreload 2"
   ]
  },
  {
   "cell_type": "code",
   "execution_count": 2,
   "metadata": {},
   "outputs": [],
   "source": [
    "veto_path = '/fast_scratch/WatChMaL/data/IWCDmPMT_4pm_full_tank_ODveto.h5'"
   ]
  },
  {
   "cell_type": "code",
   "execution_count": 3,
   "metadata": {},
   "outputs": [],
   "source": [
    "odv_file = h5py.File(veto_path,'r')\n",
    "odv_info = {}\n",
    "for key in odv_file.keys():\n",
    "    odv_info[key] = np.array(odv_file[key])"
   ]
  },
  {
   "cell_type": "code",
   "execution_count": 15,
   "metadata": {},
   "outputs": [
    {
     "name": "stderr",
     "output_type": "stream",
     "text": [
      "Creating Event-Index Dictionary: 100% [0000000000000000000000000] Time: 0:00:15\n"
     ]
    }
   ],
   "source": [
    "odv_dict = {}\n",
    "pbar = ProgressBar(widgets=['Creating Event-Index Dictionary: ', Percentage(), ' ', Bar(marker='0',left='[',right=']'),\n",
    "           ' ', ETA()], maxval=len(odv_info['event_ids']))\n",
    "pbar.start()\n",
    "for i in range(len(odv_info['event_ids'])):\n",
    "    odv_dict[(odv_info['root_files'][i], odv_info['event_ids'][i])] = i\n",
    "    pbar.update(i)\n",
    "pbar.finish()"
   ]
  },
  {
   "cell_type": "markdown",
   "metadata": {},
   "source": [
    "## Load test set"
   ]
  },
  {
   "cell_type": "code",
   "execution_count": 12,
   "metadata": {},
   "outputs": [],
   "source": [
    "# Get original h5 file info\n",
    "# Import test events from h5 file\n",
    "filtered_index = \"/fast_scratch/WatChMaL/data/IWCD_fulltank_300_pe_idxs.npz\"\n",
    "filtered_indices = np.load(filtered_index, allow_pickle=True)\n",
    "test_filtered_indices = filtered_indices['test_idxs']\n",
    "\n",
    "original_data_path = \"/data/WatChMaL/data/IWCDmPMT_4pi_fulltank_9M.h5\"\n",
    "f = h5py.File(original_data_path, \"r\")\n",
    "\n",
    "original_eventids = np.array(f['event_ids'])\n",
    "original_rootfiles = np.array(f['root_files'])\n",
    "\n",
    "filtered_eventids = original_eventids[test_filtered_indices]\n",
    "filtered_rootfiles = original_rootfiles[test_filtered_indices]"
   ]
  },
  {
   "cell_type": "code",
   "execution_count": 18,
   "metadata": {},
   "outputs": [
    {
     "name": "stderr",
     "output_type": "stream",
     "text": [
      "Mapping Progress: 100% [0000000000000000000000000000000000000000] Time: 0:00:09\n"
     ]
    }
   ],
   "source": [
    "odv_mapping_indices = np.zeros(len(filtered_rootfiles))\n",
    "pbar = ProgressBar(widgets=['Mapping Progress: ', Percentage(), ' ', Bar(marker='0',left='[',right=']'),\n",
    "           ' ', ETA()], maxval=len(filtered_rootfiles))\n",
    "pbar.start()\n",
    "for i in range(len(filtered_rootfiles)):\n",
    "    odv_mapping_indices[i] = odv_dict[(filtered_rootfiles[i], filtered_eventids[i])]\n",
    "    pbar.update(i)\n",
    "pbar.finish()\n",
    "odv_mapping_indices = np.int32(odv_mapping_indices)"
   ]
  },
  {
   "cell_type": "code",
   "execution_count": 23,
   "metadata": {},
   "outputs": [
    {
     "name": "stderr",
     "output_type": "stream",
     "text": [
      "Verification Progress: 100% [00000000000000000000000000000000000] Time: 0:00:13\n"
     ]
    }
   ],
   "source": [
    "pbar = ProgressBar(widgets=['Verification Progress: ', Percentage(), ' ', Bar(marker='0',left='[',right=']'),\n",
    "           ' ', ETA()], maxval=len(filtered_rootfiles))\n",
    "pbar.start()\n",
    "for i in range(len(filtered_rootfiles)):\n",
    "    assert odv_info['root_files'][odv_mapping_indices[i]] == filtered_rootfiles[i]\n",
    "    assert odv_info['event_ids'][odv_mapping_indices[i]] == filtered_eventids[i]\n",
    "    pbar.update(i)\n",
    "pbar.finish()"
   ]
  },
  {
   "cell_type": "code",
   "execution_count": 27,
   "metadata": {},
   "outputs": [],
   "source": [
    "np.savez(os.path.join(os.getcwd(), 'Index_Storage/od_veto_mapping_idxs.npz'), mapping_idxs_full_set=odv_mapping_indices)"
   ]
  }
 ],
 "metadata": {
  "kernelspec": {
   "display_name": "Python 3",
   "language": "python",
   "name": "python3"
  },
  "language_info": {
   "codemirror_mode": {
    "name": "ipython",
    "version": 3
   },
   "file_extension": ".py",
   "mimetype": "text/x-python",
   "name": "python",
   "nbconvert_exporter": "python",
   "pygments_lexer": "ipython3",
   "version": "3.6.9"
  }
 },
 "nbformat": 4,
 "nbformat_minor": 4
}
