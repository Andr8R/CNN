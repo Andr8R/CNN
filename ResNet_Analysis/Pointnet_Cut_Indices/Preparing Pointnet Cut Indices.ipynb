{
 "cells": [
  {
   "cell_type": "code",
   "execution_count": 1,
   "metadata": {},
   "outputs": [],
   "source": [
    "import sys\n",
    "import os\n",
    "import h5py\n",
    "from collections import Counter\n",
    "from progressbar import *\n",
    "import re\n",
    "import numpy as np\n",
    "from tqdm import tqdm\n",
    "\n",
    "# Add the path to the parent directory to augment search for module\n",
    "par_dir = os.path.abspath(os.path.join(os.getcwd(), os.pardir))\n",
    "\n",
    "if par_dir not in sys.path:\n",
    "    sys.path.append(par_dir)"
   ]
  },
  {
   "cell_type": "code",
   "execution_count": 2,
   "metadata": {},
   "outputs": [],
   "source": [
    "event_data_file = h5py.File('/fast_scratch/WatChMaL/data/IWCDmPMT_4pi_full_tank_pointnet.h5','r')\n",
    "dset_labels = np.array(event_data_file['labels'])\n",
    "dset_filenames = np.array(event_data_file['root_files'])\n",
    "dset_eventids = np.array(event_data_file['event_ids'])"
   ]
  },
  {
   "cell_type": "markdown",
   "metadata": {},
   "source": [
    "## Create FiTQun Cuts (will only affect test set)"
   ]
  },
  {
   "cell_type": "code",
   "execution_count": 3,
   "metadata": {},
   "outputs": [],
   "source": [
    "# File paths for fiTQun results\n",
    "fiTQun_e_path = \"/fast_scratch/WatChMaL/data/IWCDmPMT_4pi_fulltank_fiTQun_e-.npz\"\n",
    "fiTQun_mu_path = \"/fast_scratch/WatChMaL/data/IWCDmPMT_4pi_fulltank_fiTQun_mu-.npz\"\n",
    "fiTQun_gamma_path = \"/fast_scratch/WatChMaL/data/IWCDmPMT_4pi_fulltank_fiTQun_gamma.npz\"\n",
    "\n",
    "# Load fiTQun results\n",
    "f_e = np.load(fiTQun_e_path, allow_pickle=True)\n",
    "f_mu = np.load(fiTQun_mu_path, allow_pickle=True)\n",
    "f_gamma = np.load(fiTQun_gamma_path, allow_pickle=True)"
   ]
  },
  {
   "cell_type": "code",
   "execution_count": 4,
   "metadata": {},
   "outputs": [],
   "source": [
    "fq_flag_e = f_e['flag']\n",
    "fq_flag_mu = f_mu['flag']\n",
    "fq_flag_gamma = f_gamma['flag']\n",
    "\n",
    "fq_eventid_e = f_e['eventid']\n",
    "fq_eventid_mu = f_mu['eventid']\n",
    "fq_eventid_gamma = f_gamma['eventid']\n",
    "\n",
    "fq_filename_e = f_e['filename']\n",
    "fq_filename_mu = f_mu['filename']\n",
    "fq_filename_gamma = f_gamma['filename']"
   ]
  },
  {
   "cell_type": "code",
   "execution_count": 5,
   "metadata": {},
   "outputs": [],
   "source": [
    "idx_file = np.load('/fast_scratch/WatChMaL/data/IWCD_fulltank_300_pe_idxs.npz', allow_pickle=True)\n",
    "test_idxs = idx_file['test_idxs'].astype(int)\n",
    "train_idxs = idx_file['train_idxs'].astype(int)\n",
    "val_idxs = idx_file['val_idxs'].astype(int)"
   ]
  },
  {
   "cell_type": "code",
   "execution_count": 6,
   "metadata": {},
   "outputs": [],
   "source": [
    "fq_flag_dict={}\n",
    "fq_failed_dict={}\n",
    "for i, filename in enumerate(dset_filenames):\n",
    "    key = (filename.split('/')[-1], dset_eventids[i])\n",
    "    fq_flag_dict[key] = 0\n",
    "    fq_failed_dict[key] = 0\n",
    "\n",
    "for idx in test_idxs:\n",
    "    key = (dset_filenames[idx].split('/')[-1], dset_eventids[idx])\n",
    "    fq_flag_dict[key] = 0\n",
    "    fq_failed_dict[key] = 1"
   ]
  },
  {
   "cell_type": "code",
   "execution_count": 7,
   "metadata": {},
   "outputs": [
    {
     "name": "stderr",
     "output_type": "stream",
     "text": [
      "1118723it [00:11, 98961.51it/s] \n",
      "1097125it [00:12, 90853.38it/s]\n",
      "1133003it [00:11, 94884.56it/s] \n"
     ]
    }
   ],
   "source": [
    "for flags, filenames, eventids in [(fq_flag_e,fq_filename_e,fq_eventid_e), (fq_flag_mu,fq_filename_mu,fq_eventid_mu), (fq_flag_gamma,fq_filename_gamma,fq_eventid_gamma)]:\n",
    "    for i, flag in tqdm(enumerate(flags)):\n",
    "        key = (re.sub('_fiTQun','',filenames[i].split('/')[-1]), eventids[i]-1)\n",
    "        fq_flag_dict[key] = 0 if flag[0]==0 and flag[1]==0 else 1\n",
    "        fq_failed_dict[key] = 0"
   ]
  },
  {
   "cell_type": "code",
   "execution_count": 8,
   "metadata": {},
   "outputs": [
    {
     "name": "stdout",
     "output_type": "stream",
     "text": [
      "(2169,)\n"
     ]
    }
   ],
   "source": [
    "failed = []\n",
    "for key in fq_failed_dict.keys():\n",
    "    failed.append(fq_failed_dict[key])\n",
    "print(np.where(np.array(failed)==1)[0].shape)"
   ]
  },
  {
   "cell_type": "code",
   "execution_count": 9,
   "metadata": {},
   "outputs": [
    {
     "name": "stdout",
     "output_type": "stream",
     "text": [
      "8834960\n",
      "8834960\n",
      "8834960\n"
     ]
    }
   ],
   "source": [
    "print(len(fq_failed_dict.keys()))\n",
    "print(len(fq_flag_dict.keys()))\n",
    "print(dset_filenames.shape[0])"
   ]
  },
  {
   "cell_type": "code",
   "execution_count": 10,
   "metadata": {},
   "outputs": [],
   "source": [
    "fq_flag = []\n",
    "fq_failed = []\n",
    "\n",
    "for i, filename in enumerate(dset_filenames):\n",
    "    key = (filename.split('/')[-1], dset_eventids[i])\n",
    "    fq_flag.append(fq_flag_dict[key])\n",
    "    fq_failed.append(fq_failed_dict[key])\n",
    "    \n",
    "fq_flag = np.array(fq_flag)\n",
    "fq_failed = np.array(fq_failed)"
   ]
  },
  {
   "cell_type": "code",
   "execution_count": 11,
   "metadata": {},
   "outputs": [
    {
     "name": "stdout",
     "output_type": "stream",
     "text": [
      "Failed: (2169,) Flagged: (735557,)\n"
     ]
    }
   ],
   "source": [
    "print(f\"Failed: {np.where(fq_failed==1)[0].shape} Flagged: {np.where(fq_flag==1)[0].shape}\")"
   ]
  },
  {
   "cell_type": "markdown",
   "metadata": {},
   "source": [
    "## Create OD Veto Cuts"
   ]
  },
  {
   "cell_type": "code",
   "execution_count": 12,
   "metadata": {},
   "outputs": [],
   "source": [
    "veto_path = '/fast_scratch/WatChMaL/data/IWCDmPMT_4pm_full_tank_ODveto.h5'"
   ]
  },
  {
   "cell_type": "code",
   "execution_count": 13,
   "metadata": {},
   "outputs": [],
   "source": [
    "odv_file = h5py.File(veto_path,'r')\n",
    "odv_info = {}\n",
    "for key in odv_file.keys():\n",
    "    odv_info[key] = np.array(odv_file[key])"
   ]
  },
  {
   "cell_type": "code",
   "execution_count": 14,
   "metadata": {},
   "outputs": [
    {
     "data": {
      "text/plain": [
       "dict_keys(['event_ids', 'labels', 'root_files', 'veto', 'veto2'])"
      ]
     },
     "execution_count": 14,
     "metadata": {},
     "output_type": "execute_result"
    }
   ],
   "source": [
    "odv_info.keys()"
   ]
  },
  {
   "cell_type": "code",
   "execution_count": 15,
   "metadata": {},
   "outputs": [
    {
     "name": "stderr",
     "output_type": "stream",
     "text": [
      "Creating Event-Index Dictionary: 100% [0000000000000000000000000] Time: 0:00:24\n"
     ]
    }
   ],
   "source": [
    "odv_dict_1 = {}\n",
    "odv_dict_2 = {}\n",
    "pbar = ProgressBar(widgets=['Creating Event-Index Dictionary: ', Percentage(), ' ', Bar(marker='0',left='[',right=']'),\n",
    "           ' ', ETA()], maxval=len(odv_info['event_ids']))\n",
    "pbar.start()\n",
    "for i, veto in enumerate(odv_info['veto']):\n",
    "    odv_dict_1[(odv_info['root_files'][i], odv_info['event_ids'][i])] = veto\n",
    "    odv_dict_2[(odv_info['root_files'][i], odv_info['event_ids'][i])] = odv_info['veto2'][i]\n",
    "    pbar.update(i)\n",
    "pbar.finish()"
   ]
  },
  {
   "cell_type": "code",
   "execution_count": 16,
   "metadata": {},
   "outputs": [],
   "source": [
    "veto1 = []\n",
    "veto2 = []\n",
    "for i, filename in enumerate(dset_filenames):\n",
    "    key = (filename, dset_eventids[i])\n",
    "    veto1.append(odv_dict_1[key])\n",
    "    veto2.append(odv_dict_2[key])\n",
    "\n",
    "veto1 = np.array(veto1)\n",
    "veto2 = np.array(veto2)"
   ]
  },
  {
   "cell_type": "markdown",
   "metadata": {},
   "source": [
    "## Save file"
   ]
  },
  {
   "cell_type": "code",
   "execution_count": 17,
   "metadata": {},
   "outputs": [],
   "source": [
    "np.savez(os.path.join(os.getcwd(), 'pointnet_cut_indices'), fq_flag=fq_flag, fq_failed=fq_failed, veto1=veto1, veto2=veto2)"
   ]
  }
 ],
 "metadata": {
  "kernelspec": {
   "display_name": "Python 3",
   "language": "python",
   "name": "python3"
  },
  "language_info": {
   "codemirror_mode": {
    "name": "ipython",
    "version": 3
   },
   "file_extension": ".py",
   "mimetype": "text/x-python",
   "name": "python",
   "nbconvert_exporter": "python",
   "pygments_lexer": "ipython3",
   "version": "3.6.9"
  }
 },
 "nbformat": 4,
 "nbformat_minor": 4
}
