{
 "cells": [
  {
   "cell_type": "code",
   "execution_count": 1,
   "metadata": {},
   "outputs": [],
   "source": [
    "# Python library and module imports\n",
    "import os\n",
    "import sys\n",
    "import numpy as np\n",
    "import matplotlib.pyplot as plt\n",
    "import math\n",
    "import h5py\n",
    "import torch\n",
    "\n",
    "# Add the path to the parent directory to augment search for module\n",
    "par_dir = os.path.abspath(os.path.join(os.getcwd(), os.pardir))\n",
    "if par_dir not in sys.path:\n",
    "    sys.path.append(par_dir)\n",
    "    \n",
    "# Import the custom plotting module\n",
    "from plot_utils import plot_utils\n",
    "\n",
    "# WatChMaL imports\n",
    "from io_utils.data_handling import WCH5Dataset"
   ]
  },
  {
   "cell_type": "markdown",
   "metadata": {},
   "source": [
    "# Use the dataloader to load the dataset"
   ]
  },
  {
   "cell_type": "code",
   "execution_count": 2,
   "metadata": {},
   "outputs": [],
   "source": [
    "dset=WCH5Dataset(\"/fast_scratch/WatChMaL/data/IWCDmPMT/varyE/IWCDmPMT_varyE_100-1000MeV_300k_fmt.h5\",\n",
    "                 0.1,\n",
    "                 0.1,\n",
    "                 shuffle=True,\n",
    "                 reduced_dataset_size=5000)"
   ]
  },
  {
   "cell_type": "code",
   "execution_count": 3,
   "metadata": {},
   "outputs": [
    {
     "name": "stdout",
     "output_type": "stream",
     "text": [
      "5000\n"
     ]
    }
   ],
   "source": [
    "print(len(dset))"
   ]
  },
  {
   "cell_type": "code",
   "execution_count": 8,
   "metadata": {},
   "outputs": [
    {
     "name": "stdout",
     "output_type": "stream",
     "text": [
      "4\n"
     ]
    }
   ],
   "source": [
    "data = next(iter(dset))\n",
    "print(len(data))"
   ]
  },
  {
   "cell_type": "code",
   "execution_count": 10,
   "metadata": {},
   "outputs": [
    {
     "name": "stdout",
     "output_type": "stream",
     "text": [
      "(16, 40, 38)\n",
      "()\n",
      "0\n",
      "[523.95337]\n"
     ]
    }
   ],
   "source": [
    "print(data[0].shape)\n",
    "print(data[1].shape)\n",
    "print(data[2])\n",
    "print(data[3])"
   ]
  },
  {
   "cell_type": "code",
   "execution_count": null,
   "metadata": {},
   "outputs": [],
   "source": []
  },
  {
   "cell_type": "code",
   "execution_count": 4,
   "metadata": {},
   "outputs": [],
   "source": [
    "event_data = [0 for i in range(len(dset))]\n",
    "\n",
    "for i in range(len(dset)):\n",
    "    data = next(iter(dset))\n",
    "    event_data[i] = data[0]"
   ]
  },
  {
   "cell_type": "code",
   "execution_count": 5,
   "metadata": {},
   "outputs": [
    {
     "name": "stdout",
     "output_type": "stream",
     "text": [
      "(5000, 16, 40, 38)\n"
     ]
    }
   ],
   "source": [
    "event_data = np.array(event_data)\n",
    "print(event_data.shape)"
   ]
  },
  {
   "cell_type": "code",
   "execution_count": 6,
   "metadata": {},
   "outputs": [
    {
     "name": "stdout",
     "output_type": "stream",
     "text": [
      "(5000, 16, 40, 38)\n"
     ]
    }
   ],
   "source": [
    "data = event_data\n",
    "print(data.shape)"
   ]
  },
  {
   "cell_type": "code",
   "execution_count": 7,
   "metadata": {},
   "outputs": [
    {
     "name": "stdout",
     "output_type": "stream",
     "text": [
      "(5000, 16, 40, 19)\n",
      "(5000, 16, 40, 19)\n"
     ]
    }
   ],
   "source": [
    "charge_data = data[:,:,:,:19]\n",
    "timing_data = data[:,:,:,19:]\n",
    "\n",
    "print(charge_data.shape)\n",
    "print(timing_data.shape)"
   ]
  },
  {
   "cell_type": "code",
   "execution_count": 9,
   "metadata": {},
   "outputs": [
    {
     "name": "stdout",
     "output_type": "stream",
     "text": [
      "(16, 40, 19)\n",
      "(16, 40, 19)\n"
     ]
    }
   ],
   "source": [
    "single_event_charge_data = charge_data[1000]\n",
    "single_event_timing_data = timing_data[1000]\n",
    "\n",
    "print(single_event_charge_data.shape)\n",
    "print(single_event_timing_data.shape)\n",
    "\n",
    "# Reshape the arrays into 1D\n",
    "charge_data = charge_data.reshape(charge_data.shape[0]*charge_data.shape[1]*charge_data.shape[2]*charge_data.shape[3], -1)\n",
    "timing_data = timing_data.reshape(timing_data.shape[0]*timing_data.shape[1]*timing_data.shape[2]*timing_data.shape[3], -1)\n",
    "\n",
    "single_event_charge_data = single_event_charge_data.reshape(single_event_charge_data.shape[0]*single_event_charge_data.shape[1]*single_event_charge_data.shape[2], -1)\n",
    "single_event_timing_data = single_event_timing_data.reshape(single_event_timing_data.shape[0]*single_event_timing_data.shape[1]*single_event_timing_data.shape[2], -1)"
   ]
  },
  {
   "cell_type": "code",
   "execution_count": 10,
   "metadata": {},
   "outputs": [
    {
     "name": "stdout",
     "output_type": "stream",
     "text": [
      "(60800000, 1)\n",
      "(60800000, 1)\n"
     ]
    }
   ],
   "source": [
    "print(charge_data.shape)\n",
    "print(timing_data.shape)"
   ]
  },
  {
   "cell_type": "code",
   "execution_count": 12,
   "metadata": {},
   "outputs": [
    {
     "data": {
      "image/png": "[encoded data removed]",
      "text/plain": [
       "<Figure size 1152x648 with 1 Axes>"
      ]
     },
     "metadata": {
      "needs_background": "light"
     },
     "output_type": "display_data"
    }
   ],
   "source": [
    "fig = plt.figure(figsize=(16,9))\n",
    "plt.hist(charge_data, bins=100)\n",
    "plt.grid(True)\n",
    "plt.ylim(0.1)\n",
    "plt.yscale('log')"
   ]
  },
  {
   "cell_type": "code",
   "execution_count": 13,
   "metadata": {},
   "outputs": [
    {
     "data": {
      "image/png": "[encoded data removed]",
      "text/plain": [
       "<Figure size 1152x648 with 1 Axes>"
      ]
     },
     "metadata": {
      "needs_background": "light"
     },
     "output_type": "display_data"
    }
   ],
   "source": [
    "fig = plt.figure(figsize=(16,9))\n",
    "plt.hist(timing_data, bins=100)\n",
    "plt.grid(True)\n",
    "plt.ylim(0.1)\n",
    "plt.yscale('log')"
   ]
  },
  {
   "cell_type": "code",
   "execution_count": 36,
   "metadata": {},
   "outputs": [
    {
     "data": {
      "image/png": "[encoded data removed]",
      "text/plain": [
       "<Figure size 1152x648 with 1 Axes>"
      ]
     },
     "metadata": {
      "needs_background": "light"
     },
     "output_type": "display_data"
    }
   ],
   "source": [
    "fig = plt.figure(figsize=(16,9))\n",
    "plt.hist(single_event_charge_data, bins=200)\n",
    "plt.yscale('log')"
   ]
  },
  {
   "cell_type": "code",
   "execution_count": 37,
   "metadata": {},
   "outputs": [
    {
     "data": {
      "image/png": "[encoded data removed]",
      "text/plain": [
       "<Figure size 1152x648 with 1 Axes>"
      ]
     },
     "metadata": {
      "needs_background": "light"
     },
     "output_type": "display_data"
    }
   ],
   "source": [
    "fig = plt.figure(figsize=(16,9))\n",
    "plt.hist(single_event_timing_data, bins=200)\n",
    "plt.yscale('log')"
   ]
  },
  {
   "cell_type": "markdown",
   "metadata": {},
   "source": [
    "## Using only the hit PMTs for finding the distribution"
   ]
  },
  {
   "cell_type": "code",
   "execution_count": 43,
   "metadata": {},
   "outputs": [],
   "source": [
    "hit_charge_data = charge_data[charge_data != 0]\n",
    "hit_timing_data = timing_data[charge_data != 0]"
   ]
  },
  {
   "cell_type": "code",
   "execution_count": 63,
   "metadata": {},
   "outputs": [
    {
     "name": "stdout",
     "output_type": "stream",
     "text": [
      "(19350000,)\n",
      "(19350000,)\n"
     ]
    }
   ],
   "source": [
    "print(hit_charge_data.shape)\n",
    "print(hit_timing_data.shape)"
   ]
  },
  {
   "cell_type": "code",
   "execution_count": 64,
   "metadata": {},
   "outputs": [
    {
     "name": "stdout",
     "output_type": "stream",
     "text": [
      "0.12825873\n",
      "952.0\n"
     ]
    }
   ],
   "source": [
    "print(min(hit_charge_data))\n",
    "print(min(hit_timing_data))"
   ]
  },
  {
   "cell_type": "code",
   "execution_count": 65,
   "metadata": {},
   "outputs": [
    {
     "name": "stdout",
     "output_type": "stream",
     "text": [
      "6.704638\n",
      "1471.1\n"
     ]
    }
   ],
   "source": [
    "print(max(hit_charge_data))\n",
    "print(max(hit_timing_data))"
   ]
  },
  {
   "cell_type": "code",
   "execution_count": 66,
   "metadata": {},
   "outputs": [
    {
     "data": {
      "image/png": "[encoded data removed]",
      "text/plain": [
       "<Figure size 1152x648 with 1 Axes>"
      ]
     },
     "metadata": {
      "needs_background": "light"
     },
     "output_type": "display_data"
    }
   ],
   "source": [
    "fig = plt.figure(figsize=(16,9))\n",
    "plt.hist(hit_charge_data, bins=200)\n",
    "plt.yscale('log')"
   ]
  },
  {
   "cell_type": "code",
   "execution_count": 67,
   "metadata": {},
   "outputs": [
    {
     "data": {
      "image/png": "[encoded data removed]",
      "text/plain": [
       "<Figure size 1152x648 with 1 Axes>"
      ]
     },
     "metadata": {
      "needs_background": "light"
     },
     "output_type": "display_data"
    }
   ],
   "source": [
    "fig = plt.figure(figsize=(16,9))\n",
    "plt.hist(hit_timing_data, bins=200)\n",
    "plt.ylim(0.1, 1000000)\n",
    "plt.yscale('log')"
   ]
  },
  {
   "cell_type": "markdown",
   "metadata": {},
   "source": [
    "## Remove the unhit PMTs from the single event data"
   ]
  },
  {
   "cell_type": "code",
   "execution_count": 76,
   "metadata": {},
   "outputs": [
    {
     "name": "stdout",
     "output_type": "stream",
     "text": [
      "(12160, 1)\n",
      "(12160, 1)\n"
     ]
    }
   ],
   "source": [
    "print(single_event_charge_data.shape)\n",
    "print(single_event_timing_data.shape)"
   ]
  },
  {
   "cell_type": "code",
   "execution_count": 77,
   "metadata": {},
   "outputs": [],
   "source": [
    "single_event_hit_charge_data = single_event_charge_data[single_event_charge_data != 0]\n",
    "single_event_hit_timing_data = single_event_timing_data[single_event_charge_data != 0]"
   ]
  },
  {
   "cell_type": "code",
   "execution_count": 78,
   "metadata": {},
   "outputs": [
    {
     "name": "stdout",
     "output_type": "stream",
     "text": [
      "(387,)\n",
      "(387,)\n"
     ]
    }
   ],
   "source": [
    "print(single_event_hit_charge_data.shape)\n",
    "print(single_event_hit_timing_data.shape)"
   ]
  },
  {
   "cell_type": "code",
   "execution_count": 79,
   "metadata": {},
   "outputs": [
    {
     "name": "stdout",
     "output_type": "stream",
     "text": [
      "0.12825873\n",
      "952.0\n"
     ]
    }
   ],
   "source": [
    "print(min(single_event_hit_charge_data))\n",
    "print(min(single_event_hit_timing_data))"
   ]
  },
  {
   "cell_type": "code",
   "execution_count": 80,
   "metadata": {},
   "outputs": [
    {
     "name": "stdout",
     "output_type": "stream",
     "text": [
      "6.704638\n",
      "1471.1\n"
     ]
    }
   ],
   "source": [
    "print(max(single_event_hit_charge_data))\n",
    "print(max(single_event_hit_timing_data))"
   ]
  },
  {
   "cell_type": "code",
   "execution_count": 55,
   "metadata": {},
   "outputs": [
    {
     "data": {
      "image/png": "[encoded data removed]",
      "text/plain": [
       "<Figure size 1152x648 with 1 Axes>"
      ]
     },
     "metadata": {
      "needs_background": "light"
     },
     "output_type": "display_data"
    }
   ],
   "source": [
    "fig = plt.figure(figsize=(16,9))\n",
    "plt.hist(single_event_hit_charge_data, bins=200)\n",
    "plt.yscale('log')"
   ]
  },
  {
   "cell_type": "code",
   "execution_count": 56,
   "metadata": {},
   "outputs": [
    {
     "data": {
      "image/png": "[encoded data removed]",
      "text/plain": [
       "<Figure size 1152x648 with 1 Axes>"
      ]
     },
     "metadata": {
      "needs_background": "light"
     },
     "output_type": "display_data"
    }
   ],
   "source": [
    "fig = plt.figure(figsize=(16,9))\n",
    "plt.hist(single_event_hit_timing_data, bins=200)\n",
    "plt.yscale('log')"
   ]
  },
  {
   "cell_type": "code",
   "execution_count": null,
   "metadata": {},
   "outputs": [],
   "source": []
  }
 ],
 "metadata": {
  "kernelspec": {
   "display_name": "Python 3",
   "language": "python",
   "name": "python3"
  },
  "language_info": {
   "codemirror_mode": {
    "name": "ipython",
    "version": 3
   },
   "file_extension": ".py",
   "mimetype": "text/x-python",
   "name": "python",
   "nbconvert_exporter": "python",
   "pygments_lexer": "ipython3",
   "version": "3.6.8"
  }
 },
 "nbformat": 4,
 "nbformat_minor": 2
}
