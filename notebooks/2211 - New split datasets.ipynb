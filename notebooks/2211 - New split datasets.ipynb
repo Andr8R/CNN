{
 "cells": [
  {
   "cell_type": "code",
   "execution_count": 2,
   "metadata": {},
   "outputs": [],
   "source": [
    "import h5py"
   ]
  },
  {
   "cell_type": "markdown",
   "metadata": {},
   "source": [
    "New split datasets now available at :\n",
    "\n",
    "   train_val : `/fast_scratch/WatChMaL/data/IWCDmPMT_4pi_fulltank_9M_splits_CNN/IWCDmPMT_4pi_fulltank_9M_trainval.h5`\n",
    "   \n",
    "   test : `/data/WatChMaL/data/IWCDmPMT_4pi_fulltank_9M_splits_CNN/IWCDmPMT_4pi_fulltank_9M_test.h5`"
   ]
  },
  {
   "cell_type": "code",
   "execution_count": 10,
   "metadata": {},
   "outputs": [
    {
     "name": "stdout",
     "output_type": "stream",
     "text": [
      "Keys :  <KeysViewHDF5 ['angles', 'energies', 'event_data', 'event_ids', 'labels', 'positions']>\n",
      "angles  :  (5026528, 2)\n",
      "energies  :  (5026528, 1)\n",
      "event_data  :  (5026528, 40, 40, 38)\n",
      "event_ids  :  (5026528,)\n",
      "labels  :  (5026528,)\n",
      "positions  :  (5026528, 1, 3)\n"
     ]
    }
   ],
   "source": [
    "path = \"/fast_scratch/WatChMaL/data/IWCDmPMT_4pi_fulltank_9M_splits_CNN/IWCDmPMT_4pi_fulltank_9M_trainval.h5\"\n",
    "f = h5py.File(path, \"r\")\n",
    "print(\"Keys : \", f.keys())\n",
    "\n",
    "for key in f.keys():\n",
    "    print(key, \" : \", f[key].shape)"
   ]
  },
  {
   "cell_type": "code",
   "execution_count": 11,
   "metadata": {},
   "outputs": [
    {
     "name": "stdout",
     "output_type": "stream",
     "text": [
      "Keys :  <KeysViewHDF5 ['angles', 'energies', 'event_data', 'event_ids', 'labels', 'positions']>\n",
      "angles  :  (3351020, 2)\n",
      "energies  :  (3351020, 1)\n",
      "event_data  :  (3351020, 40, 40, 38)\n",
      "event_ids  :  (3351020,)\n",
      "labels  :  (3351020,)\n",
      "positions  :  (3351020, 1, 3)\n"
     ]
    }
   ],
   "source": [
    "path = \"/data/WatChMaL/data/IWCDmPMT_4pi_fulltank_9M_splits_CNN/IWCDmPMT_4pi_fulltank_9M_test.h5\"\n",
    "f = h5py.File(path, \"r\")\n",
    "print(\"Keys : \", f.keys())\n",
    "\n",
    "for key in f.keys():\n",
    "    print(key, \" : \", f[key].shape)"
   ]
  }
 ],
 "metadata": {
  "kernelspec": {
   "display_name": "Python 3",
   "language": "python",
   "name": "python3"
  },
  "language_info": {
   "codemirror_mode": {
    "name": "ipython",
    "version": 3
   },
   "file_extension": ".py",
   "mimetype": "text/x-python",
   "name": "python",
   "nbconvert_exporter": "python",
   "pygments_lexer": "ipython3",
   "version": "3.6.8"
  }
 },
 "nbformat": 4,
 "nbformat_minor": 2
}
