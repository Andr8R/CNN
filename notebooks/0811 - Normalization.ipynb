{
 "cells": [
  {
   "cell_type": "code",
   "execution_count": 1,
   "metadata": {},
   "outputs": [],
   "source": [
    "# Python library and module imports\n",
    "import os\n",
    "import sys\n",
    "import numpy as np\n",
    "import matplotlib.pyplot as plt\n",
    "import math\n",
    "import h5py\n",
    "import torch\n",
    "\n",
    "# Add the path to the parent directory to augment search for module\n",
    "par_dir = os.path.abspath(os.path.join(os.getcwd(), os.pardir))\n",
    "if par_dir not in sys.path:\n",
    "    sys.path.append(par_dir)\n",
    "    \n",
    "# Import the custom plotting module\n",
    "from plot_utils import plot_utils\n",
    "\n",
    "# WatChMaL imports\n",
    "from io_utils.data_handling_2 import WCH5Dataset\n",
    "\n",
    "# PyTorch imports\n",
    "from torch.utils.data import DataLoader\n",
    "from torch.utils.data.sampler import SubsetRandomSampler\n",
    "\n",
    "from collections import Counter "
   ]
  },
  {
   "cell_type": "code",
   "execution_count": 2,
   "metadata": {},
   "outputs": [],
   "source": [
    "label_dict = {0:[\"gamma\", \"red\"], 1:[\"e\", \"blue\"], 2:[\"mu\", \"green\"]}"
   ]
  },
  {
   "cell_type": "code",
   "execution_count": 3,
   "metadata": {},
   "outputs": [
    {
     "data": {
      "text/plain": [
       "<KeysViewHDF5 ['angles', 'energies', 'event_data', 'event_ids', 'labels', 'positions', 'root_files']>"
      ]
     },
     "execution_count": 3,
     "metadata": {},
     "output_type": "execute_result"
    }
   ],
   "source": [
    "path = \"/fast_scratch/WatChMaL/data/IWCDmPMT_4pi_fulltank_9M.h5\"\n",
    "f = h5py.File(path, 'r')\n",
    "f.keys()"
   ]
  },
  {
   "cell_type": "markdown",
   "metadata": {},
   "source": [
    "Read the dataset frim the disk"
   ]
  },
  {
   "cell_type": "code",
   "execution_count": 5,
   "metadata": {},
   "outputs": [
    {
     "name": "stdout",
     "output_type": "stream",
     "text": [
      "235 (1024, 40, 40, 19) 235 (1024, 40, 40, 19)\n",
      "235 (1024,) 235 (1024, 1)\n"
     ]
    }
   ],
   "source": [
    "train_batch_size = 1024\n",
    "dset=WCH5Dataset(path, 0.1, 0.1, reduced_dataset_size=300000)\n",
    "\n",
    "# Initialize the dataloader\n",
    "train_loader = DataLoader(dset, batch_size=train_batch_size, shuffle=False,\n",
    "                          num_workers=4, sampler=SubsetRandomSampler(dset.train_indices))\n",
    "\n",
    "# Read the tensors from the dataset and add to the list\n",
    "event_charges = []\n",
    "event_timings = []\n",
    "\n",
    "labels = []\n",
    "energies = []\n",
    "\n",
    "for data in iter(train_loader):\n",
    "    event_charges.append(data[0][:,:,:,:19].numpy())\n",
    "    event_timings.append(data[0][:,:,:,19:].numpy())\n",
    "    \n",
    "    labels.append(data[1].numpy())\n",
    "    energies.append(data[2].numpy())\n",
    "    \n",
    "print(len(event_charges), event_charges[0].shape, len(event_timings), event_timings[0].shape)\n",
    "print(len(labels), labels[0].shape, len(energies), energies[0].shape)"
   ]
  },
  {
   "cell_type": "code",
   "execution_count": 6,
   "metadata": {},
   "outputs": [
    {
     "name": "stdout",
     "output_type": "stream",
     "text": [
      "(240000, 40, 40, 19) (240000, 40, 40, 19) (240000,) (240000, 1)\n"
     ]
    }
   ],
   "source": [
    "event_charges = np.concatenate(event_charges, axis=0)\n",
    "event_timings = np.concatenate(event_timings, axis=0)\n",
    "\n",
    "labels = np.concatenate(labels, axis=0)\n",
    "energies = np.concatenate(energies, axis=0)\n",
    "\n",
    "print(event_charges.shape, event_timings.shape, labels.shape, energies.shape)"
   ]
  },
  {
   "cell_type": "code",
   "execution_count": null,
   "metadata": {},
   "outputs": [],
   "source": []
  }
 ],
 "metadata": {
  "kernelspec": {
   "display_name": "Python 3",
   "language": "python",
   "name": "python3"
  },
  "language_info": {
   "codemirror_mode": {
    "name": "ipython",
    "version": 3
   },
   "file_extension": ".py",
   "mimetype": "text/x-python",
   "name": "python",
   "nbconvert_exporter": "python",
   "pygments_lexer": "ipython3",
   "version": "3.6.8"
  }
 },
 "nbformat": 4,
 "nbformat_minor": 2
}
