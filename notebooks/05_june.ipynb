{
 "cells": [
  {
   "cell_type": "markdown",
   "metadata": {},
   "source": [
    "# Rewriting KazuNet"
   ]
  },
  {
   "cell_type": "code",
   "execution_count": 8,
   "metadata": {},
   "outputs": [],
   "source": [
    "# Imports\n",
    "import math"
   ]
  },
  {
   "cell_type": "markdown",
   "metadata": {},
   "source": [
    "KazuNet for the IWCD images of input size 16 x 40 with 38 channels :"
   ]
  },
  {
   "cell_type": "code",
   "execution_count": 9,
   "metadata": {},
   "outputs": [],
   "source": [
    "def print_output_shape(input_size, output_channels, kernel_size, stride,\n",
    "                       padding, dilation):\n",
    "    \n",
    "    print(\"Input size : num_channels {0}, height {1}, width {2}\".format(input_size[0],\n",
    "                                                                        input_size[1],\n",
    "                                                                        input_size[2]))\n",
    "    \n",
    "    output_height = math.floor(((input_size[1] + 2*padding[0] - \n",
    "                               dilation[0]*(kernel_size[0] - 1))/stride[0]) + 1)\n",
    "    \n",
    "    output_width = math.floor(((input_size[2] + 2*padding[1] - \n",
    "                               dilation[1]*(kernel_size[1] - 1))/stride[1]) + 1)\n",
    "    \n",
    "    \n",
    "    \n",
    "    print(\"Output size : num_channels {0}, height {1}, width {2}\".format(output_channels,\n",
    "                                                                         output_height,\n",
    "                                                                         output_width))\n",
    "    \n",
    "    return (output_channels, output_height, output_width)"
   ]
  },
  {
   "cell_type": "code",
   "execution_count": 10,
   "metadata": {},
   "outputs": [],
   "source": [
    "def print_output_shape_2(input_size, output_channels, kernel_size, stride,\n",
    "                       padding, dilation):\n",
    "    \n",
    "    print(\"Input size : num_channels {0}, height {1}, width {2}\".format(input_size[0],\n",
    "                                                                        input_size[1],\n",
    "                                                                        input_size[2]))\n",
    "    \n",
    "    output_height = math.floor(((input_size[1] + 2*padding[0] - kernel_size[0])/stride[0]) + 1)\n",
    "    \n",
    "    output_width = math.floor(((input_size[2] + 2*padding[1] - kernel_size[1])/stride[1]) + 1)\n",
    "    \n",
    "    \n",
    "    \n",
    "    print(\"Output size : num_channels {0}, height {1}, width {2}\".format(output_channels,\n",
    "                                                                         output_height,\n",
    "                                                                         output_width))\n",
    "    \n",
    "    return (output_channels, output_height, output_width)"
   ]
  },
  {
   "cell_type": "code",
   "execution_count": 41,
   "metadata": {},
   "outputs": [
    {
     "name": "stdout",
     "output_type": "stream",
     "text": [
      "Layer 2\n",
      "Input size : num_channels 38, height 16, width 40\n",
      "Output size : num_channels 16, height 15, width 39\n",
      "Layer 3\n",
      "Input size : num_channels 16, height 15, width 39\n",
      "Output size : num_channels 16, height 9, width 21\n",
      "Layer 4a.\n",
      "Input size : num_channels 16, height 9, width 21\n",
      "Output size : num_channels 32, height 8, width 20\n",
      "Layer 4b.\n",
      "Input size : num_channels 32, height 8, width 20\n",
      "Output size : num_channels 32, height 7, width 19\n",
      "Layer 5\n",
      "Input size : num_channels 32, height 7, width 19\n",
      "Output size : num_channels 32, height 5, width 11\n",
      "Layer 6a.\n",
      "Input size : num_channels 32, height 5, width 11\n",
      "Output size : num_channels 64, height 4, width 10\n",
      "Layer 6b.\n",
      "Input size : num_channels 64, height 4, width 10\n",
      "Output size : num_channels 64, height 3, width 9\n",
      "Layer 7\n",
      "Input size : num_channels 64, height 3, width 9\n",
      "Output size : num_channels 64, height 3, width 6\n",
      "Layer 8a.\n",
      "Input size : num_channels 64, height 3, width 6\n",
      "Output size : num_channels 128, height 2, width 5\n",
      "Layer 8b.\n",
      "Input size : num_channels 128, height 2, width 5\n",
      "Output size : num_channels 128, height 1, width 4\n"
     ]
    }
   ],
   "source": [
    "# Layer 1\n",
    "iwcd_curr_size = (38, 16, 40)\n",
    "\n",
    "print(\"Layer 2\")\n",
    "iwcd_curr_size = print_output_shape(input_size=iwcd_curr_size,\n",
    "                                         output_channels=16,\n",
    "                                         kernel_size=(3,3),\n",
    "                                         stride=(1,1),\n",
    "                                         padding=(0,0),\n",
    "                                         dilation=(1,1))\n",
    "\n",
    "print(\"Layer 3\")\n",
    "iwcd_curr_size = print_output_shape(input_size=iwcd_curr_size,\n",
    "                                         output_channels=16,\n",
    "                                         kernel_size=(2,2),\n",
    "                                         stride=(2,2),\n",
    "                                         padding=(1,1),\n",
    "                                         dilation=(1,1))\n",
    "\n",
    "print(\"Layer 4a.\")\n",
    "iwcd_curr_size = print_output_shape(input_size=iwcd_curr_size,\n",
    "                                         output_channels=32,\n",
    "                                         kernel_size=(3,3),\n",
    "                                         stride=(1,1),\n",
    "                                         padding=(0,0),\n",
    "                                         dilation=(1,1))\n",
    "\n",
    "print(\"Layer 4b.\")\n",
    "iwcd_curr_size = print_output_shape(input_size=iwcd_curr_size,\n",
    "                                         output_channels=32,\n",
    "                                         kernel_size=(3,3),\n",
    "                                         stride=(1,1),\n",
    "                                         padding=(0,0),\n",
    "                                         dilation=(1,1))\n",
    "\n",
    "print(\"Layer 5\")\n",
    "iwcd_curr_size = print_output_shape(input_size=iwcd_curr_size,\n",
    "                                         output_channels=32,\n",
    "                                         kernel_size=(2,2),\n",
    "                                         stride=(2,2),\n",
    "                                         padding=(1,1),\n",
    "                                         dilation=(1,1))\n",
    "\n",
    "\n",
    "\n",
    "print(\"Layer 6a.\")\n",
    "iwcd_curr_size = print_output_shape(input_size=iwcd_curr_size,\n",
    "                                         output_channels=64,\n",
    "                                         kernel_size=(3,3),\n",
    "                                         stride=(1,1),\n",
    "                                         padding=(0,0),\n",
    "                                         dilation=(1,1))\n",
    "\n",
    "print(\"Layer 6b.\")\n",
    "iwcd_curr_size = print_output_shape(input_size=iwcd_curr_size,\n",
    "                                         output_channels=64,\n",
    "                                         kernel_size=(3,3),\n",
    "                                         stride=(1,1),\n",
    "                                         padding=(0,0),\n",
    "                                         dilation=(1,1))\n",
    "\n",
    "\n",
    "print(\"Layer 7\")\n",
    "iwcd_curr_size = print_output_shape(input_size=iwcd_curr_size,\n",
    "                                         output_channels=64,\n",
    "                                         kernel_size=(2,2),\n",
    "                                         stride=(2,2),\n",
    "                                         padding=(1,1),\n",
    "                                         dilation=(1,1))\n",
    "\n",
    "print(\"Layer 8a.\")\n",
    "iwcd_curr_size = print_output_shape(input_size=iwcd_curr_size,\n",
    "                                         output_channels=128,\n",
    "                                         kernel_size=(3,3),\n",
    "                                         stride=(1,1),\n",
    "                                         padding=(0,0),\n",
    "                                         dilation=(1,1))\n",
    "\n",
    "print(\"Layer 8b.\")\n",
    "iwcd_curr_size = print_output_shape(input_size=iwcd_curr_size,\n",
    "                                         output_channels=128,\n",
    "                                         kernel_size=(3,3),\n",
    "                                         stride=(1,1),\n",
    "                                         padding=(0,0),\n",
    "                                         dilation=(1,1))"
   ]
  },
  {
   "cell_type": "code",
   "execution_count": 11,
   "metadata": {},
   "outputs": [
    {
     "name": "stdout",
     "output_type": "stream",
     "text": [
      "Layer 2\n",
      "Input size : num_channels 38, height 16, width 40\n",
      "Output size : num_channels 16, height 16, width 40\n",
      "Layer 3\n",
      "Input size : num_channels 16, height 16, width 40\n",
      "Output size : num_channels 16, height 15, width 39\n",
      "Layer 4a.\n",
      "Input size : num_channels 16, height 15, width 39\n",
      "Output size : num_channels 32, height 15, width 39\n",
      "Layer 4b.\n",
      "Input size : num_channels 32, height 15, width 39\n",
      "Output size : num_channels 32, height 15, width 39\n",
      "Layer 5\n",
      "Input size : num_channels 32, height 15, width 39\n",
      "Output size : num_channels 32, height 8, width 20\n",
      "Layer 6a.\n",
      "Input size : num_channels 32, height 8, width 20\n",
      "Output size : num_channels 64, height 8, width 20\n",
      "Layer 6b.\n",
      "Input size : num_channels 64, height 8, width 20\n",
      "Output size : num_channels 64, height 8, width 20\n",
      "Layer 7\n",
      "Input size : num_channels 64, height 8, width 20\n",
      "Output size : num_channels 64, height 5, width 11\n",
      "Layer 8a.\n",
      "Input size : num_channels 64, height 5, width 11\n",
      "Output size : num_channels 128, height 5, width 11\n"
     ]
    }
   ],
   "source": [
    "# Layer 1\n",
    "iwcd_curr_size = (38, 16, 40)\n",
    "\n",
    "print(\"Layer 2\")\n",
    "iwcd_curr_size = print_output_shape_2(input_size=iwcd_curr_size,\n",
    "                                         output_channels=16,\n",
    "                                         kernel_size=(3,3),\n",
    "                                         stride=(1,1),\n",
    "                                         padding=(1,1),\n",
    "                                         dilation=(1,1))\n",
    "\n",
    "print(\"Layer 3\")\n",
    "iwcd_curr_size = print_output_shape_2(input_size=iwcd_curr_size,\n",
    "                                         output_channels=16,\n",
    "                                         kernel_size=(2,2),\n",
    "                                         stride=(1,1),\n",
    "                                         padding=(0,0),\n",
    "                                         dilation=(1,1))\n",
    "\n",
    "print(\"Layer 4a.\")\n",
    "iwcd_curr_size = print_output_shape_2(input_size=iwcd_curr_size,\n",
    "                                         output_channels=32,\n",
    "                                         kernel_size=(3,3),\n",
    "                                         stride=(1,1),\n",
    "                                         padding=(1,1),\n",
    "                                         dilation=(1,1))\n",
    "\n",
    "print(\"Layer 4b.\")\n",
    "iwcd_curr_size = print_output_shape_2(input_size=iwcd_curr_size,\n",
    "                                         output_channels=32,\n",
    "                                         kernel_size=(3,3),\n",
    "                                         stride=(1,1),\n",
    "                                         padding=(1,1),\n",
    "                                         dilation=(1,1))\n",
    "\n",
    "print(\"Layer 5\")\n",
    "iwcd_curr_size = print_output_shape_2(input_size=iwcd_curr_size,\n",
    "                                         output_channels=32,\n",
    "                                         kernel_size=(2,2),\n",
    "                                         stride=(2,2),\n",
    "                                         padding=(1,1),\n",
    "                                         dilation=(1,1))\n",
    "\n",
    "\n",
    "print(\"Layer 6a.\")\n",
    "iwcd_curr_size = print_output_shape_2(input_size=iwcd_curr_size,\n",
    "                                         output_channels=64,\n",
    "                                         kernel_size=(3,3),\n",
    "                                         stride=(1,1),\n",
    "                                         padding=(1,1),\n",
    "                                         dilation=(1,1))\n",
    "\n",
    "print(\"Layer 6b.\")\n",
    "iwcd_curr_size = print_output_shape_2(input_size=iwcd_curr_size,\n",
    "                                         output_channels=64,\n",
    "                                         kernel_size=(3,3),\n",
    "                                         stride=(1,1),\n",
    "                                         padding=(1,1),\n",
    "                                         dilation=(1,1))\n",
    "\n",
    "\n",
    "print(\"Layer 7\")\n",
    "iwcd_curr_size = print_output_shape_2(input_size=iwcd_curr_size,\n",
    "                                         output_channels=64,\n",
    "                                         kernel_size=(2,2),\n",
    "                                         stride=(2,2),\n",
    "                                         padding=(1,1),\n",
    "                                         dilation=(1,1))\n",
    "\n",
    "print(\"Layer 8a.\")\n",
    "iwcd_curr_size = print_output_shape_2(input_size=iwcd_curr_size,\n",
    "                                         output_channels=128,\n",
    "                                         kernel_size=(3,3),\n",
    "                                         stride=(1,1),\n",
    "                                         padding=(1,1),\n",
    "                                         dilation=(1,1))"
   ]
  },
  {
   "cell_type": "code",
   "execution_count": null,
   "metadata": {},
   "outputs": [],
   "source": [
    "\"\"\"\n",
    "\n",
    "Removed layers : Preserved to be put back if needed\n",
    "\n",
    "print(\"Layer 8b.\")\n",
    "iwcd_curr_size = print_output_shape(input_size=iwcd_curr_size,\n",
    "                                         output_channels=128,\n",
    "                                         kernel_size=(3,3),\n",
    "                                         stride=(1,1),\n",
    "                                         padding=(0,0),\n",
    "                                         dilation=(1,1))\n",
    "print(\"Layer 6b.\")\n",
    "iwcd_curr_size = print_output_shape(input_size=iwcd_curr_size,\n",
    "                                         output_channels=64,\n",
    "                                         kernel_size=(3,3),\n",
    "                                         stride=(1,1),\n",
    "                                         padding=(0,0),\n",
    "                                         dilation=(1,1))\n",
    "\n",
    "print(\"Layer 4b.\")\n",
    "iwcd_curr_size = print_output_shape(input_size=iwcd_curr_size,\n",
    "                                         output_channels=32,\n",
    "                                         kernel_size=(3,3),\n",
    "                                         stride=(1,1),\n",
    "                                         padding=(0,0),\n",
    "                                         dilation=(1,1))\n",
    "\n",
    "\n",
    "                                         \n",
    "\n",
    "\n",
    "\n",
    "\"\"\""
   ]
  },
  {
   "cell_type": "code",
   "execution_count": 1,
   "metadata": {},
   "outputs": [],
   "source": [
    "def print_deconv_output_shape(input_size, output_channels, kernel_size, stride, \n",
    "                              padding, output_padding, dilation):\n",
    "    print(\"Input size : num_channels {0}, height {1}, width {2}\".format(input_size[0],\n",
    "                                                                        input_size[1],\n",
    "                                                                        input_size[2]))\n",
    "    \n",
    "    output_height = (input_size[1]-1)*stride[0] - 2*padding[0] + dilation[0] * (kernel_size[0]-1) + output_padding[0] + 1\n",
    "    \n",
    "    output_width = (input_size[2]-1)*stride[1] - 2*padding[1] + dilation[1] * (kernel_size[1]-1) + output_padding[1] + 1\n",
    "    \n",
    "    \n",
    "    \n",
    "    print(\"Output size : num_channels {0}, height {1}, width {2}\".format(output_channels,\n",
    "                                                                         output_height,\n",
    "                                                                         output_width))\n",
    "    \n",
    "    return (output_channels, output_height, output_width)"
   ]
  },
  {
   "cell_type": "code",
   "execution_count": 6,
   "metadata": {},
   "outputs": [],
   "source": [
    "def print_maxunpool_output_shape(input_size, output_channels, kernel_size, stride, \n",
    "                                 padding, dilation):\n",
    "    \n",
    "    print(\"Input size : num_channels {0}, height {1}, width {2}\".format(input_size[0],\n",
    "                                                                        input_size[1],\n",
    "                                                                        input_size[2]))\n",
    "    \n",
    "    output_height = (input_size[1]-1)*stride[0] - 2*padding[0] + kernel_size[0]\n",
    "    \n",
    "    output_width = (input_size[2]-1)*stride[1] - 2*padding[1] + kernel_size[1]\n",
    "    \n",
    "    \n",
    "    \n",
    "    print(\"Output size : num_channels {0}, height {1}, width {2}\".format(output_channels,\n",
    "                                                                         output_height,\n",
    "                                                                         output_width))\n",
    "    \n",
    "    return (output_channels, output_height, output_width)"
   ]
  },
  {
   "cell_type": "code",
   "execution_count": 12,
   "metadata": {},
   "outputs": [
    {
     "name": "stdout",
     "output_type": "stream",
     "text": [
      "Deconvolutional layer 1\n",
      "Input size : num_channels 128, height 5, width 11\n",
      "Output size : num_channels 64, height 5, width 11\n",
      "Un layer 2\n",
      "Input size : num_channels 64, height 5, width 11\n",
      "Output size : num_channels 64, height 8, width 20\n"
     ]
    }
   ],
   "source": [
    "# Layer 1\n",
    "iwcd_curr_size = (128, 5, 11)\n",
    "\n",
    "print(\"Deconvolutional layer 1\")\n",
    "iwcd_curr_size = print_deconv_output_shape(input_size=iwcd_curr_size,\n",
    "                                         output_channels=64,\n",
    "                                         kernel_size=(3,3),\n",
    "                                         stride=(1,1),\n",
    "                                         padding=(1,1),\n",
    "                                         output_padding=(0,0),\n",
    "                                         dilation=(1,1))\n",
    "\n",
    "print(\"Un layer 2\")\n",
    "iwcd_curr_size = print_maxunpool_output_shape(input_size=iwcd_curr_size,\n",
    "                                         output_channels=64,\n",
    "                                         kernel_size=(2,2),\n",
    "                                         stride=(2,2),\n",
    "                                         padding=(1,1),\n",
    "                                         dilation=(1,1))"
   ]
  },
  {
   "cell_type": "code",
   "execution_count": 14,
   "metadata": {},
   "outputs": [],
   "source": [
    "def print_avgpool_output_shape(input_size, output_channels, kernel_size, stride, \n",
    "                                 padding):\n",
    "    \n",
    "    print(\"Input size : num_channels {0}, height {1}, width {2}\".format(input_size[0],\n",
    "                                                                        input_size[1],\n",
    "                                                                        input_size[2]))\n",
    "    \n",
    "    output_height = math.floor((input_size[1] + 2*padding[0] - kernel_size[0])/stride[0] + 1)\n",
    "    \n",
    "    output_width = math.floor((input_size[2] + 2*padding[1] - kernel_size[1])/stride[1] + 1)\n",
    "    \n",
    "    \n",
    "    \n",
    "    print(\"Output size : num_channels {0}, height {1}, width {2}\".format(output_channels,\n",
    "                                                                         output_height,\n",
    "                                                                         output_width))\n",
    "    \n",
    "    return (output_channels, output_height, output_width)"
   ]
  },
  {
   "cell_type": "code",
   "execution_count": 37,
   "metadata": {},
   "outputs": [
    {
     "name": "stdout",
     "output_type": "stream",
     "text": [
      "AvgPool layer :\n",
      "Input size : num_channels 128, height 5, width 11\n",
      "Output size : num_channels 128, height 1, width 1\n"
     ]
    }
   ],
   "source": [
    "in_shape = (128, 5, 11)\n",
    "\n",
    "print(\"AvgPool layer :\")\n",
    "out_shape = print_avgpool_output_shape(in_shape, in_shape[0], in_shape[1:],\n",
    "                                       in_shape[1:], (0,0))"
   ]
  },
  {
   "cell_type": "code",
   "execution_count": 38,
   "metadata": {},
   "outputs": [
    {
     "name": "stdout",
     "output_type": "stream",
     "text": [
      "MaxPool layer :\n",
      "Input size : num_channels 128, height 5, width 11\n",
      "Output size : num_channels 128, height 1, width 1\n"
     ]
    }
   ],
   "source": [
    "print(\"MaxPool layer :\")\n",
    "out_shape = print_output_shape(input_size=in_shape,\n",
    "                                         output_channels=in_shape[0],\n",
    "                                         kernel_size=in_shape[1:],\n",
    "                                         stride=in_shape[1:],\n",
    "                                         padding=(0,0),\n",
    "                                         dilation=(1,1))"
   ]
  },
  {
   "cell_type": "code",
   "execution_count": 39,
   "metadata": {},
   "outputs": [
    {
     "name": "stdout",
     "output_type": "stream",
     "text": [
      "(128, 1, 1)\n"
     ]
    }
   ],
   "source": [
    "print(out_shape)"
   ]
  },
  {
   "cell_type": "code",
   "execution_count": 40,
   "metadata": {},
   "outputs": [
    {
     "name": "stdout",
     "output_type": "stream",
     "text": [
      "Unmaxpool layer :\n",
      "Input size : num_channels 128, height 1, width 1\n",
      "Output size : num_channels 128, height 5, width 11\n"
     ]
    }
   ],
   "source": [
    "print(\"Unmaxpool layer :\")\n",
    "out_shape = print_maxunpool_output_shape(input_size=out_shape,\n",
    "                                         output_channels=out_shape[0],\n",
    "                                         kernel_size=in_shape[1:],\n",
    "                                         stride=in_shape[1:],\n",
    "                                         padding=(0,0),\n",
    "                                         dilation=(1,1))"
   ]
  },
  {
   "cell_type": "code",
   "execution_count": null,
   "metadata": {},
   "outputs": [],
   "source": []
  }
 ],
 "metadata": {
  "kernelspec": {
   "display_name": "Python 3",
   "language": "python",
   "name": "python3"
  },
  "language_info": {
   "codemirror_mode": {
    "name": "ipython",
    "version": 3
   },
   "file_extension": ".py",
   "mimetype": "text/x-python",
   "name": "python",
   "nbconvert_exporter": "python",
   "pygments_lexer": "ipython3",
   "version": "3.6.8"
  }
 },
 "nbformat": 4,
 "nbformat_minor": 2
}
