{
 "cells": [
  {
   "cell_type": "markdown",
   "metadata": {},
   "source": [
    "# August 11 - Interpolating b/w samples"
   ]
  },
  {
   "cell_type": "markdown",
   "metadata": {},
   "source": [
    "## Added the support for interpolating b/w two random samples"
   ]
  },
  {
   "cell_type": "code",
   "execution_count": null,
   "metadata": {},
   "outputs": [],
   "source": [
    "# Imports\n",
    "import math\n",
    "import os\n",
    "import sys\n",
    "import pandas as pd\n",
    "import numpy as np\n",
    "\n",
    "import matplotlib as mpl\n",
    "import matplotlib.pyplot as plt\n",
    "from matplotlib.colors import LogNorm\n",
    "from mpl_toolkits.mplot3d import Axes3D\n",
    "\n",
    "# Add the path to the parent directory to augment search for module\n",
    "par_dir = os.path.abspath(os.path.join(os.getcwd(), os.pardir))\n",
    "if par_dir not in sys.path:\n",
    "    sys.path.append(par_dir)\n",
    "    \n",
    "# Import the custom plotting module\n",
    "from plot_utils import plot_utils\n",
    "import random\n",
    "import torch\n",
    "from plot_utils import notebook_utils_2\n",
    "\n",
    "# Label dict\n",
    "label_dict = {0:\"gamma\", 1:\"e\", 2:\"mu\"}"
   ]
  },
  {
   "cell_type": "code",
   "execution_count": null,
   "metadata": {},
   "outputs": [],
   "source": [
    "run_id = \"20190811_222844\"\n",
    "dump_dir = \"/home/akajal/WatChMaL/VAE/dumps/\" + run_id + \"/\"\n",
    "model_status = \"trained\" \n",
    "np_arr_path = dump_dir + model_status + \"_interpolations.npz\"\n",
    "\n",
    "# Load the np array into memory\n",
    "np_arr = np.load(np_arr_path)\n",
    "print(list(np_arr.keys()))"
   ]
  },
  {
   "cell_type": "code",
   "execution_count": null,
   "metadata": {},
   "outputs": [],
   "source": [
    "# Extract the actual interpolated events\n",
    "np_events, np_labels, np_energies = np_arr[\"events\"], np_arr[\"labels\"], np_arr[\"energies\"]\n",
    "np_samples, np_pred_labels, np_pred_energies = np_arr[\"samples\"], np_arr[\"predicted_labels\"], np_arr[\"predicted_energies\"]\n",
    "\n",
    "\n",
    "print(np_events.shape, np_labels.shape, np_energies.shape)\n",
    "print(np_samples.shape, np_pred_labels.shape, np_pred_energies.shape)"
   ]
  },
  {
   "cell_type": "code",
   "execution_count": null,
   "metadata": {},
   "outputs": [],
   "source": [
    "print(np_energies)\n",
    "print(label_dict[np_labels[0]], label_dict[np_labels[1]])"
   ]
  },
  {
   "cell_type": "markdown",
   "metadata": {},
   "source": [
    "## First plot the two original events sampled from the dataset"
   ]
  },
  {
   "cell_type": "code",
   "execution_count": null,
   "metadata": {
    "scrolled": true
   },
   "outputs": [],
   "source": [
    "plot_utils.plot_actual_vs_recon(np_events[0], np_events[1], label_dict[np_labels[0]], np_energies[0], show_plot=True)\n",
    "plot_utils.plot_charge_hist(np_events[0], np_events[1], 0, num_bins=200)"
   ]
  },
  {
   "cell_type": "markdown",
   "metadata": {},
   "source": [
    "## First plot the two original reconstructed events sampled from the dataset"
   ]
  },
  {
   "cell_type": "code",
   "execution_count": null,
   "metadata": {
    "scrolled": true
   },
   "outputs": [],
   "source": [
    "plot_utils.plot_actual_vs_recon(np_samples[10], np_samples[0], label_dict[np_pred_labels[10]],\n",
    "                                np_pred_energies[10].item(), show_plot=True)\n",
    "\n",
    "plot_utils.plot_charge_hist(np_samples[0], np_samples[10], 0, num_bins=200)"
   ]
  },
  {
   "cell_type": "markdown",
   "metadata": {},
   "source": [
    "## Now loop over the interpolated samples and plot them"
   ]
  },
  {
   "cell_type": "code",
   "execution_count": null,
   "metadata": {
    "scrolled": true
   },
   "outputs": [],
   "source": [
    "i = np_samples.shape[0]-1\n",
    "while i > 0:\n",
    "    plot_utils.plot_actual_vs_recon(np_samples[i], np_samples[i-1], label_dict[np_pred_labels[i]],\n",
    "                                np_pred_energies[i].item(), show_plot=True)\n",
    "\n",
    "    plot_utils.plot_charge_hist(np_samples[i], np_samples[i], 0, num_bins=200)\n",
    "    i = i - 2"
   ]
  },
  {
   "cell_type": "markdown",
   "metadata": {},
   "source": [
    "## Another sample interpolation"
   ]
  },
  {
   "cell_type": "code",
   "execution_count": null,
   "metadata": {
    "scrolled": true
   },
   "outputs": [],
   "source": [
    "run_id = \"20190823_072818\"\n",
    "dump_dir = \"/home/akajal/WatChMaL/VAE/dumps/\" + run_id + \"/\"\n",
    "model_status = \"trained\" \n",
    "np_arr_path = dump_dir + model_status + \"_interpolations.npz\"\n",
    "\n",
    "# Load the np array into memory\n",
    "np_arr = np.load(np_arr_path)\n",
    "print(list(np_arr.keys()))\n",
    "\n",
    "# Extract the actual interpolated events\n",
    "np_events, np_labels, np_energies = np_arr[\"events\"], np_arr[\"labels\"], np_arr[\"energies\"]\n",
    "np_samples, np_pred_labels, np_pred_energies = np_arr[\"samples\"], np_arr[\"predicted_labels\"], np_arr[\"predicted_energies\"]\n",
    "\n",
    "\n",
    "print(np_events.shape, np_labels.shape, np_energies.shape)\n",
    "print(np_samples.shape, np_pred_labels.shape, np_pred_energies.shape)\n",
    "\n",
    "print(np_energies)\n",
    "print(label_dict[np_labels[0]], label_dict[np_labels[1]])\n",
    "\n",
    "plot_utils.plot_actual_vs_recon(np_events[0], np_events[1], label_dict[np_labels[0]], np_energies[0], show_plot=True)\n",
    "plot_utils.plot_charge_hist(np_events[0], np_events[1], 0, num_bins=200)\n",
    "\n",
    "i = np_samples.shape[0]-1\n",
    "while i > 0:\n",
    "    plot_utils.plot_actual_vs_recon(np_samples[i], np_samples[i-1], label_dict[np_pred_labels[i]],\n",
    "                                np_pred_energies[i].item(), show_plot=True)\n",
    "\n",
    "    plot_utils.plot_charge_hist(np_samples[i], np_samples[i], 0, num_bins=200)\n",
    "    i = i - 2"
   ]
  },
  {
   "cell_type": "markdown",
   "metadata": {},
   "source": [
    "## Another sample"
   ]
  },
  {
   "cell_type": "code",
   "execution_count": null,
   "metadata": {
    "scrolled": true
   },
   "outputs": [],
   "source": [
    "run_id = \"20190823_073139\"\n",
    "dump_dir = \"/home/akajal/WatChMaL/VAE/dumps/\" + run_id + \"/\"\n",
    "model_status = \"trained\" \n",
    "np_arr_path = dump_dir + model_status + \"_interpolations.npz\"\n",
    "\n",
    "# Load the np array into memory\n",
    "np_arr = np.load(np_arr_path)\n",
    "print(list(np_arr.keys()))\n",
    "\n",
    "# Extract the actual interpolated events\n",
    "np_events, np_labels, np_energies = np_arr[\"events\"], np_arr[\"labels\"], np_arr[\"energies\"]\n",
    "np_samples, np_pred_labels, np_pred_energies = np_arr[\"samples\"], np_arr[\"predicted_labels\"], np_arr[\"predicted_energies\"]\n",
    "\n",
    "\n",
    "print(np_events.shape, np_labels.shape, np_energies.shape)\n",
    "print(np_samples.shape, np_pred_labels.shape, np_pred_energies.shape)\n",
    "\n",
    "print(np_energies)\n",
    "print(label_dict[np_labels[0]], label_dict[np_labels[1]])\n",
    "\n",
    "plot_utils.plot_actual_vs_recon(np_events[0], np_events[1], label_dict[np_labels[0]], np_energies[0], show_plot=True)\n",
    "plot_utils.plot_charge_hist(np_events[0], np_events[1], 0, num_bins=200)\n",
    "\n",
    "i = np_samples.shape[0]-1\n",
    "while i > 0:\n",
    "    plot_utils.plot_actual_vs_recon(np_samples[i], np_samples[i-1], label_dict[np_pred_labels[i]],\n",
    "                                np_pred_energies[i].item(), show_plot=True)\n",
    "\n",
    "    plot_utils.plot_charge_hist(np_samples[i], np_samples[i], 0, num_bins=200)\n",
    "    i = i - 2"
   ]
  },
  {
   "cell_type": "code",
   "execution_count": null,
   "metadata": {
    "scrolled": true
   },
   "outputs": [],
   "source": [
    "\n",
    "run_id = \"20190823_080112\"\n",
    "dump_dir = \"/home/akajal/WatChMaL/VAE/dumps/\" + run_id + \"/\"\n",
    "model_status = \"trained\" \n",
    "np_arr_path = dump_dir + model_status + \"_interpolations.npz\"\n",
    "\n",
    "# Load the np array into memory\n",
    "np_arr = np.load(np_arr_path)\n",
    "print(list(np_arr.keys()))\n",
    "\n",
    "# Extract the actual interpolated events\n",
    "np_events, np_labels, np_energies = np_arr[\"events\"], np_arr[\"labels\"], np_arr[\"energies\"]\n",
    "np_samples, np_pred_labels, np_pred_energies = np_arr[\"samples\"], np_arr[\"predicted_labels\"], np_arr[\"predicted_energies\"]\n",
    "\n",
    "\n",
    "print(np_events.shape, np_labels.shape, np_energies.shape)\n",
    "print(np_samples.shape, np_pred_labels.shape, np_pred_energies.shape)\n",
    "\n",
    "print(np_energies)\n",
    "print(label_dict[np_labels[0]], label_dict[np_labels[1]])\n",
    "\n",
    "plot_utils.plot_actual_vs_recon(np_events[0], np_events[1], label_dict[np_labels[0]], np_energies[0], show_plot=True)\n",
    "plot_utils.plot_charge_hist(np_events[0], np_events[1], 0, num_bins=200)\n",
    "\n",
    "i = np_samples.shape[0]-1\n",
    "while i > 0:\n",
    "    plot_utils.plot_actual_vs_recon(np_samples[i], np_samples[i-1], label_dict[np_pred_labels[i]],\n",
    "                                np_pred_energies[i].item(), show_plot=True)\n",
    "\n",
    "    plot_utils.plot_charge_hist(np_samples[i], np_samples[i], 0, num_bins=200)\n",
    "    i = i - 2"
   ]
  },
  {
   "cell_type": "code",
   "execution_count": null,
   "metadata": {},
   "outputs": [],
   "source": []
  },
  {
   "cell_type": "code",
   "execution_count": null,
   "metadata": {},
   "outputs": [],
   "source": []
  }
 ],
 "metadata": {
  "kernelspec": {
   "display_name": "Python 3",
   "language": "python",
   "name": "python3"
  },
  "language_info": {
   "codemirror_mode": {
    "name": "ipython",
    "version": 3
   },
   "file_extension": ".py",
   "mimetype": "text/x-python",
   "name": "python",
   "nbconvert_exporter": "python",
   "pygments_lexer": "ipython3",
   "version": "3.6.8"
  }
 },
 "nbformat": 4,
 "nbformat_minor": 2
}
