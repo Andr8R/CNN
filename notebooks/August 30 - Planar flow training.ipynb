{
 "cells": [
  {
   "cell_type": "markdown",
   "metadata": {},
   "source": [
    "# August 30 - Planar flow training"
   ]
  },
  {
   "cell_type": "code",
   "execution_count": null,
   "metadata": {},
   "outputs": [],
   "source": [
    "# Default imports\n",
    "import math\n",
    "import os\n",
    "import sys\n",
    "import pandas as pd\n",
    "import numpy as np\n",
    "\n",
    "import matplotlib as mpl\n",
    "import matplotlib.pyplot as plt\n",
    "from matplotlib.colors import LogNorm\n",
    "import matplotlib.ticker as mtick\n",
    "\n",
    "# Add the path to the parent directory to augment search for module\n",
    "par_dir = os.path.abspath(os.path.join(os.getcwd(), os.pardir))\n",
    "if par_dir not in sys.path:\n",
    "    sys.path.append(par_dir)\n",
    "    \n",
    "# Import the custom plotting module\n",
    "from plot_utils import plot_utils\n",
    "import random\n",
    "import torch\n",
    "from plot_utils import notebook_utils_2"
   ]
  },
  {
   "cell_type": "markdown",
   "metadata": {},
   "source": [
    "## Steps\n",
    "\n",
    "1. Setup list of the dump folders\n",
    "2. Plot the training logs for the training\n",
    "3. Plot the acual vs reconstructed samples"
   ]
  },
  {
   "cell_type": "markdown",
   "metadata": {},
   "source": [
    "### Setup list of the dump folders "
   ]
  },
  {
   "cell_type": "code",
   "execution_count": null,
   "metadata": {},
   "outputs": [],
   "source": [
    "flow_depths = [16, 32, 64, 128, 256]\n",
    "run_ids = [\"20190830_173811\", \"20190830_173816\", \"20190830_173921\", \"20190830_173959\", \"20190830_174030\"]"
   ]
  },
  {
   "cell_type": "markdown",
   "metadata": {},
   "source": [
    "### Plot the training logs for the training"
   ]
  },
  {
   "cell_type": "code",
   "execution_count": null,
   "metadata": {
    "scrolled": false
   },
   "outputs": [],
   "source": [
    "for run_id, flow_depth in zip(run_ids, flow_depths):\n",
    "    dump_dir = \"/home/akajal/WatChMaL/VAE/dumps/\" + run_id + \"/\"\n",
    "    training_log, val_log = dump_dir + \"log_train.csv\", dump_dir + \"log_val.csv\"\n",
    "    \n",
    "    print(\"--------------------------------------------------------------------\")\n",
    "    print(\"Plotting the training and validation log of NF with flow depth = {0}\".format(flow_depth))\n",
    "    print(\"--------------------------------------------------------------------\")\n",
    "    \n",
    "    model_id = \"ENet (\" + str(flow_depth) + \")\"\n",
    "    # Plot training log\n",
    "    plot_utils.plot_vae_training([training_log], [model_id], \n",
    "                                 {model_id:[\"red\", \"blue\"]},\n",
    "                                 downsample_interval=32, show_plot=True)\n",
    "\n",
    "    # Plot validation log\n",
    "    plot_utils.plot_vae_training([val_log], [model_id], \n",
    "                                 {model_id:[\"red\", \"blue\"]},\n",
    "                                 downsample_interval=32, show_plot=True)"
   ]
  },
  {
   "cell_type": "code",
   "execution_count": null,
   "metadata": {},
   "outputs": [],
   "source": []
  }
 ],
 "metadata": {
  "kernelspec": {
   "display_name": "Python 3",
   "language": "python",
   "name": "python3"
  },
  "language_info": {
   "codemirror_mode": {
    "name": "ipython",
    "version": 3
   },
   "file_extension": ".py",
   "mimetype": "text/x-python",
   "name": "python",
   "nbconvert_exporter": "python",
   "pygments_lexer": "ipython3",
   "version": "3.6.8"
  }
 },
 "nbformat": 4,
 "nbformat_minor": 2
}
