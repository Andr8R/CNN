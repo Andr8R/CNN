{
 "cells": [
  {
   "cell_type": "markdown",
   "metadata": {},
   "source": [
    "# August 18 - Improving encoder decoders"
   ]
  },
  {
   "cell_type": "code",
   "execution_count": 1,
   "metadata": {},
   "outputs": [],
   "source": [
    "# Default imports\n",
    "import math\n",
    "import os\n",
    "import sys\n",
    "import pandas as pd\n",
    "import numpy as np\n",
    "\n",
    "import matplotlib as mpl\n",
    "import matplotlib.pyplot as plt\n",
    "from matplotlib.colors import LogNorm\n",
    "\n",
    "# Add the path to the parent directory to augment search for module\n",
    "par_dir = os.path.abspath(os.path.join(os.getcwd(), os.pardir))\n",
    "if par_dir not in sys.path:\n",
    "    sys.path.append(par_dir)\n",
    "    \n",
    "# Import the custom plotting module\n",
    "from plot_utils import plot_utils\n",
    "import random\n",
    "import torch\n",
    "from plot_utils import notebook_utils_2"
   ]
  },
  {
   "cell_type": "markdown",
   "metadata": {},
   "source": [
    "## VAE with ResNet-18 encoder and num_latent_dims = 64"
   ]
  },
  {
   "cell_type": "code",
   "execution_count": 2,
   "metadata": {},
   "outputs": [
    {
     "name": "stdout",
     "output_type": "stream",
     "text": [
      "Printing metrics over the training subset :\n",
      "Average total loss : 11314.144838156426\n",
      "Average mse loss : 11189.228228434302\n",
      "Average kl loss : 124.9166081450512\n",
      "\n",
      "\n",
      "Printing metrics over the validation subset :\n",
      "Average total loss : 11293.709644647726\n",
      "Average mse loss : 11169.201022011363\n",
      "Average kl loss : 124.50861609659091\n"
     ]
    }
   ],
   "source": [
    "notebook_utils_2.print_vae_metrics(\"20190818_195050\")"
   ]
  },
  {
   "cell_type": "markdown",
   "metadata": {},
   "source": [
    "## VAE with ResNet-101 encoder and num_latent_dims = 64"
   ]
  },
  {
   "cell_type": "code",
   "execution_count": 5,
   "metadata": {},
   "outputs": [
    {
     "name": "stdout",
     "output_type": "stream",
     "text": [
      "Printing metrics over the training subset :\n",
      "Average total loss : 11127.2593473285\n",
      "Average mse loss : 11004.823205246585\n",
      "Average kl loss : 122.4361398043231\n",
      "\n",
      "\n",
      "Printing metrics over the validation subset :\n",
      "Average total loss : 11131.993613471592\n",
      "Average mse loss : 11009.661071761364\n",
      "Average kl loss : 122.33252027840908\n"
     ]
    }
   ],
   "source": [
    "notebook_utils_2.print_vae_metrics(\"20190818_201757\")"
   ]
  },
  {
   "cell_type": "markdown",
   "metadata": {},
   "source": [
    "## VAE with LeNet encoder and num_latent_dims = 64"
   ]
  },
  {
   "cell_type": "code",
   "execution_count": 3,
   "metadata": {},
   "outputs": [
    {
     "name": "stdout",
     "output_type": "stream",
     "text": [
      "Printing metrics over the training subset :\n",
      "Average total loss : 11403.939656428895\n",
      "Average mse loss : 11258.286607491753\n",
      "Average kl loss : 145.65305060580204\n",
      "\n",
      "\n",
      "Printing metrics over the validation subset :\n",
      "Average total loss : 11409.017311829546\n",
      "Average mse loss : 11263.79886140909\n",
      "Average kl loss : 145.21845436363637\n"
     ]
    }
   ],
   "source": [
    "notebook_utils_2.print_vae_metrics(\"20190818_203601\")"
   ]
  },
  {
   "cell_type": "markdown",
   "metadata": {},
   "source": [
    "## Using deeper ResNet clearly shows an improvement, how does this translate to using VAE + Classifier model"
   ]
  },
  {
   "cell_type": "markdown",
   "metadata": {},
   "source": [
    "## VAE with ResNet-152 encoder and num_latent_dims = 64"
   ]
  },
  {
   "cell_type": "code",
   "execution_count": 6,
   "metadata": {},
   "outputs": [
    {
     "name": "stdout",
     "output_type": "stream",
     "text": [
      "Printing metrics over the training subset :\n",
      "Average total loss : 11497.350197919794\n",
      "Average mse loss : 11373.721214738054\n",
      "Average kl loss : 123.62898492007965\n",
      "\n",
      "\n",
      "Printing metrics over the validation subset :\n",
      "Average total loss : 11476.121498761364\n",
      "Average mse loss : 11352.373890295456\n",
      "Average kl loss : 123.74759535227271\n"
     ]
    }
   ],
   "source": [
    "notebook_utils_2.print_vae_metrics(\"20190818_233428\")"
   ]
  },
  {
   "cell_type": "markdown",
   "metadata": {},
   "source": [
    "## VAE + CL with ResNet-152 encoder and num_latent_dims = 64"
   ]
  },
  {
   "cell_type": "code",
   "execution_count": 9,
   "metadata": {},
   "outputs": [
    {
     "name": "stdout",
     "output_type": "stream",
     "text": [
      "Printing metrics over the training subset :\n",
      "Average total loss : 13300.998998612624\n",
      "Average mse loss : 11347.865461457422\n",
      "Average kl loss : 265.96753880284444\n",
      "\n",
      "\n",
      "Printing metrics over the validation subset :\n",
      "Average total loss : 13670.693398215908\n",
      "Average mse loss : 11355.203025107954\n",
      "Average kl loss : 266.6647661477273\n",
      "\n",
      "\n",
      "Printing metrics over the training subset :\n",
      "Average ce loss : 0.42854852924444437\n",
      "Average mse loss : 1686.737450750578\n",
      "Average accuracy : 0.7664444458666668\n",
      "\n",
      "\n",
      "Printing metrics over the validation subset :\n",
      "Average ce loss : 0.4288116818181818\n",
      "Average mse loss : 2048.3967753579545\n",
      "Average accuracy : 0.7687109659090908\n",
      "\n",
      "\n"
     ]
    }
   ],
   "source": [
    "notebook_utils_2.print_vae_metrics(\"20190818_233336\")\n",
    "print(\"\\n\")\n",
    "notebook_utils_2.print_cl_metrics(\"20190818_233336\")"
   ]
  },
  {
   "cell_type": "markdown",
   "metadata": {},
   "source": [
    "## VAE + CL with ResNet-101 encoder and num_latent_dims = 64"
   ]
  },
  {
   "cell_type": "code",
   "execution_count": null,
   "metadata": {},
   "outputs": [],
   "source": [
    "notebook_utils_2.print_vae_metrics(\"20190819_015816\")\n",
    "notebook_utils_2.print_cl_metrics(\"20190819_015816\")"
   ]
  }
 ],
 "metadata": {
  "kernelspec": {
   "display_name": "Python 3",
   "language": "python",
   "name": "python3"
  },
  "language_info": {
   "codemirror_mode": {
    "name": "ipython",
    "version": 3
   },
   "file_extension": ".py",
   "mimetype": "text/x-python",
   "name": "python",
   "nbconvert_exporter": "python",
   "pygments_lexer": "ipython3",
   "version": "3.6.8"
  }
 },
 "nbformat": 4,
 "nbformat_minor": 2
}
