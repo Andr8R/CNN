{
 "cells": [
  {
   "cell_type": "markdown",
   "metadata": {},
   "source": [
    "# August 29 - Training on 9M dataset metrics 2"
   ]
  },
  {
   "cell_type": "markdown",
   "metadata": {},
   "source": [
    "## Final qualitative metric comparison - Delta difference and its uncertainity"
   ]
  },
  {
   "cell_type": "code",
   "execution_count": null,
   "metadata": {},
   "outputs": [],
   "source": [
    "# Default imports\n",
    "import math\n",
    "import os\n",
    "import sys\n",
    "import pandas as pd\n",
    "import numpy as np\n",
    "\n",
    "import matplotlib as mpl\n",
    "import matplotlib.pyplot as plt\n",
    "from matplotlib.colors import LogNorm\n",
    "import matplotlib.ticker as mtick\n",
    "\n",
    "# Add the path to the parent directory to augment search for module\n",
    "par_dir = os.path.abspath(os.path.join(os.getcwd(), os.pardir))\n",
    "if par_dir not in sys.path:\n",
    "    sys.path.append(par_dir)\n",
    "    \n",
    "# Import the custom plotting module\n",
    "from plot_utils import plot_utils\n",
    "import random\n",
    "import torch\n",
    "from plot_utils import notebook_utils_2"
   ]
  },
  {
   "cell_type": "markdown",
   "metadata": {},
   "source": [
    "## Method : Construct 5 dataframes ( one of each number of latent dimensions ), use the dataset index as the index in the dataframe, sort the dataframes, and then compare the values."
   ]
  },
  {
   "cell_type": "code",
   "execution_count": null,
   "metadata": {},
   "outputs": [],
   "source": [
    "latent_dims = [16, 32, 64, 128, 256]\n",
    "dumps = [\"20190829_010238\", \"20190829_010252\", \"20190829_010339\", \"20190829_010405\", \"20190829_010431\"]\n",
    "\n",
    "dump_dfs = []\n",
    "\n",
    "# First check that all the indices from the test validation set exist in all the dumps\n",
    "\n",
    "ldump_idx_arr = None\n",
    "\n",
    "# Iterate over the dumps and check the indices\n",
    "for latent_dim, dump in zip(latent_dims, dumps):\n",
    "    print(\"----------------------------------------------------\")\n",
    "    print(\"Reading metrics from VAE with {0} latent dimensions :\".format(latent_dim))\n",
    "    print(\"----------------------------------------------------\")\n",
    "    \n",
    "    dump_npz_path = \"/home/akajal/WatChMaL/VAE/dumps/{0}/test_valid_iteration_metrics.npz\".format(dump)\n",
    "    dump_npz_arr = np.load(dump_npz_path)\n",
    "    \n",
    "    dump_dfs.append(pd.DataFrame(data={\"index\":dump_npz_arr[\"indices\"], \"recon_loss\":dump_npz_arr[\"recon_loss\"],\n",
    "                                       \"kl_loss\":dump_npz_arr[\"kl_loss\"]}))"
   ]
  },
  {
   "cell_type": "code",
   "execution_count": null,
   "metadata": {},
   "outputs": [],
   "source": [
    "print(dump_dfs[0])"
   ]
  },
  {
   "cell_type": "markdown",
   "metadata": {},
   "source": [
    "### Sort the dataframes using the dataset index as the index"
   ]
  },
  {
   "cell_type": "code",
   "execution_count": null,
   "metadata": {},
   "outputs": [],
   "source": [
    "for df in dump_dfs:\n",
    "    df.sort_values(by=\"index\", inplace=True)"
   ]
  },
  {
   "cell_type": "code",
   "execution_count": null,
   "metadata": {},
   "outputs": [],
   "source": [
    "print(dump_dfs[0])"
   ]
  },
  {
   "cell_type": "code",
   "execution_count": null,
   "metadata": {},
   "outputs": [],
   "source": [
    "print(dump_dfs[1])"
   ]
  },
  {
   "cell_type": "markdown",
   "metadata": {},
   "source": [
    "### Now that we have sorted dfs, find the delta difference for each of the values w.r.t. the reference df"
   ]
  },
  {
   "cell_type": "code",
   "execution_count": null,
   "metadata": {},
   "outputs": [],
   "source": [
    "for df in dump_dfs:\n",
    "    df[\"delta recon_loss\"] = df[\"recon_loss\"].values - dump_dfs[3][\"recon_loss\"].values\n",
    "    df[\"delta kl_loss\"] = df[\"kl_loss\"].values - dump_dfs[3][\"kl_loss\"].values"
   ]
  },
  {
   "cell_type": "code",
   "execution_count": null,
   "metadata": {
    "scrolled": false
   },
   "outputs": [],
   "source": [
    "print(dump_dfs[0])\n",
    "print(dump_dfs[3])"
   ]
  },
  {
   "cell_type": "code",
   "execution_count": null,
   "metadata": {},
   "outputs": [],
   "source": [
    "print(dump_dfs[0][\"delta recon_loss\"].values.shape[0])"
   ]
  },
  {
   "cell_type": "markdown",
   "metadata": {},
   "source": [
    "### For each of the latent dimensions and their corresponding df's, find the mean and stderr of the delta values and plot"
   ]
  },
  {
   "cell_type": "code",
   "execution_count": null,
   "metadata": {},
   "outputs": [],
   "source": [
    "delta_recon_mean, delta_kl_mean, delta_recon_stderr, delta_kl_stderr = [], [], [], []\n",
    "\n",
    "for df in dump_dfs:\n",
    "    delta_recon_loss, delta_kl_loss = df[\"delta recon_loss\"], df[\"delta kl_loss\"]\n",
    "    \n",
    "    delta_recon_mean.append(np.mean(delta_recon_loss.values))\n",
    "    delta_kl_mean.append(np.mean(delta_kl_loss.values))\n",
    "    \n",
    "    delta_recon_stderr.append(np.std(delta_recon_loss.values)/math.sqrt(df[\"delta recon_loss\"].values.shape[0]))\n",
    "    delta_kl_stderr.append(np.std(delta_kl_loss.values)/math.sqrt(df[\"delta kl_loss\"].values.shape[0]))"
   ]
  },
  {
   "cell_type": "code",
   "execution_count": null,
   "metadata": {},
   "outputs": [],
   "source": [
    "print(\"delta recon mean :\", delta_recon_mean)\n",
    "print(\"delta recon stderr :\", delta_recon_stderr)"
   ]
  },
  {
   "cell_type": "code",
   "execution_count": null,
   "metadata": {},
   "outputs": [],
   "source": [
    "print(\"delta kl mean :\", delta_kl_mean)\n",
    "print(\"delta kl stderr :\", delta_kl_stderr)"
   ]
  },
  {
   "cell_type": "markdown",
   "metadata": {},
   "source": [
    "### Plot the metrics collected above"
   ]
  },
  {
   "cell_type": "code",
   "execution_count": null,
   "metadata": {},
   "outputs": [],
   "source": [
    "# Plot the metrics for the training subset\n",
    "\n",
    "# Initialize the plot\n",
    "fig, ax1 = plt.subplots(figsize=(16,9))\n",
    "\n",
    "# Set the x-axes ticks for the plot\n",
    "ax1.set_xticks(latent_dims)\n",
    "\n",
    "# Use the same x-axis to plot the KL loss\n",
    "ax2 = ax1.twinx()\n",
    "\n",
    "# Plot the MSE values collected above\n",
    "ax1.errorbar(latent_dims, delta_recon_mean, yerr=delta_recon_stderr, linestyle='dashed', marker='o',\n",
    "             markersize=10, color=\"blue\", label=r\"Mean $\\Delta$ MSE loss\")\n",
    "\n",
    "# Plot the KL values collected above\n",
    "ax2.errorbar(latent_dims, delta_kl_mean, yerr=delta_kl_stderr, linestyle='dashed', marker='o',\n",
    "             markersize=10, color=\"red\", label=r\"Mean $\\Delta$ KL loss\")\n",
    "\n",
    "# Setup plot characteristics\n",
    "ax1.tick_params(axis=\"x\", labelsize=30)\n",
    "ax1.set_xlabel(\"Number of latent dimensions\", fontsize=30)\n",
    "ax1.set_xscale(\"log\", basex=2)\n",
    "\n",
    "ax1.set_ylabel(r\"$\\Delta$ MSE loss\", fontsize=30, color=\"blue\")\n",
    "ax1.tick_params(axis=\"y\", labelsize=30, colors=\"blue\")\n",
    "\n",
    "ax2.set_ylabel(r\"$\\Delta$ KL loss\", fontsize=30, color=\"red\")\n",
    "ax2.tick_params(axis=\"y\", labelsize=30, colors=\"red\")\n",
    "\n",
    "plt.margins(0.2)\n",
    "ax1.grid(True)\n",
    "ax2.grid(True)\n",
    "plt.title(r\"$\\Delta$ Per-sample Loss vs Latent dimensions\", fontsize=30)\n",
    "\n",
    "lgd = fig.legend(prop={\"size\":25}, loc='center', bbox_to_anchor=(0.5, 0.8))\n",
    "plt.savefig(\"vae_latent_dimension_comparison.svg\", format=\"svg\", dpi=300)"
   ]
  }
 ],
 "metadata": {
  "kernelspec": {
   "display_name": "Python 3",
   "language": "python",
   "name": "python3"
  },
  "language_info": {
   "codemirror_mode": {
    "name": "ipython",
    "version": 3
   },
   "file_extension": ".py",
   "mimetype": "text/x-python",
   "name": "python",
   "nbconvert_exporter": "python",
   "pygments_lexer": "ipython3",
   "version": "3.6.8"
  }
 },
 "nbformat": 4,
 "nbformat_minor": 2
}
