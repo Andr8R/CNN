{
 "cells": [
  {
   "cell_type": "code",
   "execution_count": 4,
   "metadata": {},
   "outputs": [],
   "source": [
    "# Python library and module imports\n",
    "import os\n",
    "import sys\n",
    "import numpy as np\n",
    "import matplotlib.pyplot as plt\n",
    "import math\n",
    "import h5py\n",
    "\n",
    "# Add the path to the parent directory to augment search for module\n",
    "par_dir = os.path.abspath(os.path.join(os.getcwd(), os.pardir))\n",
    "if par_dir not in sys.path:\n",
    "    sys.path.append(par_dir)\n",
    "    \n",
    "# Import the custom plotting module\n",
    "from plot_utils import plot_utils"
   ]
  },
  {
   "cell_type": "code",
   "execution_count": null,
   "metadata": {},
   "outputs": [],
   "source": []
  },
  {
   "cell_type": "code",
   "execution_count": null,
   "metadata": {},
   "outputs": [],
   "source": []
  },
  {
   "cell_type": "code",
   "execution_count": null,
   "metadata": {},
   "outputs": [],
   "source": []
  },
  {
   "cell_type": "code",
   "execution_count": null,
   "metadata": {},
   "outputs": [],
   "source": []
  },
  {
   "cell_type": "code",
   "execution_count": 1,
   "metadata": {},
   "outputs": [],
   "source": [
    "\"\"\"\n",
    "Script for transforming 19-layer mPMT data into a pixel grid array for matplotlib\n",
    "\n",
    "Author: Julian Ding\n",
    "\"\"\"\n",
    "\n",
    "import numpy as np\n",
    "\n",
    "# 10x10 square represents one mPMT\n",
    "# List of top-left pixel positions (row,col) for 2x2 grids representing PMTs 0 to 18\n",
    "POS_MAP = [(8,4), #0\n",
    "           (7,2), #1\n",
    "           (6,0), #2\n",
    "           (4,0), #3\n",
    "           (2,0), #4\n",
    "           (1,1), #5\n",
    "           (0,4), #6\n",
    "           (1,6), #7\n",
    "           (2,8), #8\n",
    "           (4,8), #9\n",
    "           (6,8), #10\n",
    "           (7,6), #11\n",
    "           # Inner ring\n",
    "           (6,4), #12\n",
    "           (5,2), #13\n",
    "           (3,2), #14\n",
    "           (2,4), #15\n",
    "           (3,6), #16\n",
    "           (5,6), #17\n",
    "           (4,4)] #18\n",
    "\n",
    "PADDING = 1\n",
    "\n",
    "def get_plot_array(data):\n",
    "    assert(len(data.shape) == 3 and data.shape[2] == 19)\n",
    "    rows = data.shape[0]\n",
    "    cols = data.shape[1]\n",
    "    # Make empty output pixel grid\n",
    "    output = np.zeroes(((10+PADDING)*rows-1, (10+PADDING*cols)-1))\n",
    "    i, j = 0, 0\n",
    "    for row in range(rows):\n",
    "        for col in range(cols):\n",
    "            pmts = data[row, col]\n",
    "            output = tile(output, (i, j), pmts)\n",
    "            j += 10 + PADDING\n",
    "        i += 10 + PADDING\n",
    "    return output\n",
    "            \n",
    "def tile(canvas, ul, pmts):\n",
    "    # First, create 10x10 grid representing single mpmt\n",
    "    mpmt = np.zeros((10, 10))\n",
    "    for i, val in enumerate(pmts):\n",
    "        mpmt[POS_MAP[i][0]][POS_MAP[i][1]] = val\n",
    "        \n",
    "    # Then, place grid on appropriate position on canvas\n",
    "    for row in range(10):\n",
    "        for col in range(10):\n",
    "            canvas[row+ul[0]][col+ul[1]] = mpmt[row][col]"
   ]
  }
 ],
 "metadata": {
  "kernelspec": {
   "display_name": "Python 3",
   "language": "python",
   "name": "python3"
  },
  "language_info": {
   "codemirror_mode": {
    "name": "ipython",
    "version": 3
   },
   "file_extension": ".py",
   "mimetype": "text/x-python",
   "name": "python",
   "nbconvert_exporter": "python",
   "pygments_lexer": "ipython3",
   "version": "3.6.8"
  }
 },
 "nbformat": 4,
 "nbformat_minor": 2
}
