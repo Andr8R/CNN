{
 "cells": [
  {
   "cell_type": "code",
   "execution_count": 1,
   "metadata": {},
   "outputs": [],
   "source": [
    "import numpy as np\n",
    "import matplotlib.pyplot as plt\n",
    "import h5py\n",
    "from tqdm import tqdm"
   ]
  },
  {
   "cell_type": "code",
   "execution_count": 28,
   "metadata": {},
   "outputs": [],
   "source": [
    "pnet_file = h5py.File('/fast_scratch/WatChMaL/data/IWCDmPMT_4pi_full_tank_pointnet.h5','r')\n",
    "pnet_energies=np.array(pnet_file['energies'])\n",
    "pnet_angles=np.array(pnet_file['angles'])\n",
    "pnet_file.close()"
   ]
  },
  {
   "cell_type": "code",
   "execution_count": 3,
   "metadata": {},
   "outputs": [
    {
     "name": "stdout",
     "output_type": "stream",
     "text": [
      "Variable angles has shape (8834960, 2)\n",
      "Variable energies has shape (8834960, 1)\n",
      "Variable event_hits_index has shape (8834960,)\n",
      "Variable event_ids has shape (8834960,)\n",
      "Variable hit_charge has shape (15815052984,)\n",
      "Variable hit_pmt has shape (15815052984,)\n",
      "Variable hit_time has shape (15815052984,)\n",
      "Variable labels has shape (8834960,)\n",
      "Variable positions has shape (8834960, 1, 3)\n",
      "Variable root_files has shape (8834960,)\n"
     ]
    }
   ],
   "source": [
    "for name in pnet_file.keys():\n",
    "    print(f\"Variable {name} has shape {pnet_file[name].shape}\")"
   ]
  },
  {
   "cell_type": "code",
   "execution_count": 36,
   "metadata": {},
   "outputs": [],
   "source": [
    "pnet_idx_file = np.load('/fast_scratch/WatChMaL/data/IWCD_fulltank_300_pe_idxs.npz',allow_pickle=True)\n",
    "pnet_train_idxs=pnet_idx_file['train_idxs']\n",
    "pnet_test_idxs=pnet_idx_file['test_idxs']\n",
    "pnet_val_idxs=pnet_idx_file['val_idxs']\n",
    "\n",
    "pnet_train_energies=pnet_energies[pnet_train_idxs]\n",
    "pnet_val_energies=pnet_energies[pnet_val_idxs]\n",
    "pnet_train_angles=pnet_angles[pnet_train_idxs]\n",
    "pnet_val_angles=pnet_angles[pnet_val_idxs]"
   ]
  },
  {
   "cell_type": "code",
   "execution_count": 32,
   "metadata": {},
   "outputs": [],
   "source": [
    "cnn_file_tv = h5py.File('/fast_scratch/WatChMaL/data/IWCDmPMT_4pi_fulltank_9M_splits_CNN/IWCDmPMT_4pi_fulltank_9M_trainval.h5', 'r')\n",
    "cnn_tv_energies=np.array(cnn_file_tv['energies'])\n",
    "cnn_tv_angles=np.array(cnn_file_tv['angles'])"
   ]
  },
  {
   "cell_type": "code",
   "execution_count": 33,
   "metadata": {},
   "outputs": [],
   "source": [
    "cnn_idx_file=np.load('/fast_scratch/WatChMaL/data/IWCDmPMT_4pi_fulltank_9M_splits_CNN/IWCDmPMT_4pi_fulltank_9M_trainval_idxs.npz',allow_pickle=True)\n",
    "cnn_train_idxs = cnn_idx_file['train_idxs']\n",
    "cnn_val_idxs=cnn_idx_file['val_idxs']\n",
    "cnn_train_energies = cnn_tv_energies[cnn_train_idxs]\n",
    "cnn_val_energies=cnn_tv_energies[cnn_val_idxs]\n",
    "cnn_train_angles = cnn_tv_angles[cnn_train_idxs]\n",
    "cnn_val_angles = cnn_tv_angles[cnn_val_idxs]"
   ]
  },
  {
   "cell_type": "code",
   "execution_count": 13,
   "metadata": {},
   "outputs": [],
   "source": [
    "cnn_file_test=h5py.File('/data/WatChMaL/data/IWCDmPMT_4pi_fulltank_9M.h5','r')\n",
    "cnn_test_idxs = np.load('/fast_scratch/WatChMaL/data/IWCD_fulltank_300_pe_idxs.npz',allow_pickle=True)['test_idxs']\n",
    "cnn_test_energies=cnn_file_test['energies']"
   ]
  },
  {
   "cell_type": "code",
   "execution_count": 14,
   "metadata": {},
   "outputs": [
    {
     "name": "stderr",
     "output_type": "stream",
     "text": [
      "100%|██████████| 3351020/3351020 [13:44<00:00, 4063.09it/s]\n"
     ]
    }
   ],
   "source": [
    "for i in tqdm(range(len(cnn_test_idxs))):\n",
    "    assert cnn_test_energies[cnn_test_idxs[i]]==pnet_energies[pnet_test_idxs[i]]"
   ]
  },
  {
   "cell_type": "code",
   "execution_count": 24,
   "metadata": {},
   "outputs": [
    {
     "name": "stderr",
     "output_type": "stream",
     "text": [
      "100%|██████████| 4188774/4188774 [00:07<00:00, 541666.02it/s]\n"
     ]
    }
   ],
   "source": [
    "cnn_dict = {}\n",
    "for i in tqdm(range(cnn_train_energies.shape[0])):\n",
    "    cnn_dict[(cnn_train_energies[i][0], cnn_train_angles[i][0])]=True"
   ]
  },
  {
   "cell_type": "code",
   "execution_count": 26,
   "metadata": {},
   "outputs": [
    {
     "name": "stderr",
     "output_type": "stream",
     "text": [
      "100%|██████████| 4188774/4188774 [00:09<00:00, 439329.02it/s]\n"
     ]
    }
   ],
   "source": [
    "for i in tqdm(range(pnet_train_energies.shape[0])):\n",
    "    assert cnn_dict[(pnet_train_energies[i][0], pnet_train_angles[i][0])]"
   ]
  },
  {
   "cell_type": "code",
   "execution_count": 34,
   "metadata": {},
   "outputs": [
    {
     "name": "stderr",
     "output_type": "stream",
     "text": [
      "100%|██████████| 837754/837754 [00:02<00:00, 331553.27it/s]\n"
     ]
    }
   ],
   "source": [
    "cnn_dict = {}\n",
    "for i in tqdm(range(cnn_val_energies.shape[0])):\n",
    "    cnn_dict[(cnn_val_energies[i][0], cnn_val_angles[i][0])]=True"
   ]
  },
  {
   "cell_type": "code",
   "execution_count": 37,
   "metadata": {},
   "outputs": [
    {
     "name": "stderr",
     "output_type": "stream",
     "text": [
      "100%|██████████| 837754/837754 [00:01<00:00, 534025.59it/s]\n"
     ]
    }
   ],
   "source": [
    "for i in tqdm(range(pnet_val_energies.shape[0])):\n",
    "    assert cnn_dict[(pnet_val_energies[i][0], pnet_val_angles[i][0])]"
   ]
  }
 ],
 "metadata": {
  "kernelspec": {
   "display_name": "Python 3",
   "language": "python",
   "name": "python3"
  },
  "language_info": {
   "codemirror_mode": {
    "name": "ipython",
    "version": 3
   },
   "file_extension": ".py",
   "mimetype": "text/x-python",
   "name": "python",
   "nbconvert_exporter": "python",
   "pygments_lexer": "ipython3",
   "version": "3.6.9"
  }
 },
 "nbformat": 4,
 "nbformat_minor": 4
}
