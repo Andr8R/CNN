{
 "cells": [
  {
   "cell_type": "code",
   "execution_count": 3,
   "metadata": {},
   "outputs": [],
   "source": [
    "import sys\n",
    "import os\n",
    "import time\n",
    "import math\n",
    "import random\n",
    "import pdb\n",
    "import h5py\n",
    "import numpy as np"
   ]
  },
  {
   "cell_type": "code",
   "execution_count": 8,
   "metadata": {},
   "outputs": [],
   "source": [
    "# Dictionary mapping the ordinal labels to particle types \n",
    "LABEL_DICT = {0:\"gamma\", 1:\"e\", 2:\"mu\"}\n",
    "\n",
    "# Fix the colour scheme for each particle type\n",
    "COLOR_DICT = {\"gamma\":\"red\", \"e\":\"blue\", \"mu\":\"green\"}"
   ]
  },
  {
   "cell_type": "code",
   "execution_count": 9,
   "metadata": {},
   "outputs": [
    {
     "ename": "KeyError",
     "evalue": "'rootfiles is not a file in the archive'",
     "output_type": "error",
     "traceback": [
      "\u001b[0;31m---------------------------------------------------------------------------\u001b[0m",
      "\u001b[0;31mKeyError\u001b[0m                                  Traceback (most recent call last)",
      "\u001b[0;32m<ipython-input-9-42fa278d94bf>\u001b[0m in \u001b[0;36m<module>\u001b[0;34m\u001b[0m\n\u001b[1;32m     17\u001b[0m \u001b[0mres_labels\u001b[0m   \u001b[0;34m=\u001b[0m \u001b[0mnp\u001b[0m\u001b[0;34m.\u001b[0m\u001b[0mconcatenate\u001b[0m\u001b[0;34m(\u001b[0m\u001b[0mlist\u001b[0m\u001b[0;34m(\u001b[0m\u001b[0;34m[\u001b[0m\u001b[0mbatch_array\u001b[0m \u001b[0;32mfor\u001b[0m \u001b[0mbatch_array\u001b[0m \u001b[0;32min\u001b[0m \u001b[0mtest_dump_np\u001b[0m\u001b[0;34m[\u001b[0m\u001b[0;34m'labels'\u001b[0m\u001b[0;34m]\u001b[0m\u001b[0;34m]\u001b[0m\u001b[0;34m)\u001b[0m\u001b[0;34m)\u001b[0m\u001b[0;34m\u001b[0m\u001b[0;34m\u001b[0m\u001b[0m\n\u001b[1;32m     18\u001b[0m \u001b[0mres_energies\u001b[0m \u001b[0;34m=\u001b[0m \u001b[0mnp\u001b[0m\u001b[0;34m.\u001b[0m\u001b[0mconcatenate\u001b[0m\u001b[0;34m(\u001b[0m\u001b[0mlist\u001b[0m\u001b[0;34m(\u001b[0m\u001b[0;34m[\u001b[0m\u001b[0mbatch_array\u001b[0m \u001b[0;32mfor\u001b[0m \u001b[0mbatch_array\u001b[0m \u001b[0;32min\u001b[0m \u001b[0mtest_dump_np\u001b[0m\u001b[0;34m[\u001b[0m\u001b[0;34m'energies'\u001b[0m\u001b[0;34m]\u001b[0m\u001b[0;34m]\u001b[0m\u001b[0;34m)\u001b[0m\u001b[0;34m)\u001b[0m\u001b[0;34m\u001b[0m\u001b[0;34m\u001b[0m\u001b[0m\n\u001b[0;32m---> 19\u001b[0;31m \u001b[0mres_rootfiles\u001b[0m \u001b[0;34m=\u001b[0m \u001b[0mnp\u001b[0m\u001b[0;34m.\u001b[0m\u001b[0mconcatenate\u001b[0m\u001b[0;34m(\u001b[0m\u001b[0mlist\u001b[0m\u001b[0;34m(\u001b[0m\u001b[0;34m[\u001b[0m\u001b[0mbatch_array\u001b[0m \u001b[0;32mfor\u001b[0m \u001b[0mbatch_array\u001b[0m \u001b[0;32min\u001b[0m \u001b[0mtest_dump_np\u001b[0m\u001b[0;34m[\u001b[0m\u001b[0;34m'rootfiles'\u001b[0m\u001b[0;34m]\u001b[0m\u001b[0;34m]\u001b[0m\u001b[0;34m)\u001b[0m\u001b[0;34m)\u001b[0m\u001b[0;34m\u001b[0m\u001b[0;34m\u001b[0m\u001b[0m\n\u001b[0m\u001b[1;32m     20\u001b[0m \u001b[0mres_eventids\u001b[0m \u001b[0;34m=\u001b[0m \u001b[0mnp\u001b[0m\u001b[0;34m.\u001b[0m\u001b[0mconcatenate\u001b[0m\u001b[0;34m(\u001b[0m\u001b[0mlist\u001b[0m\u001b[0;34m(\u001b[0m\u001b[0;34m[\u001b[0m\u001b[0mbatch_array\u001b[0m \u001b[0;32mfor\u001b[0m \u001b[0mbatch_array\u001b[0m \u001b[0;32min\u001b[0m \u001b[0mtest_dump_np\u001b[0m\u001b[0;34m[\u001b[0m\u001b[0;34m'eventids'\u001b[0m\u001b[0;34m]\u001b[0m\u001b[0;34m]\u001b[0m\u001b[0;34m)\u001b[0m\u001b[0;34m)\u001b[0m\u001b[0;34m\u001b[0m\u001b[0;34m\u001b[0m\u001b[0m\n\u001b[1;32m     21\u001b[0m \u001b[0;31m#res_positions = test_dump_np['positions'].reshape(-1)\u001b[0m\u001b[0;34m\u001b[0m\u001b[0;34m\u001b[0m\u001b[0;34m\u001b[0m\u001b[0m\n",
      "\u001b[0;32m~/.local/lib/python3.6/site-packages/numpy/lib/npyio.py\u001b[0m in \u001b[0;36m__getitem__\u001b[0;34m(self, key)\u001b[0m\n\u001b[1;32m    264\u001b[0m                 \u001b[0;32mreturn\u001b[0m \u001b[0mself\u001b[0m\u001b[0;34m.\u001b[0m\u001b[0mzip\u001b[0m\u001b[0;34m.\u001b[0m\u001b[0mread\u001b[0m\u001b[0;34m(\u001b[0m\u001b[0mkey\u001b[0m\u001b[0;34m)\u001b[0m\u001b[0;34m\u001b[0m\u001b[0;34m\u001b[0m\u001b[0m\n\u001b[1;32m    265\u001b[0m         \u001b[0;32melse\u001b[0m\u001b[0;34m:\u001b[0m\u001b[0;34m\u001b[0m\u001b[0;34m\u001b[0m\u001b[0m\n\u001b[0;32m--> 266\u001b[0;31m             \u001b[0;32mraise\u001b[0m \u001b[0mKeyError\u001b[0m\u001b[0;34m(\u001b[0m\u001b[0;34m\"%s is not a file in the archive\"\u001b[0m \u001b[0;34m%\u001b[0m \u001b[0mkey\u001b[0m\u001b[0;34m)\u001b[0m\u001b[0;34m\u001b[0m\u001b[0;34m\u001b[0m\u001b[0m\n\u001b[0m\u001b[1;32m    267\u001b[0m \u001b[0;34m\u001b[0m\u001b[0m\n\u001b[1;32m    268\u001b[0m \u001b[0;34m\u001b[0m\u001b[0m\n",
      "\u001b[0;31mKeyError\u001b[0m: 'rootfiles is not a file in the archive'"
     ]
    }
   ],
   "source": [
    "fprs = []\n",
    "tprs = []\n",
    "thresholds = []\n",
    "\n",
    "run_id = \"/tia_test\"\n",
    "\n",
    "dump_dir = \"/home/cmacdonald/CNN/dumps\"\n",
    "dump_file = \"/test_validation_iteration_dump.npz\"\n",
    "\n",
    "softmax_index_dict = {value:key for key, value in LABEL_DICT.items()}\n",
    "    \n",
    "test_dump_path = dump_dir + run_id + dump_file\n",
    "test_dump_np = np.load(test_dump_path, allow_pickle=True)\n",
    "\n",
    "res_predictedlabels = np.concatenate(list([batch_array for batch_array in test_dump_np['predicted_labels']]))\n",
    "res_softmaxes  = np.concatenate(list([batch_array for batch_array in test_dump_np['softmax']]))\n",
    "res_labels   = np.concatenate(list([batch_array for batch_array in test_dump_np['labels']]))\n",
    "res_energies = np.concatenate(list([batch_array for batch_array in test_dump_np['energies']]))\n",
    "res_rootfiles = np.concatenate(list([batch_array for batch_array in test_dump_np['rootfiles']]))\n",
    "res_eventids = np.concatenate(list([batch_array for batch_array in test_dump_np['eventids']]))\n",
    "#res_positions = test_dump_np['positions'].reshape(-1)\n",
    "res_angles = np.concatenate(list([batch_array for batch_array in test_dump_np['angles']]))"
   ]
  },
  {
   "cell_type": "code",
   "execution_count": null,
   "metadata": {},
   "outputs": [],
   "source": []
  }
 ],
 "metadata": {
  "kernelspec": {
   "display_name": "Python 3",
   "language": "python",
   "name": "python3"
  },
  "language_info": {
   "codemirror_mode": {
    "name": "ipython",
    "version": 3
   },
   "file_extension": ".py",
   "mimetype": "text/x-python",
   "name": "python",
   "nbconvert_exporter": "python",
   "pygments_lexer": "ipython3",
   "version": "3.6.9"
  }
 },
 "nbformat": 4,
 "nbformat_minor": 4
}
