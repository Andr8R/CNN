{
 "cells": [
  {
   "cell_type": "markdown",
   "metadata": {},
   "source": [
    "# Mapping Previous Test Results\n",
    "### Calum Macdonald\n",
    "## Create mapping indices to reorder Tia's results in h5 test set ordering"
   ]
  },
  {
   "cell_type": "code",
   "execution_count": 7,
   "metadata": {},
   "outputs": [],
   "source": [
    "import sys\n",
    "import os\n",
    "import time\n",
    "import math\n",
    "import random\n",
    "import pdb\n",
    "import h5py\n",
    "import numpy as np\n",
    "from progressbar import *\n",
    "from tqdm.notebook import tnrange"
   ]
  },
  {
   "cell_type": "code",
   "execution_count": 8,
   "metadata": {},
   "outputs": [],
   "source": [
    "# Dictionary mapping the ordinal labels to particle types \n",
    "LABEL_DICT = {0:\"gamma\", 1:\"e\", 2:\"mu\"}\n",
    "\n",
    "# Fix the colour scheme for each particle type\n",
    "COLOR_DICT = {\"gamma\":\"red\", \"e\":\"blue\", \"mu\":\"green\"}"
   ]
  },
  {
   "cell_type": "markdown",
   "metadata": {},
   "source": [
    "### Load Tia's data"
   ]
  },
  {
   "cell_type": "code",
   "execution_count": 9,
   "metadata": {},
   "outputs": [],
   "source": [
    "fprs = []\n",
    "tprs = []\n",
    "thresholds = []\n",
    "\n",
    "run_id = \"/resnet_results\"\n",
    "\n",
    "dump_dir = \"/data/WatChMaL/data\"\n",
    "dump_file = \"/test_validation_iteration_dump.npz\"\n",
    "\n",
    "softmax_index_dict = {value:key for key, value in LABEL_DICT.items()}\n",
    "    \n",
    "test_dump_path = dump_dir + run_id + dump_file\n",
    "test_dump_np = np.load(test_dump_path, allow_pickle=True)\n",
    "\n",
    "res_predictedlabels = np.concatenate(list([batch_array for batch_array in test_dump_np['predicted_labels']]))\n",
    "res_softmaxes  = np.concatenate(list([batch_array for batch_array in test_dump_np['softmax']]))\n",
    "res_labels   = np.concatenate(list([batch_array for batch_array in test_dump_np['labels']]))\n",
    "res_energies = np.concatenate(list([batch_array for batch_array in test_dump_np['energies']]))\n",
    "res_rootfiles = np.concatenate(list([batch_array for batch_array in test_dump_np['rootfiles']]))\n",
    "res_eventids = np.concatenate(list([batch_array for batch_array in test_dump_np['eventids']]))\n",
    "#res_positions = test_dump_np['positions'].reshape(-1)\n",
    "res_angles = np.concatenate(list([batch_array for batch_array in test_dump_np['angles']]))"
   ]
  },
  {
   "cell_type": "markdown",
   "metadata": {},
   "source": [
    "### Load h5 data"
   ]
  },
  {
   "cell_type": "code",
   "execution_count": 10,
   "metadata": {},
   "outputs": [
    {
     "name": "stdout",
     "output_type": "stream",
     "text": [
      "(3351020,)\n"
     ]
    }
   ],
   "source": [
    "# Import test events from h5 file\n",
    "filtered_index = \"/fast_scratch/WatChMaL/data/IWCD_fulltank_300_pe_idxs.npz\"\n",
    "filtered_indices = np.load(filtered_index, allow_pickle=True)\n",
    "test_filtered_indices = filtered_indices['test_idxs']\n",
    "print(test_filtered_indices.shape)\n",
    "\n",
    "original_data_path = \"/data/WatChMaL/data/IWCDmPMT_4pi_fulltank_9M.h5\"\n",
    "f = h5py.File(original_data_path, \"r\")\n",
    "\n",
    "hdf5_event_data = (f[\"event_data\"])\n",
    "original_eventdata = np.memmap(original_data_path, mode=\"r\", shape=hdf5_event_data.shape,\n",
    "                                    offset=hdf5_event_data.id.get_offset(), dtype=hdf5_event_data.dtype)\n",
    "\n",
    "original_eventids = np.array(f['event_ids'])\n",
    "original_rootfiles = np.array(f['root_files'])\n",
    "original_energies = np.array(f['energies'])\n",
    "original_positions = np.array(f['positions'])\n",
    "original_angles = np.array(f['angles'])\n",
    "original_labels = np.array(f['labels'])\n",
    "\n",
    "#filtered_eventdata = original_eventdata[test_filtered_indices]\n",
    "filtered_eventids = original_eventids[test_filtered_indices]\n",
    "filtered_rootfiles = original_rootfiles[test_filtered_indices]\n",
    "filtered_energies = original_energies[test_filtered_indices]\n",
    "filtered_positions = original_positions[test_filtered_indices]\n",
    "filtered_angles = original_angles[test_filtered_indices]\n",
    "filtered_labels = original_labels[test_filtered_indices]"
   ]
  },
  {
   "cell_type": "markdown",
   "metadata": {},
   "source": [
    "### Create mapping indices"
   ]
  },
  {
   "cell_type": "code",
   "execution_count": 5,
   "metadata": {},
   "outputs": [
    {
     "data": {
      "application/vnd.jupyter.widget-view+json": {
       "model_id": "0ca2e471fba14485a2319345a82544c4",
       "version_major": 2,
       "version_minor": 0
      },
      "text/plain": [
       "HBox(children=(IntProgress(value=0, max=3351020), HTML(value='')))"
      ]
     },
     "metadata": {},
     "output_type": "display_data"
    },
    {
     "name": "stdout",
     "output_type": "stream",
     "text": [
      "\n"
     ]
    }
   ],
   "source": [
    "mapping_indices = np.array([])\n",
    "for i in tnrange(filtered_rootfiles.shape[0]):\n",
    "    id_index = np.where(res_eventids == filtered_eventids[i])[0]\n",
    "    mapping_indices = np.append(mapping_indices, id_index[np.where((res_rootfiles[id_index] == filtered_rootfiles[i]))[0]])\n",
    "np.savez(os.path.join(os.getcwd(),'map_indices_previous_resnet'), mapping_indices)    "
   ]
  },
  {
   "cell_type": "markdown",
   "metadata": {},
   "source": [
    "### Check Them"
   ]
  },
  {
   "cell_type": "code",
   "execution_count": 14,
   "metadata": {},
   "outputs": [],
   "source": [
    "mapping_indices = np.load(os.path.join(os.getcwd(),'/Index_Storage/map_indices_previous_resnet.npz'),allow_pickle=True)['arr_0']\n",
    "ordered_rn_eventids = res_eventids[mapping_indices.astype(int)]\n",
    "ordered_rn_rootfiles = res_rootfiles[mapping_indices.astype(int)]"
   ]
  },
  {
   "cell_type": "code",
   "execution_count": 18,
   "metadata": {},
   "outputs": [
    {
     "data": {
      "application/vnd.jupyter.widget-view+json": {
       "model_id": "e84a95de23b64de5a61316ba10a2dae8",
       "version_major": 2,
       "version_minor": 0
      },
      "text/plain": [
       "HBox(children=(IntProgress(value=0, max=3351020), HTML(value='')))"
      ]
     },
     "metadata": {},
     "output_type": "display_data"
    },
    {
     "name": "stdout",
     "output_type": "stream",
     "text": [
      "\n",
      "Success! We have mapping indices to reorder Tia's results.\n"
     ]
    }
   ],
   "source": [
    "for i in tnrange(mapping_indices.shape[0]):\n",
    "    assert filtered_eventids[i] == ordered_rn_eventids[i]\n",
    "    assert filtered_rootfiles[i] == ordered_rn_rootfiles[i]\n",
    "print('Success! We have mapping indices to reorder Tia\\'s results.')"
   ]
  }
 ],
 "metadata": {
  "kernelspec": {
   "display_name": "Python 3",
   "language": "python",
   "name": "python3"
  },
  "language_info": {
   "codemirror_mode": {
    "name": "ipython",
    "version": 3
   },
   "file_extension": ".py",
   "mimetype": "text/x-python",
   "name": "python",
   "nbconvert_exporter": "python",
   "pygments_lexer": "ipython3",
   "version": "3.6.9"
  }
 },
 "nbformat": 4,
 "nbformat_minor": 4
}
