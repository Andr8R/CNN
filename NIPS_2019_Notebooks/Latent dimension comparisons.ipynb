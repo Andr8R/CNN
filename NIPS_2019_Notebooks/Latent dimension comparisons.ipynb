{
 "cells": [
  {
   "cell_type": "markdown",
   "metadata": {},
   "source": [
    "# Latent dimension comparisons"
   ]
  },
  {
   "cell_type": "markdown",
   "metadata": {},
   "source": [
    "## Goal - Compare the `average per sample mse loss` and `average per sample kl loss` for different number of latent dimensions to determine what number of latent dimensions to use for the VAE"
   ]
  },
  {
   "cell_type": "markdown",
   "metadata": {},
   "source": [
    "### Imports"
   ]
  },
  {
   "cell_type": "code",
   "execution_count": 4,
   "metadata": {},
   "outputs": [],
   "source": [
    "import numpy as np\n",
    "import math"
   ]
  },
  {
   "cell_type": "markdown",
   "metadata": {},
   "source": [
    "### Check the validity of the dumped arrays by ensuring that all the samples used for testing are present in the validation for all the latent dimension tests"
   ]
  },
  {
   "cell_type": "code",
   "execution_count": 2,
   "metadata": {},
   "outputs": [
    {
     "name": "stdout",
     "output_type": "stream",
     "text": [
      "----------------------------------------------------\n",
      "Reading metrics from VAE with 16 latent dimensions :\n",
      "----------------------------------------------------\n",
      "----------------------------------------------------\n",
      "Reading metrics from VAE with 32 latent dimensions :\n",
      "----------------------------------------------------\n",
      "Index array equal to the first index array\n",
      "----------------------------------------------------\n",
      "Reading metrics from VAE with 64 latent dimensions :\n",
      "----------------------------------------------------\n",
      "Index array equal to the first index array\n",
      "----------------------------------------------------\n",
      "Reading metrics from VAE with 128 latent dimensions :\n",
      "----------------------------------------------------\n",
      "Index array equal to the first index array\n",
      "----------------------------------------------------\n",
      "Reading metrics from VAE with 256 latent dimensions :\n",
      "----------------------------------------------------\n",
      "Index array equal to the first index array\n"
     ]
    }
   ],
   "source": [
    "latent_dims = [16, 32, 64, 128, 256]\n",
    "dumps = [\"20190829_010238\", \"20190829_010252\", \"20190829_010339\", \"20190829_010405\", \"20190829_010431\"]\n",
    "\n",
    "# First check that all the indices from the test validation set exist in all the dumps\n",
    "\n",
    "ldump_idx_arr = None\n",
    "\n",
    "# Iterate over the dumps and check the indices\n",
    "for latent_dim, dump in zip(latent_dims, dumps):\n",
    "    print(\"----------------------------------------------------\")\n",
    "    print(\"Reading metrics from VAE with {0} latent dimensions :\".format(latent_dim))\n",
    "    print(\"----------------------------------------------------\")\n",
    "    \n",
    "    dump_npz_path = \"/home/akajal/WatChMaL/VAE/dumps/{0}/test_valid_iteration_metrics.npz\".format(dump)\n",
    "    dump_npz_arr = np.load(dump_npz_path)\n",
    "    \n",
    "    dump_indices = np.sort(dump_npz_arr[\"indices\"])\n",
    "    \n",
    "    if ldump_idx_arr is not None:\n",
    "        if not np.array_equal(dump_indices, ldump_idx_arr):\n",
    "            print(\"Index array for latent dims {0} not equal to all the other.\".format(latent_dim))\n",
    "        else:\n",
    "            print(\"Index array equal to the first index array\")\n",
    "    else:\n",
    "        ldump_idx_arr = dump_indices"
   ]
  },
  {
   "cell_type": "markdown",
   "metadata": {},
   "source": [
    "### For each configuration of the latent dimensions, print the `average per sample mse loss` with its `standard deviation` and `standard error` and print the `average per sample kl loss` with its `standard deviation` and `standard error`"
   ]
  },
  {
   "cell_type": "code",
   "execution_count": 5,
   "metadata": {},
   "outputs": [
    {
     "name": "stdout",
     "output_type": "stream",
     "text": [
      "----------------------------------------------------\n",
      "Printing metrics for VAE with 16 latent dimensions :\n",
      "----------------------------------------------------\n",
      "Recon Loss metrics\n",
      "Mean Recon loss : 8958.9755859375\n",
      "Std Recon loss : 5998.86669921875\n",
      "Stderr Recon loss : 6.327784681298076\n",
      "\n",
      "KL Loss metrics\n",
      "Mean KL loss : 54.29353332519531\n",
      "Std KL loss : 25.35870933532715\n",
      "Stderr KL loss : 0.026749127879516207\n",
      "----------------------------------------------------\n",
      "Printing metrics for VAE with 32 latent dimensions :\n",
      "----------------------------------------------------\n",
      "Recon Loss metrics\n",
      "Mean Recon loss : 8853.7060546875\n",
      "Std Recon loss : 6004.27734375\n",
      "Stderr Recon loss : 6.333491991578074\n",
      "\n",
      "KL Loss metrics\n",
      "Mean KL loss : 54.090919494628906\n",
      "Std KL loss : 22.656230926513672\n",
      "Stderr KL loss : 0.02389847252505471\n",
      "----------------------------------------------------\n",
      "Printing metrics for VAE with 64 latent dimensions :\n",
      "----------------------------------------------------\n",
      "Recon Loss metrics\n",
      "Mean Recon loss : 8750.421875\n",
      "Std Recon loss : 5828.59130859375\n",
      "Stderr Recon loss : 6.148173087571673\n",
      "\n",
      "KL Loss metrics\n",
      "Mean KL loss : 58.131736755371094\n",
      "Std KL loss : 65.79596710205078\n",
      "Stderr KL loss : 0.06940356130496625\n",
      "----------------------------------------------------\n",
      "Printing metrics for VAE with 128 latent dimensions :\n",
      "----------------------------------------------------\n",
      "Recon Loss metrics\n",
      "Mean Recon loss : 8734.716796875\n",
      "Std Recon loss : 5774.64404296875\n",
      "Stderr Recon loss : 6.091267892284662\n",
      "\n",
      "KL Loss metrics\n",
      "Mean KL loss : 58.627201080322266\n",
      "Std KL loss : 51.767784118652344\n",
      "Stderr KL loss : 0.05460621276572377\n",
      "----------------------------------------------------\n",
      "Printing metrics for VAE with 256 latent dimensions :\n",
      "----------------------------------------------------\n",
      "Recon Loss metrics\n",
      "Mean Recon loss : 8924.580078125\n",
      "Std Recon loss : 5943.2880859375\n",
      "Stderr Recon loss : 6.2691586915299276\n",
      "\n",
      "KL Loss metrics\n",
      "Mean KL loss : 72.99701690673828\n",
      "Std KL loss : 34.930240631103516\n",
      "Stderr KL loss : 0.03684546642924037\n"
     ]
    }
   ],
   "source": [
    "# Collect the metrics for plotting as well\n",
    "recon_loss_values, kl_loss_values = [], []\n",
    "recon_std_values, kl_std_values = [], []\n",
    "recon_stderr_values, kl_stderr_values = [], []\n",
    "\n",
    "# Iterate over the dumps and check the indices\n",
    "for latent_dim, dump in zip(latent_dims, dumps):\n",
    "    print(\"----------------------------------------------------\")\n",
    "    print(\"Printing metrics for VAE with {0} latent dimensions :\".format(latent_dim))\n",
    "    print(\"----------------------------------------------------\")\n",
    "    \n",
    "    dump_npz_path = \"/home/akajal/WatChMaL/VAE/dumps/{0}/test_valid_iteration_metrics.npz\".format(dump)\n",
    "    npz_arr = np.load(dump_npz_path)\n",
    "    \n",
    "    dump_recon_loss, dump_kl_loss = npz_arr[\"recon_loss\"], npz_arr[\"kl_loss\"]\n",
    "    \n",
    "    mean_recon_loss, std_recon_loss = np.mean(dump_recon_loss), np.std(dump_recon_loss)\n",
    "    stderr_recon_loss = std_recon_loss/math.sqrt(dump_recon_loss.shape[0])\n",
    "    \n",
    "    recon_loss_values.append(mean_recon_loss)\n",
    "    recon_std_values.append(std_recon_loss)\n",
    "    recon_stderr_values.append(stderr_recon_loss)\n",
    "    \n",
    "    mean_kl_loss, std_kl_loss = np.mean(dump_kl_loss), np.std(dump_kl_loss)\n",
    "    stderr_kl_loss = std_kl_loss/math.sqrt(dump_kl_loss.shape[0])\n",
    "    \n",
    "    kl_loss_values.append(mean_kl_loss)\n",
    "    kl_std_values.append(std_kl_loss)\n",
    "    kl_stderr_values.append(stderr_kl_loss)\n",
    "    \n",
    "    print(\"Recon Loss metrics\")\n",
    "    print(\"Mean Recon loss : {0}\".format(mean_recon_loss))\n",
    "    print(\"Std Recon loss : {0}\".format(std_recon_loss))\n",
    "    print(\"Stderr Recon loss : {0}\\n\".format(stderr_recon_loss))\n",
    "    \n",
    "    print(\"KL Loss metrics\")\n",
    "    print(\"Mean KL loss : {0}\".format(mean_kl_loss))\n",
    "    print(\"Std KL loss : {0}\".format(std_kl_loss))\n",
    "    print(\"Stderr KL loss : {0}\".format(stderr_kl_loss))"
   ]
  },
  {
   "cell_type": "code",
   "execution_count": null,
   "metadata": {},
   "outputs": [],
   "source": []
  }
 ],
 "metadata": {
  "kernelspec": {
   "display_name": "Python 3",
   "language": "python",
   "name": "python3"
  },
  "language_info": {
   "codemirror_mode": {
    "name": "ipython",
    "version": 3
   },
   "file_extension": ".py",
   "mimetype": "text/x-python",
   "name": "python",
   "nbconvert_exporter": "python",
   "pygments_lexer": "ipython3",
   "version": "3.6.8"
  }
 },
 "nbformat": 4,
 "nbformat_minor": 2
}
